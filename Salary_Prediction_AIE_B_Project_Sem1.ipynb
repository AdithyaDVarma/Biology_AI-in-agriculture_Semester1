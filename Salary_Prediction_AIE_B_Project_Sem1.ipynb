{
  "cells": [
    {
      "cell_type": "markdown",
      "metadata": {
        "id": "view-in-github",
        "colab_type": "text"
      },
      "source": [
        "<a href=\"https://colab.research.google.com/github/AdithyaDVarma/Biology_AI-in-agriculture_Semester1/blob/main/Salary_Prediction_AIE_B_Project_Sem1.ipynb\" target=\"_parent\"><img src=\"https://colab.research.google.com/assets/colab-badge.svg\" alt=\"Open In Colab\"/></a>"
      ]
    },
    {
      "cell_type": "code",
      "execution_count": 555,
      "metadata": {
        "id": "SjLA6oWjJYRS"
      },
      "outputs": [],
      "source": [
        "# importing the necessary modules and packages\n",
        "import os\n",
        "import numpy as np  \n",
        "import pandas as pd  \n",
        "import matplotlib.pyplot as plt  \n",
        "import seaborn as sns  \n",
        "from sklearn import linear_model \n",
        "import statsmodels.formula.api as smf"
      ]
    },
    {
      "cell_type": "markdown",
      "metadata": {
        "id": "X49yzfZpeZeP"
      },
      "source": [
        "**DATA HANDLING**"
      ]
    },
    {
      "cell_type": "code",
      "source": [
        "#Creating the YearsExperience vs Salary data using training set csv\n",
        "import csv\n",
        "import random\n",
        "f=open(\"Trainingset.csv\",\"w\")\n",
        "w=csv.writer(f)\n",
        "w.writerow([\"Age\",\"YearsExperience\",\"Years of Education\",\"QYearsExperience\",\"CYearsExperience\",\"CombinedParameter\",\"Salary\"])\n",
        "\n",
        "for i in range(500):\n",
        "  age=random.uniform(24,65)\n",
        "  if age>=24 and age<=30:\n",
        "      exp=random.uniform(1,4.3)\n",
        "      educ=random.randint(3,6)\n",
        "      sal=random.uniform(40000.7,60000.54)\n",
        "  elif age>=31 and age<=40:\n",
        "      exp=random.uniform(4.6,7.8)\n",
        "      educ=random.randint(3,7)\n",
        "      sal=random.uniform(50000.7,80000.54)\n",
        "  elif age>=41 and age<=50:\n",
        "      exp=random.uniform(7,12)\n",
        "      educ=random.randint(5,9)\n",
        "      sal=random.uniform(60000.7,90000.54)\n",
        "  elif age>=51:\n",
        "      exp=random.uniform(12,20)\n",
        "      educ=random.randint(3,9)\n",
        "      sal=random.uniform(50000.7,100000.54)\n",
        "      w.writerow([age,exp,educ,exp**2,exp**3,(age+exp)*educ,sal])\n",
        "f.close()\n",
        "\n",
        "f=open(\"Testset.csv\",\"w\")\n",
        "w=csv.writer(f)\n",
        "w.writerow([\"Age\",\"YearsExperience\",\"Years of Education\",\"QYearsExperience\",\"CYearsExperience\",\"CombinedParameter\",\"Salary\"])\n",
        "\n",
        "for i in range(500):\n",
        "  age=random.uniform(24,65)\n",
        "  if age>=24 and age<=30:\n",
        "      exp=random.uniform(1,4.3)\n",
        "      educ=random.randint(3,6)\n",
        "      sal=random.uniform(40000.7,60000.54)\n",
        "  elif age>=31 and age<=40:\n",
        "      exp=random.uniform(4.6,7.8)\n",
        "      educ=random.randint(3,7)\n",
        "      sal=random.uniform(50000.7,80000.54)\n",
        "  elif age>=41 and age<=50:\n",
        "      exp=random.uniform(7,12)\n",
        "      educ=random.randint(5,9)\n",
        "      sal=random.uniform(60000.7,90000.54)\n",
        "  elif age>=51:\n",
        "      exp=random.uniform(12,20)\n",
        "      educ=random.randint(3,9)\n",
        "      sal=random.uniform(50000.7,100000.54)\n",
        "      w.writerow([age,exp,educ,exp**2,exp**3,(age+exp)*educ,sal])\n",
        "f.close()\n",
        "\n",
        "\n"
      ],
      "metadata": {
        "id": "-zVrGlSxjLXY"
      },
      "execution_count": 556,
      "outputs": []
    },
    {
      "cell_type": "code",
      "execution_count": 557,
      "metadata": {
        "colab": {
          "base_uri": "https://localhost:8080/",
          "height": 206
        },
        "id": "Wf51Sg-cae6G",
        "outputId": "244fba43-f057-4692-9290-f7345ff61cca"
      },
      "outputs": [
        {
          "output_type": "execute_result",
          "data": {
            "text/plain": [
              "         Age  YearsExperience  Years of Education  QYearsExperience  \\\n",
              "0  59.736875        14.069381                   4        197.947482   \n",
              "1  64.525825        13.585205                   6        184.557800   \n",
              "2  51.602862        18.737861                   7        351.107451   \n",
              "3  64.335943        13.116017                   6        172.029900   \n",
              "4  54.868062        16.246028                   9        263.933438   \n",
              "\n",
              "   CYearsExperience  CombinedParameter        Salary  \n",
              "0       2784.998537         295.225026  52477.984042  \n",
              "1       2507.255581         468.666181  75470.156254  \n",
              "2       6579.002768         492.385065  54575.688348  \n",
              "3       2256.347083         464.711761  86959.445371  \n",
              "4       4287.870130         640.026815  93443.204583  "
            ],
            "text/html": [
              "\n",
              "  <div id=\"df-5e7f384f-61b6-44fa-9754-997fd643a655\">\n",
              "    <div class=\"colab-df-container\">\n",
              "      <div>\n",
              "<style scoped>\n",
              "    .dataframe tbody tr th:only-of-type {\n",
              "        vertical-align: middle;\n",
              "    }\n",
              "\n",
              "    .dataframe tbody tr th {\n",
              "        vertical-align: top;\n",
              "    }\n",
              "\n",
              "    .dataframe thead th {\n",
              "        text-align: right;\n",
              "    }\n",
              "</style>\n",
              "<table border=\"1\" class=\"dataframe\">\n",
              "  <thead>\n",
              "    <tr style=\"text-align: right;\">\n",
              "      <th></th>\n",
              "      <th>Age</th>\n",
              "      <th>YearsExperience</th>\n",
              "      <th>Years of Education</th>\n",
              "      <th>QYearsExperience</th>\n",
              "      <th>CYearsExperience</th>\n",
              "      <th>CombinedParameter</th>\n",
              "      <th>Salary</th>\n",
              "    </tr>\n",
              "  </thead>\n",
              "  <tbody>\n",
              "    <tr>\n",
              "      <th>0</th>\n",
              "      <td>59.736875</td>\n",
              "      <td>14.069381</td>\n",
              "      <td>4</td>\n",
              "      <td>197.947482</td>\n",
              "      <td>2784.998537</td>\n",
              "      <td>295.225026</td>\n",
              "      <td>52477.984042</td>\n",
              "    </tr>\n",
              "    <tr>\n",
              "      <th>1</th>\n",
              "      <td>64.525825</td>\n",
              "      <td>13.585205</td>\n",
              "      <td>6</td>\n",
              "      <td>184.557800</td>\n",
              "      <td>2507.255581</td>\n",
              "      <td>468.666181</td>\n",
              "      <td>75470.156254</td>\n",
              "    </tr>\n",
              "    <tr>\n",
              "      <th>2</th>\n",
              "      <td>51.602862</td>\n",
              "      <td>18.737861</td>\n",
              "      <td>7</td>\n",
              "      <td>351.107451</td>\n",
              "      <td>6579.002768</td>\n",
              "      <td>492.385065</td>\n",
              "      <td>54575.688348</td>\n",
              "    </tr>\n",
              "    <tr>\n",
              "      <th>3</th>\n",
              "      <td>64.335943</td>\n",
              "      <td>13.116017</td>\n",
              "      <td>6</td>\n",
              "      <td>172.029900</td>\n",
              "      <td>2256.347083</td>\n",
              "      <td>464.711761</td>\n",
              "      <td>86959.445371</td>\n",
              "    </tr>\n",
              "    <tr>\n",
              "      <th>4</th>\n",
              "      <td>54.868062</td>\n",
              "      <td>16.246028</td>\n",
              "      <td>9</td>\n",
              "      <td>263.933438</td>\n",
              "      <td>4287.870130</td>\n",
              "      <td>640.026815</td>\n",
              "      <td>93443.204583</td>\n",
              "    </tr>\n",
              "  </tbody>\n",
              "</table>\n",
              "</div>\n",
              "      <button class=\"colab-df-convert\" onclick=\"convertToInteractive('df-5e7f384f-61b6-44fa-9754-997fd643a655')\"\n",
              "              title=\"Convert this dataframe to an interactive table.\"\n",
              "              style=\"display:none;\">\n",
              "        \n",
              "  <svg xmlns=\"http://www.w3.org/2000/svg\" height=\"24px\"viewBox=\"0 0 24 24\"\n",
              "       width=\"24px\">\n",
              "    <path d=\"M0 0h24v24H0V0z\" fill=\"none\"/>\n",
              "    <path d=\"M18.56 5.44l.94 2.06.94-2.06 2.06-.94-2.06-.94-.94-2.06-.94 2.06-2.06.94zm-11 1L8.5 8.5l.94-2.06 2.06-.94-2.06-.94L8.5 2.5l-.94 2.06-2.06.94zm10 10l.94 2.06.94-2.06 2.06-.94-2.06-.94-.94-2.06-.94 2.06-2.06.94z\"/><path d=\"M17.41 7.96l-1.37-1.37c-.4-.4-.92-.59-1.43-.59-.52 0-1.04.2-1.43.59L10.3 9.45l-7.72 7.72c-.78.78-.78 2.05 0 2.83L4 21.41c.39.39.9.59 1.41.59.51 0 1.02-.2 1.41-.59l7.78-7.78 2.81-2.81c.8-.78.8-2.07 0-2.86zM5.41 20L4 18.59l7.72-7.72 1.47 1.35L5.41 20z\"/>\n",
              "  </svg>\n",
              "      </button>\n",
              "      \n",
              "  <style>\n",
              "    .colab-df-container {\n",
              "      display:flex;\n",
              "      flex-wrap:wrap;\n",
              "      gap: 12px;\n",
              "    }\n",
              "\n",
              "    .colab-df-convert {\n",
              "      background-color: #E8F0FE;\n",
              "      border: none;\n",
              "      border-radius: 50%;\n",
              "      cursor: pointer;\n",
              "      display: none;\n",
              "      fill: #1967D2;\n",
              "      height: 32px;\n",
              "      padding: 0 0 0 0;\n",
              "      width: 32px;\n",
              "    }\n",
              "\n",
              "    .colab-df-convert:hover {\n",
              "      background-color: #E2EBFA;\n",
              "      box-shadow: 0px 1px 2px rgba(60, 64, 67, 0.3), 0px 1px 3px 1px rgba(60, 64, 67, 0.15);\n",
              "      fill: #174EA6;\n",
              "    }\n",
              "\n",
              "    [theme=dark] .colab-df-convert {\n",
              "      background-color: #3B4455;\n",
              "      fill: #D2E3FC;\n",
              "    }\n",
              "\n",
              "    [theme=dark] .colab-df-convert:hover {\n",
              "      background-color: #434B5C;\n",
              "      box-shadow: 0px 1px 3px 1px rgba(0, 0, 0, 0.15);\n",
              "      filter: drop-shadow(0px 1px 2px rgba(0, 0, 0, 0.3));\n",
              "      fill: #FFFFFF;\n",
              "    }\n",
              "  </style>\n",
              "\n",
              "      <script>\n",
              "        const buttonEl =\n",
              "          document.querySelector('#df-5e7f384f-61b6-44fa-9754-997fd643a655 button.colab-df-convert');\n",
              "        buttonEl.style.display =\n",
              "          google.colab.kernel.accessAllowed ? 'block' : 'none';\n",
              "\n",
              "        async function convertToInteractive(key) {\n",
              "          const element = document.querySelector('#df-5e7f384f-61b6-44fa-9754-997fd643a655');\n",
              "          const dataTable =\n",
              "            await google.colab.kernel.invokeFunction('convertToInteractive',\n",
              "                                                     [key], {});\n",
              "          if (!dataTable) return;\n",
              "\n",
              "          const docLinkHtml = 'Like what you see? Visit the ' +\n",
              "            '<a target=\"_blank\" href=https://colab.research.google.com/notebooks/data_table.ipynb>data table notebook</a>'\n",
              "            + ' to learn more about interactive tables.';\n",
              "          element.innerHTML = '';\n",
              "          dataTable['output_type'] = 'display_data';\n",
              "          await google.colab.output.renderOutput(dataTable, element);\n",
              "          const docLink = document.createElement('div');\n",
              "          docLink.innerHTML = docLinkHtml;\n",
              "          element.appendChild(docLink);\n",
              "        }\n",
              "      </script>\n",
              "    </div>\n",
              "  </div>\n",
              "  "
            ]
          },
          "metadata": {},
          "execution_count": 557
        }
      ],
      "source": [
        "# Initializing the trainingset and testset data objects using pandas\n",
        "Testset = pd.read_csv(\"Testset.csv\")\n",
        "Training = pd.read_csv(\"Trainingset.csv\") \n",
        "\n",
        "#The head() function is used to get the first few rows of the Testset\n",
        "Testset.head()"
      ]
    },
    {
      "cell_type": "code",
      "execution_count": 558,
      "metadata": {
        "colab": {
          "base_uri": "https://localhost:8080/",
          "height": 300
        },
        "id": "i40kk9fGe5-l",
        "outputId": "f8f506fd-41da-4325-cbfe-2ea74939b3f0"
      },
      "outputs": [
        {
          "output_type": "execute_result",
          "data": {
            "text/plain": [
              "              Age  YearsExperience  Years of Education  QYearsExperience  \\\n",
              "count  191.000000       191.000000          191.000000        191.000000   \n",
              "mean    57.820887        16.119508            5.984293        265.392297   \n",
              "std      3.817763         2.362834            2.063407         76.213810   \n",
              "min     51.051406        12.080028            3.000000        145.927085   \n",
              "25%     54.833223        14.094446            4.000000        198.654027   \n",
              "50%     57.781827        16.121967            6.000000        259.917820   \n",
              "75%     60.578333        18.290520            8.000000        334.543144   \n",
              "max     64.989830        19.947424            9.000000        397.899731   \n",
              "\n",
              "       CYearsExperience  CombinedParameter        Salary  \n",
              "count        191.000000         191.000000    191.000000  \n",
              "mean        4456.760583         441.689788  75685.074530  \n",
              "std         1874.307193         152.804623  14624.764031  \n",
              "min         1762.803331         201.652990  50325.921546  \n",
              "25%         2799.936090         295.629160  62519.330577  \n",
              "50%         4190.386523         444.992726  76680.810569  \n",
              "75%         6118.968597         569.075602  88881.674476  \n",
              "max         7937.074698         739.152956  99778.341685  "
            ],
            "text/html": [
              "\n",
              "  <div id=\"df-8b37899d-6fae-447c-bd94-76270345143c\">\n",
              "    <div class=\"colab-df-container\">\n",
              "      <div>\n",
              "<style scoped>\n",
              "    .dataframe tbody tr th:only-of-type {\n",
              "        vertical-align: middle;\n",
              "    }\n",
              "\n",
              "    .dataframe tbody tr th {\n",
              "        vertical-align: top;\n",
              "    }\n",
              "\n",
              "    .dataframe thead th {\n",
              "        text-align: right;\n",
              "    }\n",
              "</style>\n",
              "<table border=\"1\" class=\"dataframe\">\n",
              "  <thead>\n",
              "    <tr style=\"text-align: right;\">\n",
              "      <th></th>\n",
              "      <th>Age</th>\n",
              "      <th>YearsExperience</th>\n",
              "      <th>Years of Education</th>\n",
              "      <th>QYearsExperience</th>\n",
              "      <th>CYearsExperience</th>\n",
              "      <th>CombinedParameter</th>\n",
              "      <th>Salary</th>\n",
              "    </tr>\n",
              "  </thead>\n",
              "  <tbody>\n",
              "    <tr>\n",
              "      <th>count</th>\n",
              "      <td>191.000000</td>\n",
              "      <td>191.000000</td>\n",
              "      <td>191.000000</td>\n",
              "      <td>191.000000</td>\n",
              "      <td>191.000000</td>\n",
              "      <td>191.000000</td>\n",
              "      <td>191.000000</td>\n",
              "    </tr>\n",
              "    <tr>\n",
              "      <th>mean</th>\n",
              "      <td>57.820887</td>\n",
              "      <td>16.119508</td>\n",
              "      <td>5.984293</td>\n",
              "      <td>265.392297</td>\n",
              "      <td>4456.760583</td>\n",
              "      <td>441.689788</td>\n",
              "      <td>75685.074530</td>\n",
              "    </tr>\n",
              "    <tr>\n",
              "      <th>std</th>\n",
              "      <td>3.817763</td>\n",
              "      <td>2.362834</td>\n",
              "      <td>2.063407</td>\n",
              "      <td>76.213810</td>\n",
              "      <td>1874.307193</td>\n",
              "      <td>152.804623</td>\n",
              "      <td>14624.764031</td>\n",
              "    </tr>\n",
              "    <tr>\n",
              "      <th>min</th>\n",
              "      <td>51.051406</td>\n",
              "      <td>12.080028</td>\n",
              "      <td>3.000000</td>\n",
              "      <td>145.927085</td>\n",
              "      <td>1762.803331</td>\n",
              "      <td>201.652990</td>\n",
              "      <td>50325.921546</td>\n",
              "    </tr>\n",
              "    <tr>\n",
              "      <th>25%</th>\n",
              "      <td>54.833223</td>\n",
              "      <td>14.094446</td>\n",
              "      <td>4.000000</td>\n",
              "      <td>198.654027</td>\n",
              "      <td>2799.936090</td>\n",
              "      <td>295.629160</td>\n",
              "      <td>62519.330577</td>\n",
              "    </tr>\n",
              "    <tr>\n",
              "      <th>50%</th>\n",
              "      <td>57.781827</td>\n",
              "      <td>16.121967</td>\n",
              "      <td>6.000000</td>\n",
              "      <td>259.917820</td>\n",
              "      <td>4190.386523</td>\n",
              "      <td>444.992726</td>\n",
              "      <td>76680.810569</td>\n",
              "    </tr>\n",
              "    <tr>\n",
              "      <th>75%</th>\n",
              "      <td>60.578333</td>\n",
              "      <td>18.290520</td>\n",
              "      <td>8.000000</td>\n",
              "      <td>334.543144</td>\n",
              "      <td>6118.968597</td>\n",
              "      <td>569.075602</td>\n",
              "      <td>88881.674476</td>\n",
              "    </tr>\n",
              "    <tr>\n",
              "      <th>max</th>\n",
              "      <td>64.989830</td>\n",
              "      <td>19.947424</td>\n",
              "      <td>9.000000</td>\n",
              "      <td>397.899731</td>\n",
              "      <td>7937.074698</td>\n",
              "      <td>739.152956</td>\n",
              "      <td>99778.341685</td>\n",
              "    </tr>\n",
              "  </tbody>\n",
              "</table>\n",
              "</div>\n",
              "      <button class=\"colab-df-convert\" onclick=\"convertToInteractive('df-8b37899d-6fae-447c-bd94-76270345143c')\"\n",
              "              title=\"Convert this dataframe to an interactive table.\"\n",
              "              style=\"display:none;\">\n",
              "        \n",
              "  <svg xmlns=\"http://www.w3.org/2000/svg\" height=\"24px\"viewBox=\"0 0 24 24\"\n",
              "       width=\"24px\">\n",
              "    <path d=\"M0 0h24v24H0V0z\" fill=\"none\"/>\n",
              "    <path d=\"M18.56 5.44l.94 2.06.94-2.06 2.06-.94-2.06-.94-.94-2.06-.94 2.06-2.06.94zm-11 1L8.5 8.5l.94-2.06 2.06-.94-2.06-.94L8.5 2.5l-.94 2.06-2.06.94zm10 10l.94 2.06.94-2.06 2.06-.94-2.06-.94-.94-2.06-.94 2.06-2.06.94z\"/><path d=\"M17.41 7.96l-1.37-1.37c-.4-.4-.92-.59-1.43-.59-.52 0-1.04.2-1.43.59L10.3 9.45l-7.72 7.72c-.78.78-.78 2.05 0 2.83L4 21.41c.39.39.9.59 1.41.59.51 0 1.02-.2 1.41-.59l7.78-7.78 2.81-2.81c.8-.78.8-2.07 0-2.86zM5.41 20L4 18.59l7.72-7.72 1.47 1.35L5.41 20z\"/>\n",
              "  </svg>\n",
              "      </button>\n",
              "      \n",
              "  <style>\n",
              "    .colab-df-container {\n",
              "      display:flex;\n",
              "      flex-wrap:wrap;\n",
              "      gap: 12px;\n",
              "    }\n",
              "\n",
              "    .colab-df-convert {\n",
              "      background-color: #E8F0FE;\n",
              "      border: none;\n",
              "      border-radius: 50%;\n",
              "      cursor: pointer;\n",
              "      display: none;\n",
              "      fill: #1967D2;\n",
              "      height: 32px;\n",
              "      padding: 0 0 0 0;\n",
              "      width: 32px;\n",
              "    }\n",
              "\n",
              "    .colab-df-convert:hover {\n",
              "      background-color: #E2EBFA;\n",
              "      box-shadow: 0px 1px 2px rgba(60, 64, 67, 0.3), 0px 1px 3px 1px rgba(60, 64, 67, 0.15);\n",
              "      fill: #174EA6;\n",
              "    }\n",
              "\n",
              "    [theme=dark] .colab-df-convert {\n",
              "      background-color: #3B4455;\n",
              "      fill: #D2E3FC;\n",
              "    }\n",
              "\n",
              "    [theme=dark] .colab-df-convert:hover {\n",
              "      background-color: #434B5C;\n",
              "      box-shadow: 0px 1px 3px 1px rgba(0, 0, 0, 0.15);\n",
              "      filter: drop-shadow(0px 1px 2px rgba(0, 0, 0, 0.3));\n",
              "      fill: #FFFFFF;\n",
              "    }\n",
              "  </style>\n",
              "\n",
              "      <script>\n",
              "        const buttonEl =\n",
              "          document.querySelector('#df-8b37899d-6fae-447c-bd94-76270345143c button.colab-df-convert');\n",
              "        buttonEl.style.display =\n",
              "          google.colab.kernel.accessAllowed ? 'block' : 'none';\n",
              "\n",
              "        async function convertToInteractive(key) {\n",
              "          const element = document.querySelector('#df-8b37899d-6fae-447c-bd94-76270345143c');\n",
              "          const dataTable =\n",
              "            await google.colab.kernel.invokeFunction('convertToInteractive',\n",
              "                                                     [key], {});\n",
              "          if (!dataTable) return;\n",
              "\n",
              "          const docLinkHtml = 'Like what you see? Visit the ' +\n",
              "            '<a target=\"_blank\" href=https://colab.research.google.com/notebooks/data_table.ipynb>data table notebook</a>'\n",
              "            + ' to learn more about interactive tables.';\n",
              "          element.innerHTML = '';\n",
              "          dataTable['output_type'] = 'display_data';\n",
              "          await google.colab.output.renderOutput(dataTable, element);\n",
              "          const docLink = document.createElement('div');\n",
              "          docLink.innerHTML = docLinkHtml;\n",
              "          element.appendChild(docLink);\n",
              "        }\n",
              "      </script>\n",
              "    </div>\n",
              "  </div>\n",
              "  "
            ]
          },
          "metadata": {},
          "execution_count": 558
        }
      ],
      "source": [
        "# Using the data object  to find some general values like mean, minimum etc\n",
        "Testset.describe()"
      ]
    },
    {
      "cell_type": "code",
      "execution_count": 559,
      "metadata": {
        "colab": {
          "base_uri": "https://localhost:8080/",
          "height": 269
        },
        "id": "L8R_Ej-RfIvy",
        "outputId": "043af76d-ab6c-48f5-c49c-bc02fb37f5ec"
      },
      "outputs": [
        {
          "output_type": "execute_result",
          "data": {
            "text/plain": [
              "                         Age  YearsExperience  Years of Education  \\\n",
              "Age                 1.000000        -0.029242           -0.068661   \n",
              "YearsExperience    -0.029242         1.000000           -0.052200   \n",
              "Years of Education -0.068661        -0.052200            1.000000   \n",
              "QYearsExperience   -0.021954         0.997932           -0.052777   \n",
              "CYearsExperience   -0.015066         0.992039           -0.054089   \n",
              "CombinedParameter   0.088060         0.034546            0.981826   \n",
              "Salary              0.074691        -0.062632           -0.066100   \n",
              "\n",
              "                    QYearsExperience  CYearsExperience  CombinedParameter  \\\n",
              "Age                        -0.021954         -0.015066           0.088060   \n",
              "YearsExperience             0.997932          0.992039           0.034546   \n",
              "Years of Education         -0.052777         -0.054089           0.981826   \n",
              "QYearsExperience            1.000000          0.998075           0.034160   \n",
              "CYearsExperience            0.998075          1.000000           0.032634   \n",
              "CombinedParameter           0.034160          0.032634           1.000000   \n",
              "Salary                     -0.063532         -0.063504          -0.056651   \n",
              "\n",
              "                      Salary  \n",
              "Age                 0.074691  \n",
              "YearsExperience    -0.062632  \n",
              "Years of Education -0.066100  \n",
              "QYearsExperience   -0.063532  \n",
              "CYearsExperience   -0.063504  \n",
              "CombinedParameter  -0.056651  \n",
              "Salary              1.000000  "
            ],
            "text/html": [
              "\n",
              "  <div id=\"df-8e5e56fd-d8b8-4b29-a3ee-45a01ff38f25\">\n",
              "    <div class=\"colab-df-container\">\n",
              "      <div>\n",
              "<style scoped>\n",
              "    .dataframe tbody tr th:only-of-type {\n",
              "        vertical-align: middle;\n",
              "    }\n",
              "\n",
              "    .dataframe tbody tr th {\n",
              "        vertical-align: top;\n",
              "    }\n",
              "\n",
              "    .dataframe thead th {\n",
              "        text-align: right;\n",
              "    }\n",
              "</style>\n",
              "<table border=\"1\" class=\"dataframe\">\n",
              "  <thead>\n",
              "    <tr style=\"text-align: right;\">\n",
              "      <th></th>\n",
              "      <th>Age</th>\n",
              "      <th>YearsExperience</th>\n",
              "      <th>Years of Education</th>\n",
              "      <th>QYearsExperience</th>\n",
              "      <th>CYearsExperience</th>\n",
              "      <th>CombinedParameter</th>\n",
              "      <th>Salary</th>\n",
              "    </tr>\n",
              "  </thead>\n",
              "  <tbody>\n",
              "    <tr>\n",
              "      <th>Age</th>\n",
              "      <td>1.000000</td>\n",
              "      <td>-0.029242</td>\n",
              "      <td>-0.068661</td>\n",
              "      <td>-0.021954</td>\n",
              "      <td>-0.015066</td>\n",
              "      <td>0.088060</td>\n",
              "      <td>0.074691</td>\n",
              "    </tr>\n",
              "    <tr>\n",
              "      <th>YearsExperience</th>\n",
              "      <td>-0.029242</td>\n",
              "      <td>1.000000</td>\n",
              "      <td>-0.052200</td>\n",
              "      <td>0.997932</td>\n",
              "      <td>0.992039</td>\n",
              "      <td>0.034546</td>\n",
              "      <td>-0.062632</td>\n",
              "    </tr>\n",
              "    <tr>\n",
              "      <th>Years of Education</th>\n",
              "      <td>-0.068661</td>\n",
              "      <td>-0.052200</td>\n",
              "      <td>1.000000</td>\n",
              "      <td>-0.052777</td>\n",
              "      <td>-0.054089</td>\n",
              "      <td>0.981826</td>\n",
              "      <td>-0.066100</td>\n",
              "    </tr>\n",
              "    <tr>\n",
              "      <th>QYearsExperience</th>\n",
              "      <td>-0.021954</td>\n",
              "      <td>0.997932</td>\n",
              "      <td>-0.052777</td>\n",
              "      <td>1.000000</td>\n",
              "      <td>0.998075</td>\n",
              "      <td>0.034160</td>\n",
              "      <td>-0.063532</td>\n",
              "    </tr>\n",
              "    <tr>\n",
              "      <th>CYearsExperience</th>\n",
              "      <td>-0.015066</td>\n",
              "      <td>0.992039</td>\n",
              "      <td>-0.054089</td>\n",
              "      <td>0.998075</td>\n",
              "      <td>1.000000</td>\n",
              "      <td>0.032634</td>\n",
              "      <td>-0.063504</td>\n",
              "    </tr>\n",
              "    <tr>\n",
              "      <th>CombinedParameter</th>\n",
              "      <td>0.088060</td>\n",
              "      <td>0.034546</td>\n",
              "      <td>0.981826</td>\n",
              "      <td>0.034160</td>\n",
              "      <td>0.032634</td>\n",
              "      <td>1.000000</td>\n",
              "      <td>-0.056651</td>\n",
              "    </tr>\n",
              "    <tr>\n",
              "      <th>Salary</th>\n",
              "      <td>0.074691</td>\n",
              "      <td>-0.062632</td>\n",
              "      <td>-0.066100</td>\n",
              "      <td>-0.063532</td>\n",
              "      <td>-0.063504</td>\n",
              "      <td>-0.056651</td>\n",
              "      <td>1.000000</td>\n",
              "    </tr>\n",
              "  </tbody>\n",
              "</table>\n",
              "</div>\n",
              "      <button class=\"colab-df-convert\" onclick=\"convertToInteractive('df-8e5e56fd-d8b8-4b29-a3ee-45a01ff38f25')\"\n",
              "              title=\"Convert this dataframe to an interactive table.\"\n",
              "              style=\"display:none;\">\n",
              "        \n",
              "  <svg xmlns=\"http://www.w3.org/2000/svg\" height=\"24px\"viewBox=\"0 0 24 24\"\n",
              "       width=\"24px\">\n",
              "    <path d=\"M0 0h24v24H0V0z\" fill=\"none\"/>\n",
              "    <path d=\"M18.56 5.44l.94 2.06.94-2.06 2.06-.94-2.06-.94-.94-2.06-.94 2.06-2.06.94zm-11 1L8.5 8.5l.94-2.06 2.06-.94-2.06-.94L8.5 2.5l-.94 2.06-2.06.94zm10 10l.94 2.06.94-2.06 2.06-.94-2.06-.94-.94-2.06-.94 2.06-2.06.94z\"/><path d=\"M17.41 7.96l-1.37-1.37c-.4-.4-.92-.59-1.43-.59-.52 0-1.04.2-1.43.59L10.3 9.45l-7.72 7.72c-.78.78-.78 2.05 0 2.83L4 21.41c.39.39.9.59 1.41.59.51 0 1.02-.2 1.41-.59l7.78-7.78 2.81-2.81c.8-.78.8-2.07 0-2.86zM5.41 20L4 18.59l7.72-7.72 1.47 1.35L5.41 20z\"/>\n",
              "  </svg>\n",
              "      </button>\n",
              "      \n",
              "  <style>\n",
              "    .colab-df-container {\n",
              "      display:flex;\n",
              "      flex-wrap:wrap;\n",
              "      gap: 12px;\n",
              "    }\n",
              "\n",
              "    .colab-df-convert {\n",
              "      background-color: #E8F0FE;\n",
              "      border: none;\n",
              "      border-radius: 50%;\n",
              "      cursor: pointer;\n",
              "      display: none;\n",
              "      fill: #1967D2;\n",
              "      height: 32px;\n",
              "      padding: 0 0 0 0;\n",
              "      width: 32px;\n",
              "    }\n",
              "\n",
              "    .colab-df-convert:hover {\n",
              "      background-color: #E2EBFA;\n",
              "      box-shadow: 0px 1px 2px rgba(60, 64, 67, 0.3), 0px 1px 3px 1px rgba(60, 64, 67, 0.15);\n",
              "      fill: #174EA6;\n",
              "    }\n",
              "\n",
              "    [theme=dark] .colab-df-convert {\n",
              "      background-color: #3B4455;\n",
              "      fill: #D2E3FC;\n",
              "    }\n",
              "\n",
              "    [theme=dark] .colab-df-convert:hover {\n",
              "      background-color: #434B5C;\n",
              "      box-shadow: 0px 1px 3px 1px rgba(0, 0, 0, 0.15);\n",
              "      filter: drop-shadow(0px 1px 2px rgba(0, 0, 0, 0.3));\n",
              "      fill: #FFFFFF;\n",
              "    }\n",
              "  </style>\n",
              "\n",
              "      <script>\n",
              "        const buttonEl =\n",
              "          document.querySelector('#df-8e5e56fd-d8b8-4b29-a3ee-45a01ff38f25 button.colab-df-convert');\n",
              "        buttonEl.style.display =\n",
              "          google.colab.kernel.accessAllowed ? 'block' : 'none';\n",
              "\n",
              "        async function convertToInteractive(key) {\n",
              "          const element = document.querySelector('#df-8e5e56fd-d8b8-4b29-a3ee-45a01ff38f25');\n",
              "          const dataTable =\n",
              "            await google.colab.kernel.invokeFunction('convertToInteractive',\n",
              "                                                     [key], {});\n",
              "          if (!dataTable) return;\n",
              "\n",
              "          const docLinkHtml = 'Like what you see? Visit the ' +\n",
              "            '<a target=\"_blank\" href=https://colab.research.google.com/notebooks/data_table.ipynb>data table notebook</a>'\n",
              "            + ' to learn more about interactive tables.';\n",
              "          element.innerHTML = '';\n",
              "          dataTable['output_type'] = 'display_data';\n",
              "          await google.colab.output.renderOutput(dataTable, element);\n",
              "          const docLink = document.createElement('div');\n",
              "          docLink.innerHTML = docLinkHtml;\n",
              "          element.appendChild(docLink);\n",
              "        }\n",
              "      </script>\n",
              "    </div>\n",
              "  </div>\n",
              "  "
            ]
          },
          "metadata": {},
          "execution_count": 559
        }
      ],
      "source": [
        "# corr() is used to find the pairwise correlation of all columns in the data we provided.\n",
        "# The closer its value is to 1, the more variability the model explains.\n",
        "Testset.corr()"
      ]
    },
    {
      "cell_type": "markdown",
      "source": [
        "YEARS OF EXPERIENCE VS SALARY"
      ],
      "metadata": {
        "id": "Hq--G4rndG0K"
      }
    },
    {
      "cell_type": "code",
      "execution_count": 560,
      "metadata": {
        "colab": {
          "base_uri": "https://localhost:8080/",
          "height": 296
        },
        "id": "KQCr-HINfeTc",
        "outputId": "ef91fb11-1fdc-4601-c58e-8a68580e981f"
      },
      "outputs": [
        {
          "output_type": "execute_result",
          "data": {
            "text/plain": [
              "<matplotlib.axes._subplots.AxesSubplot at 0x7fb24135ead0>"
            ]
          },
          "metadata": {},
          "execution_count": 560
        },
        {
          "output_type": "display_data",
          "data": {
            "text/plain": [
              "<Figure size 432x288 with 1 Axes>"
            ],
            "image/png": "[encoded data removed]"
          },
          "metadata": {
            "needs_background": "light"
          }
        }
      ],
      "source": [
        "# We are using seaborn, which is used to display mathematical scatter plot of the given data\n",
        "sns.scatterplot(data=Testset, x=\"YearsExperience\",y=\"Salary\")"
      ]
    },
    {
      "cell_type": "code",
      "execution_count": 561,
      "metadata": {
        "id": "Be36uyGApCfr"
      },
      "outputs": [],
      "source": [
        "# Conducting Linear Regression method and inserting data using the fit method\n",
        "# Fit function adjusts weights according to data values so that better accuracy can be achieved\n",
        "#Dataset = pd.read_csv(\"T.csv\")\n",
        "lm = linear_model.LinearRegression(). fit(Training[[\"YearsExperience\"]],Training[[\"Salary\"]])\n",
        "# Using the predict method\n",
        "\n",
        "result=lm.predict(Testset[[\"YearsExperience\"]])"
      ]
    },
    {
      "cell_type": "code",
      "execution_count": 562,
      "metadata": {
        "colab": {
          "base_uri": "https://localhost:8080/",
          "height": 206
        },
        "id": "Nhahhys_pGQO",
        "outputId": "cdfa8196-ee60-473b-c63a-e1c2443ada5e"
      },
      "outputs": [
        {
          "output_type": "execute_result",
          "data": {
            "text/plain": [
              "         Age  YearsExperience  Years of Education  QYearsExperience  \\\n",
              "0  59.736875        14.069381                   4        197.947482   \n",
              "1  64.525825        13.585205                   6        184.557800   \n",
              "2  51.602862        18.737861                   7        351.107451   \n",
              "3  64.335943        13.116017                   6        172.029900   \n",
              "4  54.868062        16.246028                   9        263.933438   \n",
              "\n",
              "   CYearsExperience  CombinedParameter        Salary  \\\n",
              "0       2784.998537         295.225026  52477.984042   \n",
              "1       2507.255581         468.666181  75470.156254   \n",
              "2       6579.002768         492.385065  54575.688348   \n",
              "3       2256.347083         464.711761  86959.445371   \n",
              "4       4287.870130         640.026815  93443.204583   \n",
              "\n",
              "   Predicted Salary Using Sklearn method  \n",
              "0                           76168.151303  \n",
              "1                           76325.696746  \n",
              "2                           74649.079518  \n",
              "3                           76478.365403  \n",
              "4                           75459.894371  "
            ],
            "text/html": [
              "\n",
              "  <div id=\"df-f52f165b-9a23-42c8-887d-ca1a4298cf66\">\n",
              "    <div class=\"colab-df-container\">\n",
              "      <div>\n",
              "<style scoped>\n",
              "    .dataframe tbody tr th:only-of-type {\n",
              "        vertical-align: middle;\n",
              "    }\n",
              "\n",
              "    .dataframe tbody tr th {\n",
              "        vertical-align: top;\n",
              "    }\n",
              "\n",
              "    .dataframe thead th {\n",
              "        text-align: right;\n",
              "    }\n",
              "</style>\n",
              "<table border=\"1\" class=\"dataframe\">\n",
              "  <thead>\n",
              "    <tr style=\"text-align: right;\">\n",
              "      <th></th>\n",
              "      <th>Age</th>\n",
              "      <th>YearsExperience</th>\n",
              "      <th>Years of Education</th>\n",
              "      <th>QYearsExperience</th>\n",
              "      <th>CYearsExperience</th>\n",
              "      <th>CombinedParameter</th>\n",
              "      <th>Salary</th>\n",
              "      <th>Predicted Salary Using Sklearn method</th>\n",
              "    </tr>\n",
              "  </thead>\n",
              "  <tbody>\n",
              "    <tr>\n",
              "      <th>0</th>\n",
              "      <td>59.736875</td>\n",
              "      <td>14.069381</td>\n",
              "      <td>4</td>\n",
              "      <td>197.947482</td>\n",
              "      <td>2784.998537</td>\n",
              "      <td>295.225026</td>\n",
              "      <td>52477.984042</td>\n",
              "      <td>76168.151303</td>\n",
              "    </tr>\n",
              "    <tr>\n",
              "      <th>1</th>\n",
              "      <td>64.525825</td>\n",
              "      <td>13.585205</td>\n",
              "      <td>6</td>\n",
              "      <td>184.557800</td>\n",
              "      <td>2507.255581</td>\n",
              "      <td>468.666181</td>\n",
              "      <td>75470.156254</td>\n",
              "      <td>76325.696746</td>\n",
              "    </tr>\n",
              "    <tr>\n",
              "      <th>2</th>\n",
              "      <td>51.602862</td>\n",
              "      <td>18.737861</td>\n",
              "      <td>7</td>\n",
              "      <td>351.107451</td>\n",
              "      <td>6579.002768</td>\n",
              "      <td>492.385065</td>\n",
              "      <td>54575.688348</td>\n",
              "      <td>74649.079518</td>\n",
              "    </tr>\n",
              "    <tr>\n",
              "      <th>3</th>\n",
              "      <td>64.335943</td>\n",
              "      <td>13.116017</td>\n",
              "      <td>6</td>\n",
              "      <td>172.029900</td>\n",
              "      <td>2256.347083</td>\n",
              "      <td>464.711761</td>\n",
              "      <td>86959.445371</td>\n",
              "      <td>76478.365403</td>\n",
              "    </tr>\n",
              "    <tr>\n",
              "      <th>4</th>\n",
              "      <td>54.868062</td>\n",
              "      <td>16.246028</td>\n",
              "      <td>9</td>\n",
              "      <td>263.933438</td>\n",
              "      <td>4287.870130</td>\n",
              "      <td>640.026815</td>\n",
              "      <td>93443.204583</td>\n",
              "      <td>75459.894371</td>\n",
              "    </tr>\n",
              "  </tbody>\n",
              "</table>\n",
              "</div>\n",
              "      <button class=\"colab-df-convert\" onclick=\"convertToInteractive('df-f52f165b-9a23-42c8-887d-ca1a4298cf66')\"\n",
              "              title=\"Convert this dataframe to an interactive table.\"\n",
              "              style=\"display:none;\">\n",
              "        \n",
              "  <svg xmlns=\"http://www.w3.org/2000/svg\" height=\"24px\"viewBox=\"0 0 24 24\"\n",
              "       width=\"24px\">\n",
              "    <path d=\"M0 0h24v24H0V0z\" fill=\"none\"/>\n",
              "    <path d=\"M18.56 5.44l.94 2.06.94-2.06 2.06-.94-2.06-.94-.94-2.06-.94 2.06-2.06.94zm-11 1L8.5 8.5l.94-2.06 2.06-.94-2.06-.94L8.5 2.5l-.94 2.06-2.06.94zm10 10l.94 2.06.94-2.06 2.06-.94-2.06-.94-.94-2.06-.94 2.06-2.06.94z\"/><path d=\"M17.41 7.96l-1.37-1.37c-.4-.4-.92-.59-1.43-.59-.52 0-1.04.2-1.43.59L10.3 9.45l-7.72 7.72c-.78.78-.78 2.05 0 2.83L4 21.41c.39.39.9.59 1.41.59.51 0 1.02-.2 1.41-.59l7.78-7.78 2.81-2.81c.8-.78.8-2.07 0-2.86zM5.41 20L4 18.59l7.72-7.72 1.47 1.35L5.41 20z\"/>\n",
              "  </svg>\n",
              "      </button>\n",
              "      \n",
              "  <style>\n",
              "    .colab-df-container {\n",
              "      display:flex;\n",
              "      flex-wrap:wrap;\n",
              "      gap: 12px;\n",
              "    }\n",
              "\n",
              "    .colab-df-convert {\n",
              "      background-color: #E8F0FE;\n",
              "      border: none;\n",
              "      border-radius: 50%;\n",
              "      cursor: pointer;\n",
              "      display: none;\n",
              "      fill: #1967D2;\n",
              "      height: 32px;\n",
              "      padding: 0 0 0 0;\n",
              "      width: 32px;\n",
              "    }\n",
              "\n",
              "    .colab-df-convert:hover {\n",
              "      background-color: #E2EBFA;\n",
              "      box-shadow: 0px 1px 2px rgba(60, 64, 67, 0.3), 0px 1px 3px 1px rgba(60, 64, 67, 0.15);\n",
              "      fill: #174EA6;\n",
              "    }\n",
              "\n",
              "    [theme=dark] .colab-df-convert {\n",
              "      background-color: #3B4455;\n",
              "      fill: #D2E3FC;\n",
              "    }\n",
              "\n",
              "    [theme=dark] .colab-df-convert:hover {\n",
              "      background-color: #434B5C;\n",
              "      box-shadow: 0px 1px 3px 1px rgba(0, 0, 0, 0.15);\n",
              "      filter: drop-shadow(0px 1px 2px rgba(0, 0, 0, 0.3));\n",
              "      fill: #FFFFFF;\n",
              "    }\n",
              "  </style>\n",
              "\n",
              "      <script>\n",
              "        const buttonEl =\n",
              "          document.querySelector('#df-f52f165b-9a23-42c8-887d-ca1a4298cf66 button.colab-df-convert');\n",
              "        buttonEl.style.display =\n",
              "          google.colab.kernel.accessAllowed ? 'block' : 'none';\n",
              "\n",
              "        async function convertToInteractive(key) {\n",
              "          const element = document.querySelector('#df-f52f165b-9a23-42c8-887d-ca1a4298cf66');\n",
              "          const dataTable =\n",
              "            await google.colab.kernel.invokeFunction('convertToInteractive',\n",
              "                                                     [key], {});\n",
              "          if (!dataTable) return;\n",
              "\n",
              "          const docLinkHtml = 'Like what you see? Visit the ' +\n",
              "            '<a target=\"_blank\" href=https://colab.research.google.com/notebooks/data_table.ipynb>data table notebook</a>'\n",
              "            + ' to learn more about interactive tables.';\n",
              "          element.innerHTML = '';\n",
              "          dataTable['output_type'] = 'display_data';\n",
              "          await google.colab.output.renderOutput(dataTable, element);\n",
              "          const docLink = document.createElement('div');\n",
              "          docLink.innerHTML = docLinkHtml;\n",
              "          element.appendChild(docLink);\n",
              "        }\n",
              "      </script>\n",
              "    </div>\n",
              "  </div>\n",
              "  "
            ]
          },
          "metadata": {},
          "execution_count": 562
        }
      ],
      "source": [
        "# Creating a new column to place contents of the result variable\n",
        "Testset[\"Predicted Salary Using Sklearn method\"]= result\n",
        "Testset.head()"
      ]
    },
    {
      "cell_type": "code",
      "execution_count": 563,
      "metadata": {
        "colab": {
          "base_uri": "https://localhost:8080/",
          "height": 267
        },
        "id": "nzaL0hxVpLKw",
        "outputId": "ccb36dc7-bc86-4f93-aa7b-1802ad1f7473"
      },
      "outputs": [
        {
          "output_type": "execute_result",
          "data": {
            "text/plain": [
              "         Age  YearsExperience  Years of Education  QYearsExperience  \\\n",
              "0  59.736875        14.069381                   4        197.947482   \n",
              "1  64.525825        13.585205                   6        184.557800   \n",
              "2  51.602862        18.737861                   7        351.107451   \n",
              "3  64.335943        13.116017                   6        172.029900   \n",
              "4  54.868062        16.246028                   9        263.933438   \n",
              "\n",
              "   CYearsExperience  CombinedParameter        Salary  \\\n",
              "0       2784.998537         295.225026  52477.984042   \n",
              "1       2507.255581         468.666181  75470.156254   \n",
              "2       6579.002768         492.385065  54575.688348   \n",
              "3       2256.347083         464.711761  86959.445371   \n",
              "4       4287.870130         640.026815  93443.204583   \n",
              "\n",
              "   Predicted Salary Using Sklearn method  \\\n",
              "0                           76168.151303   \n",
              "1                           76325.696746   \n",
              "2                           74649.079518   \n",
              "3                           76478.365403   \n",
              "4                           75459.894371   \n",
              "\n",
              "   Prediction Error Using Sklearn method  \n",
              "0                          -23690.167260  \n",
              "1                            -855.540491  \n",
              "2                          -20073.391170  \n",
              "3                           10481.079968  \n",
              "4                           17983.310212  "
            ],
            "text/html": [
              "\n",
              "  <div id=\"df-e2c46a45-97f4-4849-99e6-5552326caecd\">\n",
              "    <div class=\"colab-df-container\">\n",
              "      <div>\n",
              "<style scoped>\n",
              "    .dataframe tbody tr th:only-of-type {\n",
              "        vertical-align: middle;\n",
              "    }\n",
              "\n",
              "    .dataframe tbody tr th {\n",
              "        vertical-align: top;\n",
              "    }\n",
              "\n",
              "    .dataframe thead th {\n",
              "        text-align: right;\n",
              "    }\n",
              "</style>\n",
              "<table border=\"1\" class=\"dataframe\">\n",
              "  <thead>\n",
              "    <tr style=\"text-align: right;\">\n",
              "      <th></th>\n",
              "      <th>Age</th>\n",
              "      <th>YearsExperience</th>\n",
              "      <th>Years of Education</th>\n",
              "      <th>QYearsExperience</th>\n",
              "      <th>CYearsExperience</th>\n",
              "      <th>CombinedParameter</th>\n",
              "      <th>Salary</th>\n",
              "      <th>Predicted Salary Using Sklearn method</th>\n",
              "      <th>Prediction Error Using Sklearn method</th>\n",
              "    </tr>\n",
              "  </thead>\n",
              "  <tbody>\n",
              "    <tr>\n",
              "      <th>0</th>\n",
              "      <td>59.736875</td>\n",
              "      <td>14.069381</td>\n",
              "      <td>4</td>\n",
              "      <td>197.947482</td>\n",
              "      <td>2784.998537</td>\n",
              "      <td>295.225026</td>\n",
              "      <td>52477.984042</td>\n",
              "      <td>76168.151303</td>\n",
              "      <td>-23690.167260</td>\n",
              "    </tr>\n",
              "    <tr>\n",
              "      <th>1</th>\n",
              "      <td>64.525825</td>\n",
              "      <td>13.585205</td>\n",
              "      <td>6</td>\n",
              "      <td>184.557800</td>\n",
              "      <td>2507.255581</td>\n",
              "      <td>468.666181</td>\n",
              "      <td>75470.156254</td>\n",
              "      <td>76325.696746</td>\n",
              "      <td>-855.540491</td>\n",
              "    </tr>\n",
              "    <tr>\n",
              "      <th>2</th>\n",
              "      <td>51.602862</td>\n",
              "      <td>18.737861</td>\n",
              "      <td>7</td>\n",
              "      <td>351.107451</td>\n",
              "      <td>6579.002768</td>\n",
              "      <td>492.385065</td>\n",
              "      <td>54575.688348</td>\n",
              "      <td>74649.079518</td>\n",
              "      <td>-20073.391170</td>\n",
              "    </tr>\n",
              "    <tr>\n",
              "      <th>3</th>\n",
              "      <td>64.335943</td>\n",
              "      <td>13.116017</td>\n",
              "      <td>6</td>\n",
              "      <td>172.029900</td>\n",
              "      <td>2256.347083</td>\n",
              "      <td>464.711761</td>\n",
              "      <td>86959.445371</td>\n",
              "      <td>76478.365403</td>\n",
              "      <td>10481.079968</td>\n",
              "    </tr>\n",
              "    <tr>\n",
              "      <th>4</th>\n",
              "      <td>54.868062</td>\n",
              "      <td>16.246028</td>\n",
              "      <td>9</td>\n",
              "      <td>263.933438</td>\n",
              "      <td>4287.870130</td>\n",
              "      <td>640.026815</td>\n",
              "      <td>93443.204583</td>\n",
              "      <td>75459.894371</td>\n",
              "      <td>17983.310212</td>\n",
              "    </tr>\n",
              "  </tbody>\n",
              "</table>\n",
              "</div>\n",
              "      <button class=\"colab-df-convert\" onclick=\"convertToInteractive('df-e2c46a45-97f4-4849-99e6-5552326caecd')\"\n",
              "              title=\"Convert this dataframe to an interactive table.\"\n",
              "              style=\"display:none;\">\n",
              "        \n",
              "  <svg xmlns=\"http://www.w3.org/2000/svg\" height=\"24px\"viewBox=\"0 0 24 24\"\n",
              "       width=\"24px\">\n",
              "    <path d=\"M0 0h24v24H0V0z\" fill=\"none\"/>\n",
              "    <path d=\"M18.56 5.44l.94 2.06.94-2.06 2.06-.94-2.06-.94-.94-2.06-.94 2.06-2.06.94zm-11 1L8.5 8.5l.94-2.06 2.06-.94-2.06-.94L8.5 2.5l-.94 2.06-2.06.94zm10 10l.94 2.06.94-2.06 2.06-.94-2.06-.94-.94-2.06-.94 2.06-2.06.94z\"/><path d=\"M17.41 7.96l-1.37-1.37c-.4-.4-.92-.59-1.43-.59-.52 0-1.04.2-1.43.59L10.3 9.45l-7.72 7.72c-.78.78-.78 2.05 0 2.83L4 21.41c.39.39.9.59 1.41.59.51 0 1.02-.2 1.41-.59l7.78-7.78 2.81-2.81c.8-.78.8-2.07 0-2.86zM5.41 20L4 18.59l7.72-7.72 1.47 1.35L5.41 20z\"/>\n",
              "  </svg>\n",
              "      </button>\n",
              "      \n",
              "  <style>\n",
              "    .colab-df-container {\n",
              "      display:flex;\n",
              "      flex-wrap:wrap;\n",
              "      gap: 12px;\n",
              "    }\n",
              "\n",
              "    .colab-df-convert {\n",
              "      background-color: #E8F0FE;\n",
              "      border: none;\n",
              "      border-radius: 50%;\n",
              "      cursor: pointer;\n",
              "      display: none;\n",
              "      fill: #1967D2;\n",
              "      height: 32px;\n",
              "      padding: 0 0 0 0;\n",
              "      width: 32px;\n",
              "    }\n",
              "\n",
              "    .colab-df-convert:hover {\n",
              "      background-color: #E2EBFA;\n",
              "      box-shadow: 0px 1px 2px rgba(60, 64, 67, 0.3), 0px 1px 3px 1px rgba(60, 64, 67, 0.15);\n",
              "      fill: #174EA6;\n",
              "    }\n",
              "\n",
              "    [theme=dark] .colab-df-convert {\n",
              "      background-color: #3B4455;\n",
              "      fill: #D2E3FC;\n",
              "    }\n",
              "\n",
              "    [theme=dark] .colab-df-convert:hover {\n",
              "      background-color: #434B5C;\n",
              "      box-shadow: 0px 1px 3px 1px rgba(0, 0, 0, 0.15);\n",
              "      filter: drop-shadow(0px 1px 2px rgba(0, 0, 0, 0.3));\n",
              "      fill: #FFFFFF;\n",
              "    }\n",
              "  </style>\n",
              "\n",
              "      <script>\n",
              "        const buttonEl =\n",
              "          document.querySelector('#df-e2c46a45-97f4-4849-99e6-5552326caecd button.colab-df-convert');\n",
              "        buttonEl.style.display =\n",
              "          google.colab.kernel.accessAllowed ? 'block' : 'none';\n",
              "\n",
              "        async function convertToInteractive(key) {\n",
              "          const element = document.querySelector('#df-e2c46a45-97f4-4849-99e6-5552326caecd');\n",
              "          const dataTable =\n",
              "            await google.colab.kernel.invokeFunction('convertToInteractive',\n",
              "                                                     [key], {});\n",
              "          if (!dataTable) return;\n",
              "\n",
              "          const docLinkHtml = 'Like what you see? Visit the ' +\n",
              "            '<a target=\"_blank\" href=https://colab.research.google.com/notebooks/data_table.ipynb>data table notebook</a>'\n",
              "            + ' to learn more about interactive tables.';\n",
              "          element.innerHTML = '';\n",
              "          dataTable['output_type'] = 'display_data';\n",
              "          await google.colab.output.renderOutput(dataTable, element);\n",
              "          const docLink = document.createElement('div');\n",
              "          docLink.innerHTML = docLinkHtml;\n",
              "          element.appendChild(docLink);\n",
              "        }\n",
              "      </script>\n",
              "    </div>\n",
              "  </div>\n",
              "  "
            ]
          },
          "metadata": {},
          "execution_count": 563
        }
      ],
      "source": [
        "# Created a new column to show the error current salary minus predicted salary\n",
        "Testset[\"Prediction Error Using Sklearn method\"] = Testset[\"Salary\"]-Testset[\"Predicted Salary Using Sklearn method\"]\n",
        "Testset.head()"
      ]
    },
    {
      "cell_type": "code",
      "execution_count": 564,
      "metadata": {
        "colab": {
          "base_uri": "https://localhost:8080/",
          "height": 312
        },
        "id": "siJbWEBdpQo6",
        "outputId": "301408cf-d084-40a9-c70d-35e42562dfe9"
      },
      "outputs": [
        {
          "output_type": "execute_result",
          "data": {
            "text/plain": [
              "Text(0.5, 1.0, 'Linear Regression: Years of Experience vS Corresponding Salary ')"
            ]
          },
          "metadata": {},
          "execution_count": 564
        },
        {
          "output_type": "display_data",
          "data": {
            "text/plain": [
              "<Figure size 432x288 with 1 Axes>"
            ],
            "image/png": "[encoded data removed]"
          },
          "metadata": {
            "needs_background": "light"
          }
        }
      ],
      "source": [
        "# Plotting Linear Regression graph with Sklearn  \n",
        "plt.scatter(Testset[\"YearsExperience\"], Testset[\"Salary\"])\n",
        "plt.plot(Testset[\"YearsExperience\"],Testset[\"Predicted Salary Using Sklearn method\"], color=\"green\")\n",
        "plt.ylabel(\"Salary\")\n",
        "plt.xlabel(\"Years of Experience\")\n",
        "plt.title(\"Linear Regression: Years of Experience vS Corresponding Salary \")"
      ]
    },
    {
      "cell_type": "code",
      "execution_count": 565,
      "metadata": {
        "id": "NgzST9RBqK5N"
      },
      "outputs": [],
      "source": [
        "m=lm.coef_"
      ]
    },
    {
      "cell_type": "code",
      "execution_count": 566,
      "metadata": {
        "id": "fq3xx4mEqRaj"
      },
      "outputs": [],
      "source": [
        "b=lm.intercept_"
      ]
    },
    {
      "cell_type": "code",
      "execution_count": 615,
      "metadata": {
        "colab": {
          "base_uri": "https://localhost:8080/"
        },
        "id": "ksNgIQWNqa-Z",
        "outputId": "0eb8919e-0664-42b0-fa2c-56e25943fb55"
      },
      "outputs": [
        {
          "output_type": "execute_result",
          "data": {
            "text/plain": [
              "array([[77376.50355158]])"
            ]
          },
          "metadata": {},
          "execution_count": 615
        }
      ],
      "source": [
        "#Testing for 7 years of experience\n",
        "Salary = b + m *11.3\n",
        "Salary"
      ]
    },
    {
      "cell_type": "code",
      "execution_count": 616,
      "metadata": {
        "colab": {
          "base_uri": "https://localhost:8080/"
        },
        "id": "YHslG1s_qpaf",
        "outputId": "bd5f529a-ff88-4646-efb0-c7348017caff"
      },
      "outputs": [
        {
          "output_type": "stream",
          "name": "stderr",
          "text": [
            "/usr/local/lib/python3.7/dist-packages/sklearn/base.py:451: UserWarning: X does not have valid feature names, but LinearRegression was fitted with feature names\n",
            "  \"X does not have valid feature names, but\"\n"
          ]
        },
        {
          "output_type": "execute_result",
          "data": {
            "text/plain": [
              "array([[77376.50355158]])"
            ]
          },
          "metadata": {},
          "execution_count": 616
        }
      ],
      "source": [
        "lm.predict([[11.3]]) "
      ]
    },
    {
      "cell_type": "code",
      "source": [
        "assert Salary == lm.predict([[7]])"
      ],
      "metadata": {
        "colab": {
          "base_uri": "https://localhost:8080/"
        },
        "id": "8BXMUSivOLHB",
        "outputId": "4837feec-ec89-479b-f89a-63759fc14bb9"
      },
      "execution_count": 569,
      "outputs": [
        {
          "output_type": "stream",
          "name": "stderr",
          "text": [
            "/usr/local/lib/python3.7/dist-packages/sklearn/base.py:451: UserWarning: X does not have valid feature names, but LinearRegression was fitted with feature names\n",
            "  \"X does not have valid feature names, but\"\n"
          ]
        }
      ]
    },
    {
      "cell_type": "markdown",
      "metadata": {
        "id": "iGNEIWBjqFyu"
      },
      "source": [
        "AGE VS SALARY CONDITION"
      ]
    },
    {
      "cell_type": "code",
      "execution_count": 570,
      "metadata": {
        "colab": {
          "base_uri": "https://localhost:8080/",
          "height": 296
        },
        "id": "Pg2_Kzd2PddU",
        "outputId": "18dc0f94-c2d7-49cd-b67f-c58cd1120c28"
      },
      "outputs": [
        {
          "output_type": "execute_result",
          "data": {
            "text/plain": [
              "<matplotlib.axes._subplots.AxesSubplot at 0x7fb2412105d0>"
            ]
          },
          "metadata": {},
          "execution_count": 570
        },
        {
          "output_type": "display_data",
          "data": {
            "text/plain": [
              "<Figure size 432x288 with 1 Axes>"
            ],
            "image/png": "[encoded data removed]"
          },
          "metadata": {
            "needs_background": "light"
          }
        }
      ],
      "source": [
        "sns.scatterplot(data=Testset, x=\"Age\",y=\"Salary\")"
      ]
    },
    {
      "cell_type": "code",
      "execution_count": 571,
      "metadata": {
        "id": "weVfbohlpVCy"
      },
      "outputs": [],
      "source": [
        "# Conducting Linear Regression method and inserting data using the fit method\n",
        "# Fit function adjusts weights according to data values so that better accuracy can be achieved\n",
        "\n",
        "lm = linear_model.LinearRegression(). fit(Training[[\"Age\"]],Training[[\"Salary\"]])\n",
        "# Using the predict method\n",
        "result=lm.predict (Testset[[\"Age\"]])"
      ]
    },
    {
      "cell_type": "code",
      "execution_count": 572,
      "metadata": {
        "colab": {
          "base_uri": "https://localhost:8080/",
          "height": 267
        },
        "id": "m9mZK7VQpb6c",
        "outputId": "be770038-5f36-4721-fd73-c46df408a60a"
      },
      "outputs": [
        {
          "output_type": "execute_result",
          "data": {
            "text/plain": [
              "         Age  YearsExperience  Years of Education  QYearsExperience  \\\n",
              "0  59.736875        14.069381                   4        197.947482   \n",
              "1  64.525825        13.585205                   6        184.557800   \n",
              "2  51.602862        18.737861                   7        351.107451   \n",
              "3  64.335943        13.116017                   6        172.029900   \n",
              "4  54.868062        16.246028                   9        263.933438   \n",
              "\n",
              "   CYearsExperience  CombinedParameter        Salary  \\\n",
              "0       2784.998537         295.225026  52477.984042   \n",
              "1       2507.255581         468.666181  75470.156254   \n",
              "2       6579.002768         492.385065  54575.688348   \n",
              "3       2256.347083         464.711761  86959.445371   \n",
              "4       4287.870130         640.026815  93443.204583   \n",
              "\n",
              "   Predicted Salary Using Sklearn method  \\\n",
              "0                           75075.640995   \n",
              "1                           73917.495340   \n",
              "2                           77042.747173   \n",
              "3                           73963.415788   \n",
              "4                           76253.100691   \n",
              "\n",
              "   Prediction Error Using Sklearn method  \n",
              "0                          -22597.656953  \n",
              "1                            1552.660915  \n",
              "2                          -22467.058825  \n",
              "3                           12996.029583  \n",
              "4                           17190.103892  "
            ],
            "text/html": [
              "\n",
              "  <div id=\"df-b85d328d-f579-4dc2-a3e0-0045c90122f5\">\n",
              "    <div class=\"colab-df-container\">\n",
              "      <div>\n",
              "<style scoped>\n",
              "    .dataframe tbody tr th:only-of-type {\n",
              "        vertical-align: middle;\n",
              "    }\n",
              "\n",
              "    .dataframe tbody tr th {\n",
              "        vertical-align: top;\n",
              "    }\n",
              "\n",
              "    .dataframe thead th {\n",
              "        text-align: right;\n",
              "    }\n",
              "</style>\n",
              "<table border=\"1\" class=\"dataframe\">\n",
              "  <thead>\n",
              "    <tr style=\"text-align: right;\">\n",
              "      <th></th>\n",
              "      <th>Age</th>\n",
              "      <th>YearsExperience</th>\n",
              "      <th>Years of Education</th>\n",
              "      <th>QYearsExperience</th>\n",
              "      <th>CYearsExperience</th>\n",
              "      <th>CombinedParameter</th>\n",
              "      <th>Salary</th>\n",
              "      <th>Predicted Salary Using Sklearn method</th>\n",
              "      <th>Prediction Error Using Sklearn method</th>\n",
              "    </tr>\n",
              "  </thead>\n",
              "  <tbody>\n",
              "    <tr>\n",
              "      <th>0</th>\n",
              "      <td>59.736875</td>\n",
              "      <td>14.069381</td>\n",
              "      <td>4</td>\n",
              "      <td>197.947482</td>\n",
              "      <td>2784.998537</td>\n",
              "      <td>295.225026</td>\n",
              "      <td>52477.984042</td>\n",
              "      <td>75075.640995</td>\n",
              "      <td>-22597.656953</td>\n",
              "    </tr>\n",
              "    <tr>\n",
              "      <th>1</th>\n",
              "      <td>64.525825</td>\n",
              "      <td>13.585205</td>\n",
              "      <td>6</td>\n",
              "      <td>184.557800</td>\n",
              "      <td>2507.255581</td>\n",
              "      <td>468.666181</td>\n",
              "      <td>75470.156254</td>\n",
              "      <td>73917.495340</td>\n",
              "      <td>1552.660915</td>\n",
              "    </tr>\n",
              "    <tr>\n",
              "      <th>2</th>\n",
              "      <td>51.602862</td>\n",
              "      <td>18.737861</td>\n",
              "      <td>7</td>\n",
              "      <td>351.107451</td>\n",
              "      <td>6579.002768</td>\n",
              "      <td>492.385065</td>\n",
              "      <td>54575.688348</td>\n",
              "      <td>77042.747173</td>\n",
              "      <td>-22467.058825</td>\n",
              "    </tr>\n",
              "    <tr>\n",
              "      <th>3</th>\n",
              "      <td>64.335943</td>\n",
              "      <td>13.116017</td>\n",
              "      <td>6</td>\n",
              "      <td>172.029900</td>\n",
              "      <td>2256.347083</td>\n",
              "      <td>464.711761</td>\n",
              "      <td>86959.445371</td>\n",
              "      <td>73963.415788</td>\n",
              "      <td>12996.029583</td>\n",
              "    </tr>\n",
              "    <tr>\n",
              "      <th>4</th>\n",
              "      <td>54.868062</td>\n",
              "      <td>16.246028</td>\n",
              "      <td>9</td>\n",
              "      <td>263.933438</td>\n",
              "      <td>4287.870130</td>\n",
              "      <td>640.026815</td>\n",
              "      <td>93443.204583</td>\n",
              "      <td>76253.100691</td>\n",
              "      <td>17190.103892</td>\n",
              "    </tr>\n",
              "  </tbody>\n",
              "</table>\n",
              "</div>\n",
              "      <button class=\"colab-df-convert\" onclick=\"convertToInteractive('df-b85d328d-f579-4dc2-a3e0-0045c90122f5')\"\n",
              "              title=\"Convert this dataframe to an interactive table.\"\n",
              "              style=\"display:none;\">\n",
              "        \n",
              "  <svg xmlns=\"http://www.w3.org/2000/svg\" height=\"24px\"viewBox=\"0 0 24 24\"\n",
              "       width=\"24px\">\n",
              "    <path d=\"M0 0h24v24H0V0z\" fill=\"none\"/>\n",
              "    <path d=\"M18.56 5.44l.94 2.06.94-2.06 2.06-.94-2.06-.94-.94-2.06-.94 2.06-2.06.94zm-11 1L8.5 8.5l.94-2.06 2.06-.94-2.06-.94L8.5 2.5l-.94 2.06-2.06.94zm10 10l.94 2.06.94-2.06 2.06-.94-2.06-.94-.94-2.06-.94 2.06-2.06.94z\"/><path d=\"M17.41 7.96l-1.37-1.37c-.4-.4-.92-.59-1.43-.59-.52 0-1.04.2-1.43.59L10.3 9.45l-7.72 7.72c-.78.78-.78 2.05 0 2.83L4 21.41c.39.39.9.59 1.41.59.51 0 1.02-.2 1.41-.59l7.78-7.78 2.81-2.81c.8-.78.8-2.07 0-2.86zM5.41 20L4 18.59l7.72-7.72 1.47 1.35L5.41 20z\"/>\n",
              "  </svg>\n",
              "      </button>\n",
              "      \n",
              "  <style>\n",
              "    .colab-df-container {\n",
              "      display:flex;\n",
              "      flex-wrap:wrap;\n",
              "      gap: 12px;\n",
              "    }\n",
              "\n",
              "    .colab-df-convert {\n",
              "      background-color: #E8F0FE;\n",
              "      border: none;\n",
              "      border-radius: 50%;\n",
              "      cursor: pointer;\n",
              "      display: none;\n",
              "      fill: #1967D2;\n",
              "      height: 32px;\n",
              "      padding: 0 0 0 0;\n",
              "      width: 32px;\n",
              "    }\n",
              "\n",
              "    .colab-df-convert:hover {\n",
              "      background-color: #E2EBFA;\n",
              "      box-shadow: 0px 1px 2px rgba(60, 64, 67, 0.3), 0px 1px 3px 1px rgba(60, 64, 67, 0.15);\n",
              "      fill: #174EA6;\n",
              "    }\n",
              "\n",
              "    [theme=dark] .colab-df-convert {\n",
              "      background-color: #3B4455;\n",
              "      fill: #D2E3FC;\n",
              "    }\n",
              "\n",
              "    [theme=dark] .colab-df-convert:hover {\n",
              "      background-color: #434B5C;\n",
              "      box-shadow: 0px 1px 3px 1px rgba(0, 0, 0, 0.15);\n",
              "      filter: drop-shadow(0px 1px 2px rgba(0, 0, 0, 0.3));\n",
              "      fill: #FFFFFF;\n",
              "    }\n",
              "  </style>\n",
              "\n",
              "      <script>\n",
              "        const buttonEl =\n",
              "          document.querySelector('#df-b85d328d-f579-4dc2-a3e0-0045c90122f5 button.colab-df-convert');\n",
              "        buttonEl.style.display =\n",
              "          google.colab.kernel.accessAllowed ? 'block' : 'none';\n",
              "\n",
              "        async function convertToInteractive(key) {\n",
              "          const element = document.querySelector('#df-b85d328d-f579-4dc2-a3e0-0045c90122f5');\n",
              "          const dataTable =\n",
              "            await google.colab.kernel.invokeFunction('convertToInteractive',\n",
              "                                                     [key], {});\n",
              "          if (!dataTable) return;\n",
              "\n",
              "          const docLinkHtml = 'Like what you see? Visit the ' +\n",
              "            '<a target=\"_blank\" href=https://colab.research.google.com/notebooks/data_table.ipynb>data table notebook</a>'\n",
              "            + ' to learn more about interactive tables.';\n",
              "          element.innerHTML = '';\n",
              "          dataTable['output_type'] = 'display_data';\n",
              "          await google.colab.output.renderOutput(dataTable, element);\n",
              "          const docLink = document.createElement('div');\n",
              "          docLink.innerHTML = docLinkHtml;\n",
              "          element.appendChild(docLink);\n",
              "        }\n",
              "      </script>\n",
              "    </div>\n",
              "  </div>\n",
              "  "
            ]
          },
          "metadata": {},
          "execution_count": 572
        }
      ],
      "source": [
        "# Creating a new column to place contents of the result variable\n",
        "Testset[\"Predicted Salary Using Sklearn method\"]= result\n",
        "Testset[\"Prediction Error Using Sklearn method\"] = Testset[\"Salary\"]-Testset[\"Predicted Salary Using Sklearn method\"]\n",
        "Testset.head()"
      ]
    },
    {
      "cell_type": "code",
      "execution_count": 573,
      "metadata": {
        "colab": {
          "base_uri": "https://localhost:8080/",
          "height": 312
        },
        "id": "EqCxXV1Hpz92",
        "outputId": "81a0b372-0bc0-4ca0-bc75-d878428d537f"
      },
      "outputs": [
        {
          "output_type": "execute_result",
          "data": {
            "text/plain": [
              "Text(0.5, 1.0, 'Linear Regression: Age vS Corresponding Salary ')"
            ]
          },
          "metadata": {},
          "execution_count": 573
        },
        {
          "output_type": "display_data",
          "data": {
            "text/plain": [
              "<Figure size 432x288 with 1 Axes>"
            ],
            "image/png": "[encoded data removed]"
          },
          "metadata": {
            "needs_background": "light"
          }
        }
      ],
      "source": [
        "plt.scatter(Testset[\"Age\"], Testset[\"Salary\"])\n",
        "plt.plot(Testset[\"Age\"],Testset[\"Predicted Salary Using Sklearn method\"], color=\"orange\")\n",
        "plt.ylabel(\"Salary\")\n",
        "plt.xlabel(\"Age\")\n",
        "plt.title(\"Linear Regression: Age vS Corresponding Salary \")"
      ]
    },
    {
      "cell_type": "code",
      "execution_count": 574,
      "metadata": {
        "id": "xyIVoYreq3dH"
      },
      "outputs": [],
      "source": [
        "m=lm.coef_"
      ]
    },
    {
      "cell_type": "code",
      "execution_count": 575,
      "metadata": {
        "id": "2vKSTEQEq6UU"
      },
      "outputs": [],
      "source": [
        "b=lm.intercept_"
      ]
    },
    {
      "cell_type": "code",
      "execution_count": 576,
      "metadata": {
        "colab": {
          "base_uri": "https://localhost:8080/"
        },
        "id": "Mfik9PuDrAiM",
        "outputId": "e61b89e2-f5a1-4995-917e-e1b1873af53a"
      },
      "outputs": [
        {
          "output_type": "execute_result",
          "data": {
            "text/plain": [
              "array([[87829.37403871]])"
            ]
          },
          "metadata": {},
          "execution_count": 576
        }
      ],
      "source": [
        "#Testing for 7 years of experience\n",
        "Salary = b + m * 7\n",
        "Salary"
      ]
    },
    {
      "cell_type": "code",
      "execution_count": 577,
      "metadata": {
        "colab": {
          "base_uri": "https://localhost:8080/"
        },
        "id": "cOZBSt_irH-y",
        "outputId": "65a77afc-c859-4df3-f124-3283cf021971"
      },
      "outputs": [
        {
          "output_type": "stream",
          "name": "stderr",
          "text": [
            "/usr/local/lib/python3.7/dist-packages/sklearn/base.py:451: UserWarning: X does not have valid feature names, but LinearRegression was fitted with feature names\n",
            "  \"X does not have valid feature names, but\"\n"
          ]
        },
        {
          "output_type": "execute_result",
          "data": {
            "text/plain": [
              "array([[87829.37403871]])"
            ]
          },
          "metadata": {},
          "execution_count": 577
        }
      ],
      "source": [
        "lm.predict([[7]])"
      ]
    },
    {
      "cell_type": "code",
      "source": [
        "assert Salary == lm.predict([[7]])"
      ],
      "metadata": {
        "colab": {
          "base_uri": "https://localhost:8080/"
        },
        "id": "dhU5WROKOnvS",
        "outputId": "efbb1229-a853-415c-e846-d359f85b2568"
      },
      "execution_count": 578,
      "outputs": [
        {
          "output_type": "stream",
          "name": "stderr",
          "text": [
            "/usr/local/lib/python3.7/dist-packages/sklearn/base.py:451: UserWarning: X does not have valid feature names, but LinearRegression was fitted with feature names\n",
            "  \"X does not have valid feature names, but\"\n"
          ]
        }
      ]
    },
    {
      "cell_type": "markdown",
      "source": [
        "YEARS OF EDUCATION VS SALARY"
      ],
      "metadata": {
        "id": "97IQhS-s5fFi"
      }
    },
    {
      "cell_type": "code",
      "source": [
        "sns.scatterplot(data=Testset, x=\"Years of Education\",y=\"Salary\")"
      ],
      "metadata": {
        "colab": {
          "base_uri": "https://localhost:8080/",
          "height": 296
        },
        "id": "gut-djL05ixa",
        "outputId": "5d4e470c-bd18-4dc3-f689-07bcff1de174"
      },
      "execution_count": 579,
      "outputs": [
        {
          "output_type": "execute_result",
          "data": {
            "text/plain": [
              "<matplotlib.axes._subplots.AxesSubplot at 0x7fb24119a3d0>"
            ]
          },
          "metadata": {},
          "execution_count": 579
        },
        {
          "output_type": "display_data",
          "data": {
            "text/plain": [
              "<Figure size 432x288 with 1 Axes>"
            ],
            "image/png": "[encoded data removed]"
          },
          "metadata": {
            "needs_background": "light"
          }
        }
      ]
    },
    {
      "cell_type": "code",
      "source": [
        "# Conducting Linear Regression method and inserting data using the fit method\n",
        "# Fit function adjusts weights according to data values so that better accuracy can be achieved\n",
        "\n",
        "lm = linear_model.LinearRegression(). fit(Training[[\"Years of Education\"]],Training[[\"Salary\"]])\n",
        "# Using the predict method\n",
        "result=lm.predict (Testset[[\"Years of Education\"]])"
      ],
      "metadata": {
        "id": "hzKQu2F357Se"
      },
      "execution_count": 580,
      "outputs": []
    },
    {
      "cell_type": "code",
      "source": [
        "# Creating a new column to place contents of the result variable\n",
        "Testset[\"Predicted Salary Using Sklearn method\"]= result\n",
        "Testset[\"Prediction Error Using Sklearn method\"] = Testset[\"Salary\"]-Testset[\"Predicted Salary Using Sklearn method\"]\n",
        "Testset.head()"
      ],
      "metadata": {
        "colab": {
          "base_uri": "https://localhost:8080/",
          "height": 267
        },
        "id": "m9Mu9QCY6E4r",
        "outputId": "c5c99bfb-9453-4c26-8a06-733414ff4c32"
      },
      "execution_count": 581,
      "outputs": [
        {
          "output_type": "execute_result",
          "data": {
            "text/plain": [
              "         Age  YearsExperience  Years of Education  QYearsExperience  \\\n",
              "0  59.736875        14.069381                   4        197.947482   \n",
              "1  64.525825        13.585205                   6        184.557800   \n",
              "2  51.602862        18.737861                   7        351.107451   \n",
              "3  64.335943        13.116017                   6        172.029900   \n",
              "4  54.868062        16.246028                   9        263.933438   \n",
              "\n",
              "   CYearsExperience  CombinedParameter        Salary  \\\n",
              "0       2784.998537         295.225026  52477.984042   \n",
              "1       2507.255581         468.666181  75470.156254   \n",
              "2       6579.002768         492.385065  54575.688348   \n",
              "3       2256.347083         464.711761  86959.445371   \n",
              "4       4287.870130         640.026815  93443.204583   \n",
              "\n",
              "   Predicted Salary Using Sklearn method  \\\n",
              "0                           74464.656261   \n",
              "1                           75681.268588   \n",
              "2                           76289.574752   \n",
              "3                           75681.268588   \n",
              "4                           77506.187079   \n",
              "\n",
              "   Prediction Error Using Sklearn method  \n",
              "0                          -21986.672218  \n",
              "1                            -211.112334  \n",
              "2                          -21713.886403  \n",
              "3                           11278.176783  \n",
              "4                           15937.017504  "
            ],
            "text/html": [
              "\n",
              "  <div id=\"df-8abd0a94-3140-4e74-8118-7ab35e25d8f6\">\n",
              "    <div class=\"colab-df-container\">\n",
              "      <div>\n",
              "<style scoped>\n",
              "    .dataframe tbody tr th:only-of-type {\n",
              "        vertical-align: middle;\n",
              "    }\n",
              "\n",
              "    .dataframe tbody tr th {\n",
              "        vertical-align: top;\n",
              "    }\n",
              "\n",
              "    .dataframe thead th {\n",
              "        text-align: right;\n",
              "    }\n",
              "</style>\n",
              "<table border=\"1\" class=\"dataframe\">\n",
              "  <thead>\n",
              "    <tr style=\"text-align: right;\">\n",
              "      <th></th>\n",
              "      <th>Age</th>\n",
              "      <th>YearsExperience</th>\n",
              "      <th>Years of Education</th>\n",
              "      <th>QYearsExperience</th>\n",
              "      <th>CYearsExperience</th>\n",
              "      <th>CombinedParameter</th>\n",
              "      <th>Salary</th>\n",
              "      <th>Predicted Salary Using Sklearn method</th>\n",
              "      <th>Prediction Error Using Sklearn method</th>\n",
              "    </tr>\n",
              "  </thead>\n",
              "  <tbody>\n",
              "    <tr>\n",
              "      <th>0</th>\n",
              "      <td>59.736875</td>\n",
              "      <td>14.069381</td>\n",
              "      <td>4</td>\n",
              "      <td>197.947482</td>\n",
              "      <td>2784.998537</td>\n",
              "      <td>295.225026</td>\n",
              "      <td>52477.984042</td>\n",
              "      <td>74464.656261</td>\n",
              "      <td>-21986.672218</td>\n",
              "    </tr>\n",
              "    <tr>\n",
              "      <th>1</th>\n",
              "      <td>64.525825</td>\n",
              "      <td>13.585205</td>\n",
              "      <td>6</td>\n",
              "      <td>184.557800</td>\n",
              "      <td>2507.255581</td>\n",
              "      <td>468.666181</td>\n",
              "      <td>75470.156254</td>\n",
              "      <td>75681.268588</td>\n",
              "      <td>-211.112334</td>\n",
              "    </tr>\n",
              "    <tr>\n",
              "      <th>2</th>\n",
              "      <td>51.602862</td>\n",
              "      <td>18.737861</td>\n",
              "      <td>7</td>\n",
              "      <td>351.107451</td>\n",
              "      <td>6579.002768</td>\n",
              "      <td>492.385065</td>\n",
              "      <td>54575.688348</td>\n",
              "      <td>76289.574752</td>\n",
              "      <td>-21713.886403</td>\n",
              "    </tr>\n",
              "    <tr>\n",
              "      <th>3</th>\n",
              "      <td>64.335943</td>\n",
              "      <td>13.116017</td>\n",
              "      <td>6</td>\n",
              "      <td>172.029900</td>\n",
              "      <td>2256.347083</td>\n",
              "      <td>464.711761</td>\n",
              "      <td>86959.445371</td>\n",
              "      <td>75681.268588</td>\n",
              "      <td>11278.176783</td>\n",
              "    </tr>\n",
              "    <tr>\n",
              "      <th>4</th>\n",
              "      <td>54.868062</td>\n",
              "      <td>16.246028</td>\n",
              "      <td>9</td>\n",
              "      <td>263.933438</td>\n",
              "      <td>4287.870130</td>\n",
              "      <td>640.026815</td>\n",
              "      <td>93443.204583</td>\n",
              "      <td>77506.187079</td>\n",
              "      <td>15937.017504</td>\n",
              "    </tr>\n",
              "  </tbody>\n",
              "</table>\n",
              "</div>\n",
              "      <button class=\"colab-df-convert\" onclick=\"convertToInteractive('df-8abd0a94-3140-4e74-8118-7ab35e25d8f6')\"\n",
              "              title=\"Convert this dataframe to an interactive table.\"\n",
              "              style=\"display:none;\">\n",
              "        \n",
              "  <svg xmlns=\"http://www.w3.org/2000/svg\" height=\"24px\"viewBox=\"0 0 24 24\"\n",
              "       width=\"24px\">\n",
              "    <path d=\"M0 0h24v24H0V0z\" fill=\"none\"/>\n",
              "    <path d=\"M18.56 5.44l.94 2.06.94-2.06 2.06-.94-2.06-.94-.94-2.06-.94 2.06-2.06.94zm-11 1L8.5 8.5l.94-2.06 2.06-.94-2.06-.94L8.5 2.5l-.94 2.06-2.06.94zm10 10l.94 2.06.94-2.06 2.06-.94-2.06-.94-.94-2.06-.94 2.06-2.06.94z\"/><path d=\"M17.41 7.96l-1.37-1.37c-.4-.4-.92-.59-1.43-.59-.52 0-1.04.2-1.43.59L10.3 9.45l-7.72 7.72c-.78.78-.78 2.05 0 2.83L4 21.41c.39.39.9.59 1.41.59.51 0 1.02-.2 1.41-.59l7.78-7.78 2.81-2.81c.8-.78.8-2.07 0-2.86zM5.41 20L4 18.59l7.72-7.72 1.47 1.35L5.41 20z\"/>\n",
              "  </svg>\n",
              "      </button>\n",
              "      \n",
              "  <style>\n",
              "    .colab-df-container {\n",
              "      display:flex;\n",
              "      flex-wrap:wrap;\n",
              "      gap: 12px;\n",
              "    }\n",
              "\n",
              "    .colab-df-convert {\n",
              "      background-color: #E8F0FE;\n",
              "      border: none;\n",
              "      border-radius: 50%;\n",
              "      cursor: pointer;\n",
              "      display: none;\n",
              "      fill: #1967D2;\n",
              "      height: 32px;\n",
              "      padding: 0 0 0 0;\n",
              "      width: 32px;\n",
              "    }\n",
              "\n",
              "    .colab-df-convert:hover {\n",
              "      background-color: #E2EBFA;\n",
              "      box-shadow: 0px 1px 2px rgba(60, 64, 67, 0.3), 0px 1px 3px 1px rgba(60, 64, 67, 0.15);\n",
              "      fill: #174EA6;\n",
              "    }\n",
              "\n",
              "    [theme=dark] .colab-df-convert {\n",
              "      background-color: #3B4455;\n",
              "      fill: #D2E3FC;\n",
              "    }\n",
              "\n",
              "    [theme=dark] .colab-df-convert:hover {\n",
              "      background-color: #434B5C;\n",
              "      box-shadow: 0px 1px 3px 1px rgba(0, 0, 0, 0.15);\n",
              "      filter: drop-shadow(0px 1px 2px rgba(0, 0, 0, 0.3));\n",
              "      fill: #FFFFFF;\n",
              "    }\n",
              "  </style>\n",
              "\n",
              "      <script>\n",
              "        const buttonEl =\n",
              "          document.querySelector('#df-8abd0a94-3140-4e74-8118-7ab35e25d8f6 button.colab-df-convert');\n",
              "        buttonEl.style.display =\n",
              "          google.colab.kernel.accessAllowed ? 'block' : 'none';\n",
              "\n",
              "        async function convertToInteractive(key) {\n",
              "          const element = document.querySelector('#df-8abd0a94-3140-4e74-8118-7ab35e25d8f6');\n",
              "          const dataTable =\n",
              "            await google.colab.kernel.invokeFunction('convertToInteractive',\n",
              "                                                     [key], {});\n",
              "          if (!dataTable) return;\n",
              "\n",
              "          const docLinkHtml = 'Like what you see? Visit the ' +\n",
              "            '<a target=\"_blank\" href=https://colab.research.google.com/notebooks/data_table.ipynb>data table notebook</a>'\n",
              "            + ' to learn more about interactive tables.';\n",
              "          element.innerHTML = '';\n",
              "          dataTable['output_type'] = 'display_data';\n",
              "          await google.colab.output.renderOutput(dataTable, element);\n",
              "          const docLink = document.createElement('div');\n",
              "          docLink.innerHTML = docLinkHtml;\n",
              "          element.appendChild(docLink);\n",
              "        }\n",
              "      </script>\n",
              "    </div>\n",
              "  </div>\n",
              "  "
            ]
          },
          "metadata": {},
          "execution_count": 581
        }
      ]
    },
    {
      "cell_type": "code",
      "source": [
        "plt.scatter(Testset[\"Years of Education\"], Testset[\"Salary\"])\n",
        "plt.plot(Testset[\"Years of Education\"],Testset[\"Predicted Salary Using Sklearn method\"], color=\"violet\")\n",
        "plt.ylabel(\"Salary\")\n",
        "plt.xlabel(\"Years of Education\")\n",
        "plt.title(\"Linear Regression: Years of Education vS Corresponding Salary \")"
      ],
      "metadata": {
        "colab": {
          "base_uri": "https://localhost:8080/",
          "height": 312
        },
        "id": "7-YV6GWC6Lrn",
        "outputId": "96e01e2a-a87e-4796-d045-fe7ac2e511fb"
      },
      "execution_count": 582,
      "outputs": [
        {
          "output_type": "execute_result",
          "data": {
            "text/plain": [
              "Text(0.5, 1.0, 'Linear Regression: Years of Education vS Corresponding Salary ')"
            ]
          },
          "metadata": {},
          "execution_count": 582
        },
        {
          "output_type": "display_data",
          "data": {
            "text/plain": [
              "<Figure size 432x288 with 1 Axes>"
            ],
            "image/png": "[encoded data removed]"
          },
          "metadata": {
            "needs_background": "light"
          }
        }
      ]
    },
    {
      "cell_type": "code",
      "source": [
        "m=lm.coef_"
      ],
      "metadata": {
        "id": "8b-4VYsI6U_r"
      },
      "execution_count": 583,
      "outputs": []
    },
    {
      "cell_type": "code",
      "source": [
        "b=lm.intercept_\n"
      ],
      "metadata": {
        "id": "T3RVXXfC6YQ4"
      },
      "execution_count": 584,
      "outputs": []
    },
    {
      "cell_type": "code",
      "source": [
        "#Testing for 7 years of education\n",
        "Salary = b + m * 7\n",
        "Salary"
      ],
      "metadata": {
        "colab": {
          "base_uri": "https://localhost:8080/"
        },
        "id": "boqYafPB6cwz",
        "outputId": "c0c2db7c-28cd-4219-cdaa-7de9b11c2e8c"
      },
      "execution_count": 585,
      "outputs": [
        {
          "output_type": "execute_result",
          "data": {
            "text/plain": [
              "array([[76289.5747518]])"
            ]
          },
          "metadata": {},
          "execution_count": 585
        }
      ]
    },
    {
      "cell_type": "code",
      "source": [
        "lm.predict([[7]])"
      ],
      "metadata": {
        "id": "-PxfafgQ6leG",
        "outputId": "acd13f47-dd80-4b69-cd83-e95fe35e0535",
        "colab": {
          "base_uri": "https://localhost:8080/"
        }
      },
      "execution_count": 586,
      "outputs": [
        {
          "output_type": "stream",
          "name": "stderr",
          "text": [
            "/usr/local/lib/python3.7/dist-packages/sklearn/base.py:451: UserWarning: X does not have valid feature names, but LinearRegression was fitted with feature names\n",
            "  \"X does not have valid feature names, but\"\n"
          ]
        },
        {
          "output_type": "execute_result",
          "data": {
            "text/plain": [
              "array([[76289.5747518]])"
            ]
          },
          "metadata": {},
          "execution_count": 586
        }
      ]
    },
    {
      "cell_type": "code",
      "source": [
        "assert Salary == lm.predict([[7]])"
      ],
      "metadata": {
        "colab": {
          "base_uri": "https://localhost:8080/"
        },
        "id": "El_sKe8SOv2t",
        "outputId": "44e3c0e4-ef87-4492-a35d-cfff3047ec71"
      },
      "execution_count": 587,
      "outputs": [
        {
          "output_type": "stream",
          "name": "stderr",
          "text": [
            "/usr/local/lib/python3.7/dist-packages/sklearn/base.py:451: UserWarning: X does not have valid feature names, but LinearRegression was fitted with feature names\n",
            "  \"X does not have valid feature names, but\"\n"
          ]
        }
      ]
    },
    {
      "cell_type": "markdown",
      "source": [
        "THREE PARAMETERS VS SALARY\n"
      ],
      "metadata": {
        "id": "AobDEdPhQ56I"
      }
    },
    {
      "cell_type": "code",
      "source": [
        "sns.scatterplot(data=Testset, x=\"CombinedParameter\",y=\"Salary\")"
      ],
      "metadata": {
        "id": "_7SsDxGnRAyz",
        "colab": {
          "base_uri": "https://localhost:8080/",
          "height": 296
        },
        "outputId": "3e87dae2-d722-41c9-fbe6-c2f04572ddb3"
      },
      "execution_count": 588,
      "outputs": [
        {
          "output_type": "execute_result",
          "data": {
            "text/plain": [
              "<matplotlib.axes._subplots.AxesSubplot at 0x7fb241053190>"
            ]
          },
          "metadata": {},
          "execution_count": 588
        },
        {
          "output_type": "display_data",
          "data": {
            "text/plain": [
              "<Figure size 432x288 with 1 Axes>"
            ],
            "image/png": "[encoded data removed]"
          },
          "metadata": {
            "needs_background": "light"
          }
        }
      ]
    },
    {
      "cell_type": "code",
      "source": [
        "# Conducting Linear Regression method and inserting data using the fit method\n",
        "# Fit function adjusts weights according to data values so that better accuracy can be achieved\n",
        "\n",
        "lm = linear_model.LinearRegression(). fit(Training[[\"CombinedParameter\"]],Training[[\"Salary\"]])\n",
        "# Using the predict method\n",
        "result=lm.predict (Testset[[\"CombinedParameter\"]])"
      ],
      "metadata": {
        "id": "Z_wc2KLcSjYR"
      },
      "execution_count": 589,
      "outputs": []
    },
    {
      "cell_type": "code",
      "source": [
        "# Creating a new column to place contents of the result variable\n",
        "Testset[\"Predicted Salary Using Sklearn method\"]= result\n",
        "Testset[\"Prediction Error Using Sklearn method\"] = Testset[\"Salary\"]-Testset[\"Predicted Salary Using Sklearn method\"]\n",
        "Testset.head()"
      ],
      "metadata": {
        "colab": {
          "base_uri": "https://localhost:8080/",
          "height": 267
        },
        "id": "Jiu9LOuASu5G",
        "outputId": "6d8f4e0f-35b5-4b87-9b16-0cbca97bb547"
      },
      "execution_count": 590,
      "outputs": [
        {
          "output_type": "execute_result",
          "data": {
            "text/plain": [
              "         Age  YearsExperience  Years of Education  QYearsExperience  \\\n",
              "0  59.736875        14.069381                   4        197.947482   \n",
              "1  64.525825        13.585205                   6        184.557800   \n",
              "2  51.602862        18.737861                   7        351.107451   \n",
              "3  64.335943        13.116017                   6        172.029900   \n",
              "4  54.868062        16.246028                   9        263.933438   \n",
              "\n",
              "   CYearsExperience  CombinedParameter        Salary  \\\n",
              "0       2784.998537         295.225026  52477.984042   \n",
              "1       2507.255581         468.666181  75470.156254   \n",
              "2       6579.002768         492.385065  54575.688348   \n",
              "3       2256.347083         464.711761  86959.445371   \n",
              "4       4287.870130         640.026815  93443.204583   \n",
              "\n",
              "   Predicted Salary Using Sklearn method  \\\n",
              "0                           74745.669346   \n",
              "1                           75780.465192   \n",
              "2                           75921.978338   \n",
              "3                           75756.872076   \n",
              "4                           76802.848100   \n",
              "\n",
              "   Prediction Error Using Sklearn method  \n",
              "0                          -22267.685304  \n",
              "1                            -310.308938  \n",
              "2                          -21346.289990  \n",
              "3                           11202.573295  \n",
              "4                           16640.356483  "
            ],
            "text/html": [
              "\n",
              "  <div id=\"df-bb914f0a-7b9a-4fb6-8ca5-dcdfc07fc8a6\">\n",
              "    <div class=\"colab-df-container\">\n",
              "      <div>\n",
              "<style scoped>\n",
              "    .dataframe tbody tr th:only-of-type {\n",
              "        vertical-align: middle;\n",
              "    }\n",
              "\n",
              "    .dataframe tbody tr th {\n",
              "        vertical-align: top;\n",
              "    }\n",
              "\n",
              "    .dataframe thead th {\n",
              "        text-align: right;\n",
              "    }\n",
              "</style>\n",
              "<table border=\"1\" class=\"dataframe\">\n",
              "  <thead>\n",
              "    <tr style=\"text-align: right;\">\n",
              "      <th></th>\n",
              "      <th>Age</th>\n",
              "      <th>YearsExperience</th>\n",
              "      <th>Years of Education</th>\n",
              "      <th>QYearsExperience</th>\n",
              "      <th>CYearsExperience</th>\n",
              "      <th>CombinedParameter</th>\n",
              "      <th>Salary</th>\n",
              "      <th>Predicted Salary Using Sklearn method</th>\n",
              "      <th>Prediction Error Using Sklearn method</th>\n",
              "    </tr>\n",
              "  </thead>\n",
              "  <tbody>\n",
              "    <tr>\n",
              "      <th>0</th>\n",
              "      <td>59.736875</td>\n",
              "      <td>14.069381</td>\n",
              "      <td>4</td>\n",
              "      <td>197.947482</td>\n",
              "      <td>2784.998537</td>\n",
              "      <td>295.225026</td>\n",
              "      <td>52477.984042</td>\n",
              "      <td>74745.669346</td>\n",
              "      <td>-22267.685304</td>\n",
              "    </tr>\n",
              "    <tr>\n",
              "      <th>1</th>\n",
              "      <td>64.525825</td>\n",
              "      <td>13.585205</td>\n",
              "      <td>6</td>\n",
              "      <td>184.557800</td>\n",
              "      <td>2507.255581</td>\n",
              "      <td>468.666181</td>\n",
              "      <td>75470.156254</td>\n",
              "      <td>75780.465192</td>\n",
              "      <td>-310.308938</td>\n",
              "    </tr>\n",
              "    <tr>\n",
              "      <th>2</th>\n",
              "      <td>51.602862</td>\n",
              "      <td>18.737861</td>\n",
              "      <td>7</td>\n",
              "      <td>351.107451</td>\n",
              "      <td>6579.002768</td>\n",
              "      <td>492.385065</td>\n",
              "      <td>54575.688348</td>\n",
              "      <td>75921.978338</td>\n",
              "      <td>-21346.289990</td>\n",
              "    </tr>\n",
              "    <tr>\n",
              "      <th>3</th>\n",
              "      <td>64.335943</td>\n",
              "      <td>13.116017</td>\n",
              "      <td>6</td>\n",
              "      <td>172.029900</td>\n",
              "      <td>2256.347083</td>\n",
              "      <td>464.711761</td>\n",
              "      <td>86959.445371</td>\n",
              "      <td>75756.872076</td>\n",
              "      <td>11202.573295</td>\n",
              "    </tr>\n",
              "    <tr>\n",
              "      <th>4</th>\n",
              "      <td>54.868062</td>\n",
              "      <td>16.246028</td>\n",
              "      <td>9</td>\n",
              "      <td>263.933438</td>\n",
              "      <td>4287.870130</td>\n",
              "      <td>640.026815</td>\n",
              "      <td>93443.204583</td>\n",
              "      <td>76802.848100</td>\n",
              "      <td>16640.356483</td>\n",
              "    </tr>\n",
              "  </tbody>\n",
              "</table>\n",
              "</div>\n",
              "      <button class=\"colab-df-convert\" onclick=\"convertToInteractive('df-bb914f0a-7b9a-4fb6-8ca5-dcdfc07fc8a6')\"\n",
              "              title=\"Convert this dataframe to an interactive table.\"\n",
              "              style=\"display:none;\">\n",
              "        \n",
              "  <svg xmlns=\"http://www.w3.org/2000/svg\" height=\"24px\"viewBox=\"0 0 24 24\"\n",
              "       width=\"24px\">\n",
              "    <path d=\"M0 0h24v24H0V0z\" fill=\"none\"/>\n",
              "    <path d=\"M18.56 5.44l.94 2.06.94-2.06 2.06-.94-2.06-.94-.94-2.06-.94 2.06-2.06.94zm-11 1L8.5 8.5l.94-2.06 2.06-.94-2.06-.94L8.5 2.5l-.94 2.06-2.06.94zm10 10l.94 2.06.94-2.06 2.06-.94-2.06-.94-.94-2.06-.94 2.06-2.06.94z\"/><path d=\"M17.41 7.96l-1.37-1.37c-.4-.4-.92-.59-1.43-.59-.52 0-1.04.2-1.43.59L10.3 9.45l-7.72 7.72c-.78.78-.78 2.05 0 2.83L4 21.41c.39.39.9.59 1.41.59.51 0 1.02-.2 1.41-.59l7.78-7.78 2.81-2.81c.8-.78.8-2.07 0-2.86zM5.41 20L4 18.59l7.72-7.72 1.47 1.35L5.41 20z\"/>\n",
              "  </svg>\n",
              "      </button>\n",
              "      \n",
              "  <style>\n",
              "    .colab-df-container {\n",
              "      display:flex;\n",
              "      flex-wrap:wrap;\n",
              "      gap: 12px;\n",
              "    }\n",
              "\n",
              "    .colab-df-convert {\n",
              "      background-color: #E8F0FE;\n",
              "      border: none;\n",
              "      border-radius: 50%;\n",
              "      cursor: pointer;\n",
              "      display: none;\n",
              "      fill: #1967D2;\n",
              "      height: 32px;\n",
              "      padding: 0 0 0 0;\n",
              "      width: 32px;\n",
              "    }\n",
              "\n",
              "    .colab-df-convert:hover {\n",
              "      background-color: #E2EBFA;\n",
              "      box-shadow: 0px 1px 2px rgba(60, 64, 67, 0.3), 0px 1px 3px 1px rgba(60, 64, 67, 0.15);\n",
              "      fill: #174EA6;\n",
              "    }\n",
              "\n",
              "    [theme=dark] .colab-df-convert {\n",
              "      background-color: #3B4455;\n",
              "      fill: #D2E3FC;\n",
              "    }\n",
              "\n",
              "    [theme=dark] .colab-df-convert:hover {\n",
              "      background-color: #434B5C;\n",
              "      box-shadow: 0px 1px 3px 1px rgba(0, 0, 0, 0.15);\n",
              "      filter: drop-shadow(0px 1px 2px rgba(0, 0, 0, 0.3));\n",
              "      fill: #FFFFFF;\n",
              "    }\n",
              "  </style>\n",
              "\n",
              "      <script>\n",
              "        const buttonEl =\n",
              "          document.querySelector('#df-bb914f0a-7b9a-4fb6-8ca5-dcdfc07fc8a6 button.colab-df-convert');\n",
              "        buttonEl.style.display =\n",
              "          google.colab.kernel.accessAllowed ? 'block' : 'none';\n",
              "\n",
              "        async function convertToInteractive(key) {\n",
              "          const element = document.querySelector('#df-bb914f0a-7b9a-4fb6-8ca5-dcdfc07fc8a6');\n",
              "          const dataTable =\n",
              "            await google.colab.kernel.invokeFunction('convertToInteractive',\n",
              "                                                     [key], {});\n",
              "          if (!dataTable) return;\n",
              "\n",
              "          const docLinkHtml = 'Like what you see? Visit the ' +\n",
              "            '<a target=\"_blank\" href=https://colab.research.google.com/notebooks/data_table.ipynb>data table notebook</a>'\n",
              "            + ' to learn more about interactive tables.';\n",
              "          element.innerHTML = '';\n",
              "          dataTable['output_type'] = 'display_data';\n",
              "          await google.colab.output.renderOutput(dataTable, element);\n",
              "          const docLink = document.createElement('div');\n",
              "          docLink.innerHTML = docLinkHtml;\n",
              "          element.appendChild(docLink);\n",
              "        }\n",
              "      </script>\n",
              "    </div>\n",
              "  </div>\n",
              "  "
            ]
          },
          "metadata": {},
          "execution_count": 590
        }
      ]
    },
    {
      "cell_type": "code",
      "source": [
        "plt.scatter(Testset[\"CombinedParameter\"], Testset[\"Salary\"])\n",
        "plt.plot(Testset[\"CombinedParameter\"],Testset[\"Predicted Salary Using Sklearn method\"], color=\"orange\")\n",
        "plt.ylabel(\"Salary\")\n",
        "plt.xlabel(\"Combined Parameters\")\n",
        "plt.title(\"Linear Regression: Combined Parameters vS Corresponding Salary \")"
      ],
      "metadata": {
        "colab": {
          "base_uri": "https://localhost:8080/",
          "height": 312
        },
        "id": "VfNzF5AfS6Ea",
        "outputId": "4cfd5f58-30ee-4e52-8041-c1f2e05c2305"
      },
      "execution_count": 591,
      "outputs": [
        {
          "output_type": "execute_result",
          "data": {
            "text/plain": [
              "Text(0.5, 1.0, 'Linear Regression: Combined Parameters vS Corresponding Salary ')"
            ]
          },
          "metadata": {},
          "execution_count": 591
        },
        {
          "output_type": "display_data",
          "data": {
            "text/plain": [
              "<Figure size 432x288 with 1 Axes>"
            ],
            "image/png": "[encoded data removed]"
          },
          "metadata": {
            "needs_background": "light"
          }
        }
      ]
    },
    {
      "cell_type": "code",
      "source": [
        "m=lm.coef_"
      ],
      "metadata": {
        "id": "n4kFMoHcTOBh"
      },
      "execution_count": 592,
      "outputs": []
    },
    {
      "cell_type": "code",
      "source": [
        "b=lm.intercept_"
      ],
      "metadata": {
        "id": "zWw23MkqTSEm"
      },
      "execution_count": 593,
      "outputs": []
    },
    {
      "cell_type": "code",
      "source": [
        "#Testing for 7 years of education\n",
        "Salary = b + m * 7\n",
        "Salary"
      ],
      "metadata": {
        "colab": {
          "base_uri": "https://localhost:8080/"
        },
        "id": "T_xbMfwjTUhL",
        "outputId": "f0f5edb7-19f9-4eb6-b9b8-5fb8ef58ce60"
      },
      "execution_count": 594,
      "outputs": [
        {
          "output_type": "execute_result",
          "data": {
            "text/plain": [
              "array([[73026.04253879]])"
            ]
          },
          "metadata": {},
          "execution_count": 594
        }
      ]
    },
    {
      "cell_type": "code",
      "source": [
        "lm.predict([[7]])"
      ],
      "metadata": {
        "colab": {
          "base_uri": "https://localhost:8080/"
        },
        "id": "3bSNTsNETXp-",
        "outputId": "a18ff5e2-79fe-41a0-cd9b-805bb075235f"
      },
      "execution_count": 595,
      "outputs": [
        {
          "output_type": "stream",
          "name": "stderr",
          "text": [
            "/usr/local/lib/python3.7/dist-packages/sklearn/base.py:451: UserWarning: X does not have valid feature names, but LinearRegression was fitted with feature names\n",
            "  \"X does not have valid feature names, but\"\n"
          ]
        },
        {
          "output_type": "execute_result",
          "data": {
            "text/plain": [
              "array([[73026.04253879]])"
            ]
          },
          "metadata": {},
          "execution_count": 595
        }
      ]
    },
    {
      "cell_type": "code",
      "source": [
        "assert Salary == lm.predict([[7]])"
      ],
      "metadata": {
        "colab": {
          "base_uri": "https://localhost:8080/"
        },
        "id": "VUlJjmCqTcck",
        "outputId": "40cf923c-bf62-4ae2-a166-12e519cd17bd"
      },
      "execution_count": 596,
      "outputs": [
        {
          "output_type": "stream",
          "name": "stderr",
          "text": [
            "/usr/local/lib/python3.7/dist-packages/sklearn/base.py:451: UserWarning: X does not have valid feature names, but LinearRegression was fitted with feature names\n",
            "  \"X does not have valid feature names, but\"\n"
          ]
        }
      ]
    },
    {
      "cell_type": "markdown",
      "source": [
        "QUADRATIC YEARS OF EDUCATION VS SALARY\n"
      ],
      "metadata": {
        "id": "rE7TVUxnUHRp"
      }
    },
    {
      "cell_type": "code",
      "source": [
        "sns.scatterplot(data=Testset, x=\"QYearsExperience\",y=\"Salary\")"
      ],
      "metadata": {
        "colab": {
          "base_uri": "https://localhost:8080/",
          "height": 296
        },
        "id": "F6-Ke-eHUcpT",
        "outputId": "5c1ef42d-2d79-40b3-b4b9-4833ef986abc"
      },
      "execution_count": 597,
      "outputs": [
        {
          "output_type": "execute_result",
          "data": {
            "text/plain": [
              "<matplotlib.axes._subplots.AxesSubplot at 0x7fb240f2d710>"
            ]
          },
          "metadata": {},
          "execution_count": 597
        },
        {
          "output_type": "display_data",
          "data": {
            "text/plain": [
              "<Figure size 432x288 with 1 Axes>"
            ],
            "image/png": "[encoded data removed]"
          },
          "metadata": {
            "needs_background": "light"
          }
        }
      ]
    },
    {
      "cell_type": "code",
      "source": [
        "# Conducting Linear Regression method and inserting data using the fit method\n",
        "# Fit function adjusts weights according to data values so that better accuracy can be achieved\n",
        "\n",
        "lm = linear_model.LinearRegression(). fit(Training[[\"QYearsExperience\"]],Training[[\"Salary\"]])\n",
        "# Using the predict method\n",
        "result=lm.predict (Testset[[\"QYearsExperience\"]])"
      ],
      "metadata": {
        "id": "bS3unTVFUm76"
      },
      "execution_count": 598,
      "outputs": []
    },
    {
      "cell_type": "code",
      "source": [
        "# Creating a new column to place contents of the result variable\n",
        "Testset[\"Predicted Salary Using Sklearn method\"]= result\n",
        "Testset[\"Prediction Error Using Sklearn method\"] = Testset[\"Salary\"]-Testset[\"Predicted Salary Using Sklearn method\"]\n",
        "Testset.head()"
      ],
      "metadata": {
        "colab": {
          "base_uri": "https://localhost:8080/",
          "height": 267
        },
        "id": "3LNfjdyoUskH",
        "outputId": "4611e43e-dde8-4e23-b278-db81f3ba7a7a"
      },
      "execution_count": 599,
      "outputs": [
        {
          "output_type": "execute_result",
          "data": {
            "text/plain": [
              "         Age  YearsExperience  Years of Education  QYearsExperience  \\\n",
              "0  59.736875        14.069381                   4        197.947482   \n",
              "1  64.525825        13.585205                   6        184.557800   \n",
              "2  51.602862        18.737861                   7        351.107451   \n",
              "3  64.335943        13.116017                   6        172.029900   \n",
              "4  54.868062        16.246028                   9        263.933438   \n",
              "\n",
              "   CYearsExperience  CombinedParameter        Salary  \\\n",
              "0       2784.998537         295.225026  52477.984042   \n",
              "1       2507.255581         468.666181  75470.156254   \n",
              "2       6579.002768         492.385065  54575.688348   \n",
              "3       2256.347083         464.711761  86959.445371   \n",
              "4       4287.870130         640.026815  93443.204583   \n",
              "\n",
              "   Predicted Salary Using Sklearn method  \\\n",
              "0                           76188.304404   \n",
              "1                           76325.697996   \n",
              "2                           74616.706306   \n",
              "3                           76454.248710   \n",
              "4                           75511.212313   \n",
              "\n",
              "   Prediction Error Using Sklearn method  \n",
              "0                          -23710.320361  \n",
              "1                            -855.541742  \n",
              "2                          -20041.017957  \n",
              "3                           10505.196661  \n",
              "4                           17931.992270  "
            ],
            "text/html": [
              "\n",
              "  <div id=\"df-af5d9c7d-7110-40a0-9688-fc62bb6793ba\">\n",
              "    <div class=\"colab-df-container\">\n",
              "      <div>\n",
              "<style scoped>\n",
              "    .dataframe tbody tr th:only-of-type {\n",
              "        vertical-align: middle;\n",
              "    }\n",
              "\n",
              "    .dataframe tbody tr th {\n",
              "        vertical-align: top;\n",
              "    }\n",
              "\n",
              "    .dataframe thead th {\n",
              "        text-align: right;\n",
              "    }\n",
              "</style>\n",
              "<table border=\"1\" class=\"dataframe\">\n",
              "  <thead>\n",
              "    <tr style=\"text-align: right;\">\n",
              "      <th></th>\n",
              "      <th>Age</th>\n",
              "      <th>YearsExperience</th>\n",
              "      <th>Years of Education</th>\n",
              "      <th>QYearsExperience</th>\n",
              "      <th>CYearsExperience</th>\n",
              "      <th>CombinedParameter</th>\n",
              "      <th>Salary</th>\n",
              "      <th>Predicted Salary Using Sklearn method</th>\n",
              "      <th>Prediction Error Using Sklearn method</th>\n",
              "    </tr>\n",
              "  </thead>\n",
              "  <tbody>\n",
              "    <tr>\n",
              "      <th>0</th>\n",
              "      <td>59.736875</td>\n",
              "      <td>14.069381</td>\n",
              "      <td>4</td>\n",
              "      <td>197.947482</td>\n",
              "      <td>2784.998537</td>\n",
              "      <td>295.225026</td>\n",
              "      <td>52477.984042</td>\n",
              "      <td>76188.304404</td>\n",
              "      <td>-23710.320361</td>\n",
              "    </tr>\n",
              "    <tr>\n",
              "      <th>1</th>\n",
              "      <td>64.525825</td>\n",
              "      <td>13.585205</td>\n",
              "      <td>6</td>\n",
              "      <td>184.557800</td>\n",
              "      <td>2507.255581</td>\n",
              "      <td>468.666181</td>\n",
              "      <td>75470.156254</td>\n",
              "      <td>76325.697996</td>\n",
              "      <td>-855.541742</td>\n",
              "    </tr>\n",
              "    <tr>\n",
              "      <th>2</th>\n",
              "      <td>51.602862</td>\n",
              "      <td>18.737861</td>\n",
              "      <td>7</td>\n",
              "      <td>351.107451</td>\n",
              "      <td>6579.002768</td>\n",
              "      <td>492.385065</td>\n",
              "      <td>54575.688348</td>\n",
              "      <td>74616.706306</td>\n",
              "      <td>-20041.017957</td>\n",
              "    </tr>\n",
              "    <tr>\n",
              "      <th>3</th>\n",
              "      <td>64.335943</td>\n",
              "      <td>13.116017</td>\n",
              "      <td>6</td>\n",
              "      <td>172.029900</td>\n",
              "      <td>2256.347083</td>\n",
              "      <td>464.711761</td>\n",
              "      <td>86959.445371</td>\n",
              "      <td>76454.248710</td>\n",
              "      <td>10505.196661</td>\n",
              "    </tr>\n",
              "    <tr>\n",
              "      <th>4</th>\n",
              "      <td>54.868062</td>\n",
              "      <td>16.246028</td>\n",
              "      <td>9</td>\n",
              "      <td>263.933438</td>\n",
              "      <td>4287.870130</td>\n",
              "      <td>640.026815</td>\n",
              "      <td>93443.204583</td>\n",
              "      <td>75511.212313</td>\n",
              "      <td>17931.992270</td>\n",
              "    </tr>\n",
              "  </tbody>\n",
              "</table>\n",
              "</div>\n",
              "      <button class=\"colab-df-convert\" onclick=\"convertToInteractive('df-af5d9c7d-7110-40a0-9688-fc62bb6793ba')\"\n",
              "              title=\"Convert this dataframe to an interactive table.\"\n",
              "              style=\"display:none;\">\n",
              "        \n",
              "  <svg xmlns=\"http://www.w3.org/2000/svg\" height=\"24px\"viewBox=\"0 0 24 24\"\n",
              "       width=\"24px\">\n",
              "    <path d=\"M0 0h24v24H0V0z\" fill=\"none\"/>\n",
              "    <path d=\"M18.56 5.44l.94 2.06.94-2.06 2.06-.94-2.06-.94-.94-2.06-.94 2.06-2.06.94zm-11 1L8.5 8.5l.94-2.06 2.06-.94-2.06-.94L8.5 2.5l-.94 2.06-2.06.94zm10 10l.94 2.06.94-2.06 2.06-.94-2.06-.94-.94-2.06-.94 2.06-2.06.94z\"/><path d=\"M17.41 7.96l-1.37-1.37c-.4-.4-.92-.59-1.43-.59-.52 0-1.04.2-1.43.59L10.3 9.45l-7.72 7.72c-.78.78-.78 2.05 0 2.83L4 21.41c.39.39.9.59 1.41.59.51 0 1.02-.2 1.41-.59l7.78-7.78 2.81-2.81c.8-.78.8-2.07 0-2.86zM5.41 20L4 18.59l7.72-7.72 1.47 1.35L5.41 20z\"/>\n",
              "  </svg>\n",
              "      </button>\n",
              "      \n",
              "  <style>\n",
              "    .colab-df-container {\n",
              "      display:flex;\n",
              "      flex-wrap:wrap;\n",
              "      gap: 12px;\n",
              "    }\n",
              "\n",
              "    .colab-df-convert {\n",
              "      background-color: #E8F0FE;\n",
              "      border: none;\n",
              "      border-radius: 50%;\n",
              "      cursor: pointer;\n",
              "      display: none;\n",
              "      fill: #1967D2;\n",
              "      height: 32px;\n",
              "      padding: 0 0 0 0;\n",
              "      width: 32px;\n",
              "    }\n",
              "\n",
              "    .colab-df-convert:hover {\n",
              "      background-color: #E2EBFA;\n",
              "      box-shadow: 0px 1px 2px rgba(60, 64, 67, 0.3), 0px 1px 3px 1px rgba(60, 64, 67, 0.15);\n",
              "      fill: #174EA6;\n",
              "    }\n",
              "\n",
              "    [theme=dark] .colab-df-convert {\n",
              "      background-color: #3B4455;\n",
              "      fill: #D2E3FC;\n",
              "    }\n",
              "\n",
              "    [theme=dark] .colab-df-convert:hover {\n",
              "      background-color: #434B5C;\n",
              "      box-shadow: 0px 1px 3px 1px rgba(0, 0, 0, 0.15);\n",
              "      filter: drop-shadow(0px 1px 2px rgba(0, 0, 0, 0.3));\n",
              "      fill: #FFFFFF;\n",
              "    }\n",
              "  </style>\n",
              "\n",
              "      <script>\n",
              "        const buttonEl =\n",
              "          document.querySelector('#df-af5d9c7d-7110-40a0-9688-fc62bb6793ba button.colab-df-convert');\n",
              "        buttonEl.style.display =\n",
              "          google.colab.kernel.accessAllowed ? 'block' : 'none';\n",
              "\n",
              "        async function convertToInteractive(key) {\n",
              "          const element = document.querySelector('#df-af5d9c7d-7110-40a0-9688-fc62bb6793ba');\n",
              "          const dataTable =\n",
              "            await google.colab.kernel.invokeFunction('convertToInteractive',\n",
              "                                                     [key], {});\n",
              "          if (!dataTable) return;\n",
              "\n",
              "          const docLinkHtml = 'Like what you see? Visit the ' +\n",
              "            '<a target=\"_blank\" href=https://colab.research.google.com/notebooks/data_table.ipynb>data table notebook</a>'\n",
              "            + ' to learn more about interactive tables.';\n",
              "          element.innerHTML = '';\n",
              "          dataTable['output_type'] = 'display_data';\n",
              "          await google.colab.output.renderOutput(dataTable, element);\n",
              "          const docLink = document.createElement('div');\n",
              "          docLink.innerHTML = docLinkHtml;\n",
              "          element.appendChild(docLink);\n",
              "        }\n",
              "      </script>\n",
              "    </div>\n",
              "  </div>\n",
              "  "
            ]
          },
          "metadata": {},
          "execution_count": 599
        }
      ]
    },
    {
      "cell_type": "code",
      "source": [
        "plt.scatter(Testset[\"QYearsExperience\"], Testset[\"Salary\"])\n",
        "plt.plot(Testset[\"QYearsExperience\"],Testset[\"Predicted Salary Using Sklearn method\"], color=\"maroon\")\n",
        "plt.ylabel(\"Salary\")\n",
        "plt.xlabel(\"Quadratic Years of experience\")\n",
        "plt.title(\"Linear Regression: Years of experience vS Corresponding Salary \")"
      ],
      "metadata": {
        "colab": {
          "base_uri": "https://localhost:8080/",
          "height": 312
        },
        "id": "1WvyWAmnUw3f",
        "outputId": "eac149a8-a41d-4a21-b81f-a7c9483e756a"
      },
      "execution_count": 600,
      "outputs": [
        {
          "output_type": "execute_result",
          "data": {
            "text/plain": [
              "Text(0.5, 1.0, 'Linear Regression: Years of experience vS Corresponding Salary ')"
            ]
          },
          "metadata": {},
          "execution_count": 600
        },
        {
          "output_type": "display_data",
          "data": {
            "text/plain": [
              "<Figure size 432x288 with 1 Axes>"
            ],
            "image/png": "[encoded data removed]"
          },
          "metadata": {
            "needs_background": "light"
          }
        }
      ]
    },
    {
      "cell_type": "code",
      "source": [
        "m=lm.coef_"
      ],
      "metadata": {
        "id": "Q-V5BVl7U6UW"
      },
      "execution_count": 601,
      "outputs": []
    },
    {
      "cell_type": "code",
      "source": [
        "b=lm.intercept_"
      ],
      "metadata": {
        "id": "oV4FG04pU9j5"
      },
      "execution_count": 602,
      "outputs": []
    },
    {
      "cell_type": "code",
      "source": [
        "#Testing for 7 years of education\n",
        "Salary = b + m * 7\n",
        "Salary"
      ],
      "metadata": {
        "colab": {
          "base_uri": "https://localhost:8080/"
        },
        "id": "aIJoW4JiVAEE",
        "outputId": "f2b49cea-ca4d-4bd2-c60d-6688fa72fbe1"
      },
      "execution_count": 603,
      "outputs": [
        {
          "output_type": "execute_result",
          "data": {
            "text/plain": [
              "array([[78147.64599997]])"
            ]
          },
          "metadata": {},
          "execution_count": 603
        }
      ]
    },
    {
      "cell_type": "code",
      "source": [
        "lm.predict([[7]])"
      ],
      "metadata": {
        "colab": {
          "base_uri": "https://localhost:8080/"
        },
        "id": "or2Vtv1OVC-Q",
        "outputId": "9b5d9ab6-5201-4d45-d294-1261597ea0eb"
      },
      "execution_count": 604,
      "outputs": [
        {
          "output_type": "stream",
          "name": "stderr",
          "text": [
            "/usr/local/lib/python3.7/dist-packages/sklearn/base.py:451: UserWarning: X does not have valid feature names, but LinearRegression was fitted with feature names\n",
            "  \"X does not have valid feature names, but\"\n"
          ]
        },
        {
          "output_type": "execute_result",
          "data": {
            "text/plain": [
              "array([[78147.64599997]])"
            ]
          },
          "metadata": {},
          "execution_count": 604
        }
      ]
    },
    {
      "cell_type": "code",
      "source": [
        "assert Salary == lm.predict([[7]])"
      ],
      "metadata": {
        "colab": {
          "base_uri": "https://localhost:8080/"
        },
        "id": "FDpkF6ARVGPV",
        "outputId": "a6a45822-1ebb-4927-b643-da52f49b479d"
      },
      "execution_count": 605,
      "outputs": [
        {
          "output_type": "stream",
          "name": "stderr",
          "text": [
            "/usr/local/lib/python3.7/dist-packages/sklearn/base.py:451: UserWarning: X does not have valid feature names, but LinearRegression was fitted with feature names\n",
            "  \"X does not have valid feature names, but\"\n"
          ]
        }
      ]
    },
    {
      "cell_type": "markdown",
      "source": [
        "CUBIC YEARS OF EXPERIENCE VS SALARY"
      ],
      "metadata": {
        "id": "vPLKeqJvaM9Z"
      }
    },
    {
      "cell_type": "code",
      "source": [
        "sns.scatterplot(data=Testset, x=\"CYearsExperience\",y=\"Salary\")"
      ],
      "metadata": {
        "id": "iMUoN8ToaXXU",
        "outputId": "21d21e1e-dfc5-4491-883c-a4f0166321d4",
        "colab": {
          "base_uri": "https://localhost:8080/",
          "height": 296
        }
      },
      "execution_count": 606,
      "outputs": [
        {
          "output_type": "execute_result",
          "data": {
            "text/plain": [
              "<matplotlib.axes._subplots.AxesSubplot at 0x7fb240e8dfd0>"
            ]
          },
          "metadata": {},
          "execution_count": 606
        },
        {
          "output_type": "display_data",
          "data": {
            "text/plain": [
              "<Figure size 432x288 with 1 Axes>"
            ],
            "image/png": "[encoded data removed]"
          },
          "metadata": {
            "needs_background": "light"
          }
        }
      ]
    },
    {
      "cell_type": "code",
      "source": [
        "# Conducting Linear Regression method and inserting data using the fit method\n",
        "# Fit function adjusts weights according to data values so that better accuracy can be achieved\n",
        "#Dataset = pd.read_csv(\"T.csv\")\n",
        "lm = linear_model.LinearRegression(). fit(Training[[\"CYearsExperience\"]],Training[[\"Salary\"]])\n",
        "# Using the predict method\n",
        "\n",
        "result=lm.predict(Testset[[\"CYearsExperience\"]])"
      ],
      "metadata": {
        "id": "XBqEv9WrasFo"
      },
      "execution_count": 607,
      "outputs": []
    },
    {
      "cell_type": "code",
      "source": [
        "# Creating a new column to place contents of the result variable\n",
        "Testset[\"Predicted Salary Using Sklearn method\"]= result\n",
        "Testset[\"Prediction Error Using Sklearn method\"] = Testset[\"Salary\"]-Testset[\"Predicted Salary Using Sklearn method\"]\n",
        "Testset.head()"
      ],
      "metadata": {
        "id": "9JDiG2LQbESn",
        "outputId": "672de8d6-e778-4d8d-b0c8-1fabc620cf59",
        "colab": {
          "base_uri": "https://localhost:8080/",
          "height": 267
        }
      },
      "execution_count": 608,
      "outputs": [
        {
          "output_type": "execute_result",
          "data": {
            "text/plain": [
              "         Age  YearsExperience  Years of Education  QYearsExperience  \\\n",
              "0  59.736875        14.069381                   4        197.947482   \n",
              "1  64.525825        13.585205                   6        184.557800   \n",
              "2  51.602862        18.737861                   7        351.107451   \n",
              "3  64.335943        13.116017                   6        172.029900   \n",
              "4  54.868062        16.246028                   9        263.933438   \n",
              "\n",
              "   CYearsExperience  CombinedParameter        Salary  \\\n",
              "0       2784.998537         295.225026  52477.984042   \n",
              "1       2507.255581         468.666181  75470.156254   \n",
              "2       6579.002768         492.385065  54575.688348   \n",
              "3       2256.347083         464.711761  86959.445371   \n",
              "4       4287.870130         640.026815  93443.204583   \n",
              "\n",
              "   Predicted Salary Using Sklearn method  \\\n",
              "0                           76200.462460   \n",
              "1                           76318.224764   \n",
              "2                           74591.814361   \n",
              "3                           76424.609325   \n",
              "4                           75563.248745   \n",
              "\n",
              "   Prediction Error Using Sklearn method  \n",
              "0                          -23722.478417  \n",
              "1                            -848.068509  \n",
              "2                          -20016.126013  \n",
              "3                           10534.836046  \n",
              "4                           17879.955838  "
            ],
            "text/html": [
              "\n",
              "  <div id=\"df-56d2f182-1220-46bf-99d1-1b8fce9f0fb5\">\n",
              "    <div class=\"colab-df-container\">\n",
              "      <div>\n",
              "<style scoped>\n",
              "    .dataframe tbody tr th:only-of-type {\n",
              "        vertical-align: middle;\n",
              "    }\n",
              "\n",
              "    .dataframe tbody tr th {\n",
              "        vertical-align: top;\n",
              "    }\n",
              "\n",
              "    .dataframe thead th {\n",
              "        text-align: right;\n",
              "    }\n",
              "</style>\n",
              "<table border=\"1\" class=\"dataframe\">\n",
              "  <thead>\n",
              "    <tr style=\"text-align: right;\">\n",
              "      <th></th>\n",
              "      <th>Age</th>\n",
              "      <th>YearsExperience</th>\n",
              "      <th>Years of Education</th>\n",
              "      <th>QYearsExperience</th>\n",
              "      <th>CYearsExperience</th>\n",
              "      <th>CombinedParameter</th>\n",
              "      <th>Salary</th>\n",
              "      <th>Predicted Salary Using Sklearn method</th>\n",
              "      <th>Prediction Error Using Sklearn method</th>\n",
              "    </tr>\n",
              "  </thead>\n",
              "  <tbody>\n",
              "    <tr>\n",
              "      <th>0</th>\n",
              "      <td>59.736875</td>\n",
              "      <td>14.069381</td>\n",
              "      <td>4</td>\n",
              "      <td>197.947482</td>\n",
              "      <td>2784.998537</td>\n",
              "      <td>295.225026</td>\n",
              "      <td>52477.984042</td>\n",
              "      <td>76200.462460</td>\n",
              "      <td>-23722.478417</td>\n",
              "    </tr>\n",
              "    <tr>\n",
              "      <th>1</th>\n",
              "      <td>64.525825</td>\n",
              "      <td>13.585205</td>\n",
              "      <td>6</td>\n",
              "      <td>184.557800</td>\n",
              "      <td>2507.255581</td>\n",
              "      <td>468.666181</td>\n",
              "      <td>75470.156254</td>\n",
              "      <td>76318.224764</td>\n",
              "      <td>-848.068509</td>\n",
              "    </tr>\n",
              "    <tr>\n",
              "      <th>2</th>\n",
              "      <td>51.602862</td>\n",
              "      <td>18.737861</td>\n",
              "      <td>7</td>\n",
              "      <td>351.107451</td>\n",
              "      <td>6579.002768</td>\n",
              "      <td>492.385065</td>\n",
              "      <td>54575.688348</td>\n",
              "      <td>74591.814361</td>\n",
              "      <td>-20016.126013</td>\n",
              "    </tr>\n",
              "    <tr>\n",
              "      <th>3</th>\n",
              "      <td>64.335943</td>\n",
              "      <td>13.116017</td>\n",
              "      <td>6</td>\n",
              "      <td>172.029900</td>\n",
              "      <td>2256.347083</td>\n",
              "      <td>464.711761</td>\n",
              "      <td>86959.445371</td>\n",
              "      <td>76424.609325</td>\n",
              "      <td>10534.836046</td>\n",
              "    </tr>\n",
              "    <tr>\n",
              "      <th>4</th>\n",
              "      <td>54.868062</td>\n",
              "      <td>16.246028</td>\n",
              "      <td>9</td>\n",
              "      <td>263.933438</td>\n",
              "      <td>4287.870130</td>\n",
              "      <td>640.026815</td>\n",
              "      <td>93443.204583</td>\n",
              "      <td>75563.248745</td>\n",
              "      <td>17879.955838</td>\n",
              "    </tr>\n",
              "  </tbody>\n",
              "</table>\n",
              "</div>\n",
              "      <button class=\"colab-df-convert\" onclick=\"convertToInteractive('df-56d2f182-1220-46bf-99d1-1b8fce9f0fb5')\"\n",
              "              title=\"Convert this dataframe to an interactive table.\"\n",
              "              style=\"display:none;\">\n",
              "        \n",
              "  <svg xmlns=\"http://www.w3.org/2000/svg\" height=\"24px\"viewBox=\"0 0 24 24\"\n",
              "       width=\"24px\">\n",
              "    <path d=\"M0 0h24v24H0V0z\" fill=\"none\"/>\n",
              "    <path d=\"M18.56 5.44l.94 2.06.94-2.06 2.06-.94-2.06-.94-.94-2.06-.94 2.06-2.06.94zm-11 1L8.5 8.5l.94-2.06 2.06-.94-2.06-.94L8.5 2.5l-.94 2.06-2.06.94zm10 10l.94 2.06.94-2.06 2.06-.94-2.06-.94-.94-2.06-.94 2.06-2.06.94z\"/><path d=\"M17.41 7.96l-1.37-1.37c-.4-.4-.92-.59-1.43-.59-.52 0-1.04.2-1.43.59L10.3 9.45l-7.72 7.72c-.78.78-.78 2.05 0 2.83L4 21.41c.39.39.9.59 1.41.59.51 0 1.02-.2 1.41-.59l7.78-7.78 2.81-2.81c.8-.78.8-2.07 0-2.86zM5.41 20L4 18.59l7.72-7.72 1.47 1.35L5.41 20z\"/>\n",
              "  </svg>\n",
              "      </button>\n",
              "      \n",
              "  <style>\n",
              "    .colab-df-container {\n",
              "      display:flex;\n",
              "      flex-wrap:wrap;\n",
              "      gap: 12px;\n",
              "    }\n",
              "\n",
              "    .colab-df-convert {\n",
              "      background-color: #E8F0FE;\n",
              "      border: none;\n",
              "      border-radius: 50%;\n",
              "      cursor: pointer;\n",
              "      display: none;\n",
              "      fill: #1967D2;\n",
              "      height: 32px;\n",
              "      padding: 0 0 0 0;\n",
              "      width: 32px;\n",
              "    }\n",
              "\n",
              "    .colab-df-convert:hover {\n",
              "      background-color: #E2EBFA;\n",
              "      box-shadow: 0px 1px 2px rgba(60, 64, 67, 0.3), 0px 1px 3px 1px rgba(60, 64, 67, 0.15);\n",
              "      fill: #174EA6;\n",
              "    }\n",
              "\n",
              "    [theme=dark] .colab-df-convert {\n",
              "      background-color: #3B4455;\n",
              "      fill: #D2E3FC;\n",
              "    }\n",
              "\n",
              "    [theme=dark] .colab-df-convert:hover {\n",
              "      background-color: #434B5C;\n",
              "      box-shadow: 0px 1px 3px 1px rgba(0, 0, 0, 0.15);\n",
              "      filter: drop-shadow(0px 1px 2px rgba(0, 0, 0, 0.3));\n",
              "      fill: #FFFFFF;\n",
              "    }\n",
              "  </style>\n",
              "\n",
              "      <script>\n",
              "        const buttonEl =\n",
              "          document.querySelector('#df-56d2f182-1220-46bf-99d1-1b8fce9f0fb5 button.colab-df-convert');\n",
              "        buttonEl.style.display =\n",
              "          google.colab.kernel.accessAllowed ? 'block' : 'none';\n",
              "\n",
              "        async function convertToInteractive(key) {\n",
              "          const element = document.querySelector('#df-56d2f182-1220-46bf-99d1-1b8fce9f0fb5');\n",
              "          const dataTable =\n",
              "            await google.colab.kernel.invokeFunction('convertToInteractive',\n",
              "                                                     [key], {});\n",
              "          if (!dataTable) return;\n",
              "\n",
              "          const docLinkHtml = 'Like what you see? Visit the ' +\n",
              "            '<a target=\"_blank\" href=https://colab.research.google.com/notebooks/data_table.ipynb>data table notebook</a>'\n",
              "            + ' to learn more about interactive tables.';\n",
              "          element.innerHTML = '';\n",
              "          dataTable['output_type'] = 'display_data';\n",
              "          await google.colab.output.renderOutput(dataTable, element);\n",
              "          const docLink = document.createElement('div');\n",
              "          docLink.innerHTML = docLinkHtml;\n",
              "          element.appendChild(docLink);\n",
              "        }\n",
              "      </script>\n",
              "    </div>\n",
              "  </div>\n",
              "  "
            ]
          },
          "metadata": {},
          "execution_count": 608
        }
      ]
    },
    {
      "cell_type": "code",
      "source": [
        "plt.scatter(Testset[\"CYearsExperience\"], Testset[\"Salary\"])\n",
        "plt.plot(Testset[\"CYearsExperience\"],Testset[\"Predicted Salary Using Sklearn method\"], color=\"green\")\n",
        "plt.ylabel(\"Salary\")\n",
        "plt.xlabel(\"Cubic Years of Experience\")\n",
        "plt.title(\"Linear Regression: Years of Education vS Corresponding Salary \")"
      ],
      "metadata": {
        "id": "u_O-Tu2MbOgt",
        "outputId": "d5c699cc-8325-41ca-d854-0fcaaa65411a",
        "colab": {
          "base_uri": "https://localhost:8080/",
          "height": 312
        }
      },
      "execution_count": 609,
      "outputs": [
        {
          "output_type": "execute_result",
          "data": {
            "text/plain": [
              "Text(0.5, 1.0, 'Linear Regression: Years of Education vS Corresponding Salary ')"
            ]
          },
          "metadata": {},
          "execution_count": 609
        },
        {
          "output_type": "display_data",
          "data": {
            "text/plain": [
              "<Figure size 432x288 with 1 Axes>"
            ],
            "image/png": "[encoded data removed]"
          },
          "metadata": {
            "needs_background": "light"
          }
        }
      ]
    },
    {
      "cell_type": "code",
      "source": [
        "m=lm.coef_"
      ],
      "metadata": {
        "id": "a6vOU8G2be8i"
      },
      "execution_count": 610,
      "outputs": []
    },
    {
      "cell_type": "code",
      "source": [
        "b=lm.intercept_"
      ],
      "metadata": {
        "id": "kTci53YzbhbD"
      },
      "execution_count": 611,
      "outputs": []
    },
    {
      "cell_type": "code",
      "source": [
        "#Testing for 7 years of education\n",
        "Salary = b + m * 7\n",
        "Salary"
      ],
      "metadata": {
        "id": "9gqVVjQVbjaF",
        "outputId": "d33752e9-501d-4327-b1bf-69d7e8b278d2",
        "colab": {
          "base_uri": "https://localhost:8080/"
        }
      },
      "execution_count": 612,
      "outputs": [
        {
          "output_type": "execute_result",
          "data": {
            "text/plain": [
              "array([[77378.32674059]])"
            ]
          },
          "metadata": {},
          "execution_count": 612
        }
      ]
    },
    {
      "cell_type": "code",
      "source": [
        "lm.predict([[7]])"
      ],
      "metadata": {
        "id": "kxlyZu8pblv0",
        "outputId": "97bf6977-3bcf-41c4-d7f9-a64f13ba1a9a",
        "colab": {
          "base_uri": "https://localhost:8080/"
        }
      },
      "execution_count": 613,
      "outputs": [
        {
          "output_type": "stream",
          "name": "stderr",
          "text": [
            "/usr/local/lib/python3.7/dist-packages/sklearn/base.py:451: UserWarning: X does not have valid feature names, but LinearRegression was fitted with feature names\n",
            "  \"X does not have valid feature names, but\"\n"
          ]
        },
        {
          "output_type": "execute_result",
          "data": {
            "text/plain": [
              "array([[77378.32674059]])"
            ]
          },
          "metadata": {},
          "execution_count": 613
        }
      ]
    },
    {
      "cell_type": "code",
      "source": [
        "assert Salary == lm.predict([[7]])"
      ],
      "metadata": {
        "id": "b7oQA3gfbobw",
        "outputId": "fd5feaa9-5e23-479a-dc45-82be5d8570dd",
        "colab": {
          "base_uri": "https://localhost:8080/"
        }
      },
      "execution_count": 614,
      "outputs": [
        {
          "output_type": "stream",
          "name": "stderr",
          "text": [
            "/usr/local/lib/python3.7/dist-packages/sklearn/base.py:451: UserWarning: X does not have valid feature names, but LinearRegression was fitted with feature names\n",
            "  \"X does not have valid feature names, but\"\n"
          ]
        }
      ]
    }
  ],
  "metadata": {
    "colab": {
      "collapsed_sections": [],
      "name": "Salary_Prediction_AIE_B_Project_Sem1.ipynb",
      "provenance": [],
      "include_colab_link": true
    },
    "kernelspec": {
      "display_name": "Python 3",
      "name": "python3"
    },
    "language_info": {
      "name": "python"
    }
  },
  "nbformat": 4,
  "nbformat_minor": 0
}