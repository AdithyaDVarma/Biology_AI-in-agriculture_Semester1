{
  "cells": [
    {
      "cell_type": "markdown",
      "metadata": {
        "id": "view-in-github",
        "colab_type": "text"
      },
      "source": [
        "<a href=\"https://colab.research.google.com/github/AdithyaDVarma/Biology_AI-in-agriculture_Semester1/blob/main/Salary_Prediction_AIE_B_Project_Sem1.ipynb\" target=\"_parent\"><img src=\"https://colab.research.google.com/assets/colab-badge.svg\" alt=\"Open In Colab\"/></a>"
      ]
    },
    {
      "cell_type": "code",
      "execution_count": 254,
      "metadata": {
        "id": "SjLA6oWjJYRS"
      },
      "outputs": [],
      "source": [
        "# importing the necessary modules and packages\n",
        "import os\n",
        "import numpy as np  \n",
        "import pandas as pd  \n",
        "import matplotlib.pyplot as plt  \n",
        "import seaborn as sns  \n",
        "from sklearn import linear_model \n",
        "import statsmodels.formula.api as smf"
      ]
    },
    {
      "cell_type": "markdown",
      "metadata": {
        "id": "X49yzfZpeZeP"
      },
      "source": [
        "**DATA HANDLING**"
      ]
    },
    {
      "cell_type": "code",
      "source": [
        "#Creating the YearsExperience vs Salary data using training set csv\n",
        "import csv\n",
        "import random\n",
        "f=open(\"Trainingset.csv\",\"w\")\n",
        "w=csv.writer(f)\n",
        "w.writerow([\"Age\",\"YearsExperience\",\"Years of Education\",\"QYears of Education\",\"CombinedParameter\",\"Salary\"])\n",
        "\n",
        "for i in range(1000):\n",
        "  age=random.randint(24,65)\n",
        "  if age>=24 and age<=30:\n",
        "      exp=random.uniform(1,4.3)\n",
        "      educ=random.randint(3,6)\n",
        "      sal=random.uniform(40000.7,60000.54)\n",
        "  elif age>=31 and age<=40:\n",
        "      exp=random.uniform(4.6,7.8)\n",
        "      educ=random.randint(3,7)\n",
        "      sal=random.uniform(50000.7,80000.54)\n",
        "  elif age>=41 and age<=50:\n",
        "      exp=random.uniform(7,12)\n",
        "      educ=random.randint(5,9)\n",
        "      sal=random.uniform(60000.7,90000.54)\n",
        "  elif age>=51:\n",
        "      exp=random.uniform(12,20)\n",
        "      educ=random.randint(3,9)\n",
        "      sal=random.uniform(50000.7,100000.54)\n",
        "      w.writerow([age,exp,educ,educ**2,(age+exp)*educ,sal])\n",
        "f.close()\n",
        "\n",
        "f=open(\"Testset.csv\",\"w\")\n",
        "w=csv.writer(f)\n",
        "w.writerow([\"Age\",\"YearsExperience\",\"Years of Education\",\"QYears of Education\",\"CombinedParameter\",\"Salary\"])\n",
        "\n",
        "for i in range(1000):\n",
        "  age=random.randint(24,65)\n",
        "  if age>=24 and age<=30:\n",
        "      exp=random.uniform(1,4.3)\n",
        "      educ=random.randint(3,6)\n",
        "      sal=random.uniform(40000.7,60000.54)\n",
        "  elif age>=31 and age<=40:\n",
        "      exp=random.uniform(4.6,7.8)\n",
        "      educ=random.randint(3,7)\n",
        "      sal=random.uniform(50000.7,80000.54)\n",
        "  elif age>=41 and age<=50:\n",
        "      exp=random.uniform(7,12)\n",
        "      educ=random.randint(5,9)\n",
        "      sal=random.uniform(60000.7,90000.54)\n",
        "  elif age>=51:\n",
        "      exp=random.uniform(12,20)\n",
        "      educ=random.randint(3,9)\n",
        "      sal=random.uniform(50000.7,100000.54)\n",
        "      w.writerow([age,exp,educ,educ**2,(age+exp)*educ,sal])\n",
        "f.close()\n",
        "\n",
        "\n"
      ],
      "metadata": {
        "id": "-zVrGlSxjLXY"
      },
      "execution_count": 255,
      "outputs": []
    },
    {
      "cell_type": "code",
      "execution_count": 256,
      "metadata": {
        "colab": {
          "base_uri": "https://localhost:8080/",
          "height": 206
        },
        "id": "Wf51Sg-cae6G",
        "outputId": "68e033ea-1a26-46ff-89ed-bac4133a4870"
      },
      "outputs": [
        {
          "output_type": "execute_result",
          "data": {
            "text/plain": [
              "   Age  YearsExperience  Years of Education  QYears of Education  \\\n",
              "0   63        13.703036                   4                   16   \n",
              "1   61        17.440310                   9                   81   \n",
              "2   62        13.864240                   3                    9   \n",
              "3   61        19.739764                   9                   81   \n",
              "4   51        17.875034                   4                   16   \n",
              "\n",
              "   CombinedParameter        Salary  \n",
              "0         306.812145  50315.750393  \n",
              "1         705.962789  68427.951072  \n",
              "2         227.592719  62002.842940  \n",
              "3         726.657874  53677.498267  \n",
              "4         275.500135  71662.599810  "
            ],
            "text/html": [
              "\n",
              "  <div id=\"df-6c74f644-6ca7-4f30-8115-e523a3747bbc\">\n",
              "    <div class=\"colab-df-container\">\n",
              "      <div>\n",
              "<style scoped>\n",
              "    .dataframe tbody tr th:only-of-type {\n",
              "        vertical-align: middle;\n",
              "    }\n",
              "\n",
              "    .dataframe tbody tr th {\n",
              "        vertical-align: top;\n",
              "    }\n",
              "\n",
              "    .dataframe thead th {\n",
              "        text-align: right;\n",
              "    }\n",
              "</style>\n",
              "<table border=\"1\" class=\"dataframe\">\n",
              "  <thead>\n",
              "    <tr style=\"text-align: right;\">\n",
              "      <th></th>\n",
              "      <th>Age</th>\n",
              "      <th>YearsExperience</th>\n",
              "      <th>Years of Education</th>\n",
              "      <th>QYears of Education</th>\n",
              "      <th>CombinedParameter</th>\n",
              "      <th>Salary</th>\n",
              "    </tr>\n",
              "  </thead>\n",
              "  <tbody>\n",
              "    <tr>\n",
              "      <th>0</th>\n",
              "      <td>63</td>\n",
              "      <td>13.703036</td>\n",
              "      <td>4</td>\n",
              "      <td>16</td>\n",
              "      <td>306.812145</td>\n",
              "      <td>50315.750393</td>\n",
              "    </tr>\n",
              "    <tr>\n",
              "      <th>1</th>\n",
              "      <td>61</td>\n",
              "      <td>17.440310</td>\n",
              "      <td>9</td>\n",
              "      <td>81</td>\n",
              "      <td>705.962789</td>\n",
              "      <td>68427.951072</td>\n",
              "    </tr>\n",
              "    <tr>\n",
              "      <th>2</th>\n",
              "      <td>62</td>\n",
              "      <td>13.864240</td>\n",
              "      <td>3</td>\n",
              "      <td>9</td>\n",
              "      <td>227.592719</td>\n",
              "      <td>62002.842940</td>\n",
              "    </tr>\n",
              "    <tr>\n",
              "      <th>3</th>\n",
              "      <td>61</td>\n",
              "      <td>19.739764</td>\n",
              "      <td>9</td>\n",
              "      <td>81</td>\n",
              "      <td>726.657874</td>\n",
              "      <td>53677.498267</td>\n",
              "    </tr>\n",
              "    <tr>\n",
              "      <th>4</th>\n",
              "      <td>51</td>\n",
              "      <td>17.875034</td>\n",
              "      <td>4</td>\n",
              "      <td>16</td>\n",
              "      <td>275.500135</td>\n",
              "      <td>71662.599810</td>\n",
              "    </tr>\n",
              "  </tbody>\n",
              "</table>\n",
              "</div>\n",
              "      <button class=\"colab-df-convert\" onclick=\"convertToInteractive('df-6c74f644-6ca7-4f30-8115-e523a3747bbc')\"\n",
              "              title=\"Convert this dataframe to an interactive table.\"\n",
              "              style=\"display:none;\">\n",
              "        \n",
              "  <svg xmlns=\"http://www.w3.org/2000/svg\" height=\"24px\"viewBox=\"0 0 24 24\"\n",
              "       width=\"24px\">\n",
              "    <path d=\"M0 0h24v24H0V0z\" fill=\"none\"/>\n",
              "    <path d=\"M18.56 5.44l.94 2.06.94-2.06 2.06-.94-2.06-.94-.94-2.06-.94 2.06-2.06.94zm-11 1L8.5 8.5l.94-2.06 2.06-.94-2.06-.94L8.5 2.5l-.94 2.06-2.06.94zm10 10l.94 2.06.94-2.06 2.06-.94-2.06-.94-.94-2.06-.94 2.06-2.06.94z\"/><path d=\"M17.41 7.96l-1.37-1.37c-.4-.4-.92-.59-1.43-.59-.52 0-1.04.2-1.43.59L10.3 9.45l-7.72 7.72c-.78.78-.78 2.05 0 2.83L4 21.41c.39.39.9.59 1.41.59.51 0 1.02-.2 1.41-.59l7.78-7.78 2.81-2.81c.8-.78.8-2.07 0-2.86zM5.41 20L4 18.59l7.72-7.72 1.47 1.35L5.41 20z\"/>\n",
              "  </svg>\n",
              "      </button>\n",
              "      \n",
              "  <style>\n",
              "    .colab-df-container {\n",
              "      display:flex;\n",
              "      flex-wrap:wrap;\n",
              "      gap: 12px;\n",
              "    }\n",
              "\n",
              "    .colab-df-convert {\n",
              "      background-color: #E8F0FE;\n",
              "      border: none;\n",
              "      border-radius: 50%;\n",
              "      cursor: pointer;\n",
              "      display: none;\n",
              "      fill: #1967D2;\n",
              "      height: 32px;\n",
              "      padding: 0 0 0 0;\n",
              "      width: 32px;\n",
              "    }\n",
              "\n",
              "    .colab-df-convert:hover {\n",
              "      background-color: #E2EBFA;\n",
              "      box-shadow: 0px 1px 2px rgba(60, 64, 67, 0.3), 0px 1px 3px 1px rgba(60, 64, 67, 0.15);\n",
              "      fill: #174EA6;\n",
              "    }\n",
              "\n",
              "    [theme=dark] .colab-df-convert {\n",
              "      background-color: #3B4455;\n",
              "      fill: #D2E3FC;\n",
              "    }\n",
              "\n",
              "    [theme=dark] .colab-df-convert:hover {\n",
              "      background-color: #434B5C;\n",
              "      box-shadow: 0px 1px 3px 1px rgba(0, 0, 0, 0.15);\n",
              "      filter: drop-shadow(0px 1px 2px rgba(0, 0, 0, 0.3));\n",
              "      fill: #FFFFFF;\n",
              "    }\n",
              "  </style>\n",
              "\n",
              "      <script>\n",
              "        const buttonEl =\n",
              "          document.querySelector('#df-6c74f644-6ca7-4f30-8115-e523a3747bbc button.colab-df-convert');\n",
              "        buttonEl.style.display =\n",
              "          google.colab.kernel.accessAllowed ? 'block' : 'none';\n",
              "\n",
              "        async function convertToInteractive(key) {\n",
              "          const element = document.querySelector('#df-6c74f644-6ca7-4f30-8115-e523a3747bbc');\n",
              "          const dataTable =\n",
              "            await google.colab.kernel.invokeFunction('convertToInteractive',\n",
              "                                                     [key], {});\n",
              "          if (!dataTable) return;\n",
              "\n",
              "          const docLinkHtml = 'Like what you see? Visit the ' +\n",
              "            '<a target=\"_blank\" href=https://colab.research.google.com/notebooks/data_table.ipynb>data table notebook</a>'\n",
              "            + ' to learn more about interactive tables.';\n",
              "          element.innerHTML = '';\n",
              "          dataTable['output_type'] = 'display_data';\n",
              "          await google.colab.output.renderOutput(dataTable, element);\n",
              "          const docLink = document.createElement('div');\n",
              "          docLink.innerHTML = docLinkHtml;\n",
              "          element.appendChild(docLink);\n",
              "        }\n",
              "      </script>\n",
              "    </div>\n",
              "  </div>\n",
              "  "
            ]
          },
          "metadata": {},
          "execution_count": 256
        }
      ],
      "source": [
        "# Initializing the trainingset and testset data objects using pandas\n",
        "Testset = pd.read_csv(\"Testset.csv\")\n",
        "Training = pd.read_csv(\"Trainingset.csv\") \n",
        "\n",
        "#The head() function is used to get the first few rows\n",
        "Testset.head()"
      ]
    },
    {
      "cell_type": "code",
      "execution_count": 257,
      "metadata": {
        "colab": {
          "base_uri": "https://localhost:8080/",
          "height": 300
        },
        "id": "i40kk9fGe5-l",
        "outputId": "63fa93eb-afeb-4fa6-e9e5-52a5f32b6ad3"
      },
      "outputs": [
        {
          "output_type": "execute_result",
          "data": {
            "text/plain": [
              "              Age  YearsExperience  Years of Education  QYears of Education  \\\n",
              "count  358.000000       358.000000          358.000000           358.000000   \n",
              "mean    58.117318        15.851799            5.765363            37.346369   \n",
              "std      4.188511         2.343184            2.029399            24.084646   \n",
              "min     51.000000        12.000329            3.000000             9.000000   \n",
              "25%     55.000000        13.941566            4.000000            16.000000   \n",
              "50%     58.000000        15.577409            6.000000            36.000000   \n",
              "75%     61.000000        18.066805            7.750000            60.250000   \n",
              "max     65.000000        19.999206            9.000000            81.000000   \n",
              "\n",
              "       CombinedParameter        Salary  \n",
              "count         358.000000    358.000000  \n",
              "mean          425.954739  73215.608740  \n",
              "std           151.811104  14418.470310  \n",
              "min           195.489274  50063.395020  \n",
              "25%           293.993140  60981.689147  \n",
              "50%           411.538747  72174.992513  \n",
              "75%           559.545589  84857.983798  \n",
              "max           741.519469  99972.169352  "
            ],
            "text/html": [
              "\n",
              "  <div id=\"df-ac3c10fc-7234-49bf-ad99-cd56acd60ec3\">\n",
              "    <div class=\"colab-df-container\">\n",
              "      <div>\n",
              "<style scoped>\n",
              "    .dataframe tbody tr th:only-of-type {\n",
              "        vertical-align: middle;\n",
              "    }\n",
              "\n",
              "    .dataframe tbody tr th {\n",
              "        vertical-align: top;\n",
              "    }\n",
              "\n",
              "    .dataframe thead th {\n",
              "        text-align: right;\n",
              "    }\n",
              "</style>\n",
              "<table border=\"1\" class=\"dataframe\">\n",
              "  <thead>\n",
              "    <tr style=\"text-align: right;\">\n",
              "      <th></th>\n",
              "      <th>Age</th>\n",
              "      <th>YearsExperience</th>\n",
              "      <th>Years of Education</th>\n",
              "      <th>QYears of Education</th>\n",
              "      <th>CombinedParameter</th>\n",
              "      <th>Salary</th>\n",
              "    </tr>\n",
              "  </thead>\n",
              "  <tbody>\n",
              "    <tr>\n",
              "      <th>count</th>\n",
              "      <td>358.000000</td>\n",
              "      <td>358.000000</td>\n",
              "      <td>358.000000</td>\n",
              "      <td>358.000000</td>\n",
              "      <td>358.000000</td>\n",
              "      <td>358.000000</td>\n",
              "    </tr>\n",
              "    <tr>\n",
              "      <th>mean</th>\n",
              "      <td>58.117318</td>\n",
              "      <td>15.851799</td>\n",
              "      <td>5.765363</td>\n",
              "      <td>37.346369</td>\n",
              "      <td>425.954739</td>\n",
              "      <td>73215.608740</td>\n",
              "    </tr>\n",
              "    <tr>\n",
              "      <th>std</th>\n",
              "      <td>4.188511</td>\n",
              "      <td>2.343184</td>\n",
              "      <td>2.029399</td>\n",
              "      <td>24.084646</td>\n",
              "      <td>151.811104</td>\n",
              "      <td>14418.470310</td>\n",
              "    </tr>\n",
              "    <tr>\n",
              "      <th>min</th>\n",
              "      <td>51.000000</td>\n",
              "      <td>12.000329</td>\n",
              "      <td>3.000000</td>\n",
              "      <td>9.000000</td>\n",
              "      <td>195.489274</td>\n",
              "      <td>50063.395020</td>\n",
              "    </tr>\n",
              "    <tr>\n",
              "      <th>25%</th>\n",
              "      <td>55.000000</td>\n",
              "      <td>13.941566</td>\n",
              "      <td>4.000000</td>\n",
              "      <td>16.000000</td>\n",
              "      <td>293.993140</td>\n",
              "      <td>60981.689147</td>\n",
              "    </tr>\n",
              "    <tr>\n",
              "      <th>50%</th>\n",
              "      <td>58.000000</td>\n",
              "      <td>15.577409</td>\n",
              "      <td>6.000000</td>\n",
              "      <td>36.000000</td>\n",
              "      <td>411.538747</td>\n",
              "      <td>72174.992513</td>\n",
              "    </tr>\n",
              "    <tr>\n",
              "      <th>75%</th>\n",
              "      <td>61.000000</td>\n",
              "      <td>18.066805</td>\n",
              "      <td>7.750000</td>\n",
              "      <td>60.250000</td>\n",
              "      <td>559.545589</td>\n",
              "      <td>84857.983798</td>\n",
              "    </tr>\n",
              "    <tr>\n",
              "      <th>max</th>\n",
              "      <td>65.000000</td>\n",
              "      <td>19.999206</td>\n",
              "      <td>9.000000</td>\n",
              "      <td>81.000000</td>\n",
              "      <td>741.519469</td>\n",
              "      <td>99972.169352</td>\n",
              "    </tr>\n",
              "  </tbody>\n",
              "</table>\n",
              "</div>\n",
              "      <button class=\"colab-df-convert\" onclick=\"convertToInteractive('df-ac3c10fc-7234-49bf-ad99-cd56acd60ec3')\"\n",
              "              title=\"Convert this dataframe to an interactive table.\"\n",
              "              style=\"display:none;\">\n",
              "        \n",
              "  <svg xmlns=\"http://www.w3.org/2000/svg\" height=\"24px\"viewBox=\"0 0 24 24\"\n",
              "       width=\"24px\">\n",
              "    <path d=\"M0 0h24v24H0V0z\" fill=\"none\"/>\n",
              "    <path d=\"M18.56 5.44l.94 2.06.94-2.06 2.06-.94-2.06-.94-.94-2.06-.94 2.06-2.06.94zm-11 1L8.5 8.5l.94-2.06 2.06-.94-2.06-.94L8.5 2.5l-.94 2.06-2.06.94zm10 10l.94 2.06.94-2.06 2.06-.94-2.06-.94-.94-2.06-.94 2.06-2.06.94z\"/><path d=\"M17.41 7.96l-1.37-1.37c-.4-.4-.92-.59-1.43-.59-.52 0-1.04.2-1.43.59L10.3 9.45l-7.72 7.72c-.78.78-.78 2.05 0 2.83L4 21.41c.39.39.9.59 1.41.59.51 0 1.02-.2 1.41-.59l7.78-7.78 2.81-2.81c.8-.78.8-2.07 0-2.86zM5.41 20L4 18.59l7.72-7.72 1.47 1.35L5.41 20z\"/>\n",
              "  </svg>\n",
              "      </button>\n",
              "      \n",
              "  <style>\n",
              "    .colab-df-container {\n",
              "      display:flex;\n",
              "      flex-wrap:wrap;\n",
              "      gap: 12px;\n",
              "    }\n",
              "\n",
              "    .colab-df-convert {\n",
              "      background-color: #E8F0FE;\n",
              "      border: none;\n",
              "      border-radius: 50%;\n",
              "      cursor: pointer;\n",
              "      display: none;\n",
              "      fill: #1967D2;\n",
              "      height: 32px;\n",
              "      padding: 0 0 0 0;\n",
              "      width: 32px;\n",
              "    }\n",
              "\n",
              "    .colab-df-convert:hover {\n",
              "      background-color: #E2EBFA;\n",
              "      box-shadow: 0px 1px 2px rgba(60, 64, 67, 0.3), 0px 1px 3px 1px rgba(60, 64, 67, 0.15);\n",
              "      fill: #174EA6;\n",
              "    }\n",
              "\n",
              "    [theme=dark] .colab-df-convert {\n",
              "      background-color: #3B4455;\n",
              "      fill: #D2E3FC;\n",
              "    }\n",
              "\n",
              "    [theme=dark] .colab-df-convert:hover {\n",
              "      background-color: #434B5C;\n",
              "      box-shadow: 0px 1px 3px 1px rgba(0, 0, 0, 0.15);\n",
              "      filter: drop-shadow(0px 1px 2px rgba(0, 0, 0, 0.3));\n",
              "      fill: #FFFFFF;\n",
              "    }\n",
              "  </style>\n",
              "\n",
              "      <script>\n",
              "        const buttonEl =\n",
              "          document.querySelector('#df-ac3c10fc-7234-49bf-ad99-cd56acd60ec3 button.colab-df-convert');\n",
              "        buttonEl.style.display =\n",
              "          google.colab.kernel.accessAllowed ? 'block' : 'none';\n",
              "\n",
              "        async function convertToInteractive(key) {\n",
              "          const element = document.querySelector('#df-ac3c10fc-7234-49bf-ad99-cd56acd60ec3');\n",
              "          const dataTable =\n",
              "            await google.colab.kernel.invokeFunction('convertToInteractive',\n",
              "                                                     [key], {});\n",
              "          if (!dataTable) return;\n",
              "\n",
              "          const docLinkHtml = 'Like what you see? Visit the ' +\n",
              "            '<a target=\"_blank\" href=https://colab.research.google.com/notebooks/data_table.ipynb>data table notebook</a>'\n",
              "            + ' to learn more about interactive tables.';\n",
              "          element.innerHTML = '';\n",
              "          dataTable['output_type'] = 'display_data';\n",
              "          await google.colab.output.renderOutput(dataTable, element);\n",
              "          const docLink = document.createElement('div');\n",
              "          docLink.innerHTML = docLinkHtml;\n",
              "          element.appendChild(docLink);\n",
              "        }\n",
              "      </script>\n",
              "    </div>\n",
              "  </div>\n",
              "  "
            ]
          },
          "metadata": {},
          "execution_count": 257
        }
      ],
      "source": [
        "# Using the data object  to find some general values like mean, minimum etc\n",
        "Testset.describe()"
      ]
    },
    {
      "cell_type": "code",
      "execution_count": 258,
      "metadata": {
        "colab": {
          "base_uri": "https://localhost:8080/",
          "height": 237
        },
        "id": "L8R_Ej-RfIvy",
        "outputId": "78811046-e26b-4bbb-8dff-fc31fb8113c6"
      },
      "outputs": [
        {
          "output_type": "execute_result",
          "data": {
            "text/plain": [
              "                          Age  YearsExperience  Years of Education  \\\n",
              "Age                  1.000000        -0.089430           -0.061342   \n",
              "YearsExperience     -0.089430         1.000000            0.003347   \n",
              "Years of Education  -0.061342         0.003347            1.000000   \n",
              "QYears of Education -0.052662         0.014002            0.989563   \n",
              "CombinedParameter    0.087135         0.074482            0.983594   \n",
              "Salary              -0.040303         0.049187           -0.029242   \n",
              "\n",
              "                     QYears of Education  CombinedParameter    Salary  \n",
              "Age                            -0.052662           0.087135 -0.040303  \n",
              "YearsExperience                 0.014002           0.074482  0.049187  \n",
              "Years of Education              0.989563           0.983594 -0.029242  \n",
              "QYears of Education             1.000000           0.974491 -0.031364  \n",
              "CombinedParameter               0.974491           1.000000 -0.030994  \n",
              "Salary                         -0.031364          -0.030994  1.000000  "
            ],
            "text/html": [
              "\n",
              "  <div id=\"df-04ffbb91-6445-407a-b09a-9aa219508c5e\">\n",
              "    <div class=\"colab-df-container\">\n",
              "      <div>\n",
              "<style scoped>\n",
              "    .dataframe tbody tr th:only-of-type {\n",
              "        vertical-align: middle;\n",
              "    }\n",
              "\n",
              "    .dataframe tbody tr th {\n",
              "        vertical-align: top;\n",
              "    }\n",
              "\n",
              "    .dataframe thead th {\n",
              "        text-align: right;\n",
              "    }\n",
              "</style>\n",
              "<table border=\"1\" class=\"dataframe\">\n",
              "  <thead>\n",
              "    <tr style=\"text-align: right;\">\n",
              "      <th></th>\n",
              "      <th>Age</th>\n",
              "      <th>YearsExperience</th>\n",
              "      <th>Years of Education</th>\n",
              "      <th>QYears of Education</th>\n",
              "      <th>CombinedParameter</th>\n",
              "      <th>Salary</th>\n",
              "    </tr>\n",
              "  </thead>\n",
              "  <tbody>\n",
              "    <tr>\n",
              "      <th>Age</th>\n",
              "      <td>1.000000</td>\n",
              "      <td>-0.089430</td>\n",
              "      <td>-0.061342</td>\n",
              "      <td>-0.052662</td>\n",
              "      <td>0.087135</td>\n",
              "      <td>-0.040303</td>\n",
              "    </tr>\n",
              "    <tr>\n",
              "      <th>YearsExperience</th>\n",
              "      <td>-0.089430</td>\n",
              "      <td>1.000000</td>\n",
              "      <td>0.003347</td>\n",
              "      <td>0.014002</td>\n",
              "      <td>0.074482</td>\n",
              "      <td>0.049187</td>\n",
              "    </tr>\n",
              "    <tr>\n",
              "      <th>Years of Education</th>\n",
              "      <td>-0.061342</td>\n",
              "      <td>0.003347</td>\n",
              "      <td>1.000000</td>\n",
              "      <td>0.989563</td>\n",
              "      <td>0.983594</td>\n",
              "      <td>-0.029242</td>\n",
              "    </tr>\n",
              "    <tr>\n",
              "      <th>QYears of Education</th>\n",
              "      <td>-0.052662</td>\n",
              "      <td>0.014002</td>\n",
              "      <td>0.989563</td>\n",
              "      <td>1.000000</td>\n",
              "      <td>0.974491</td>\n",
              "      <td>-0.031364</td>\n",
              "    </tr>\n",
              "    <tr>\n",
              "      <th>CombinedParameter</th>\n",
              "      <td>0.087135</td>\n",
              "      <td>0.074482</td>\n",
              "      <td>0.983594</td>\n",
              "      <td>0.974491</td>\n",
              "      <td>1.000000</td>\n",
              "      <td>-0.030994</td>\n",
              "    </tr>\n",
              "    <tr>\n",
              "      <th>Salary</th>\n",
              "      <td>-0.040303</td>\n",
              "      <td>0.049187</td>\n",
              "      <td>-0.029242</td>\n",
              "      <td>-0.031364</td>\n",
              "      <td>-0.030994</td>\n",
              "      <td>1.000000</td>\n",
              "    </tr>\n",
              "  </tbody>\n",
              "</table>\n",
              "</div>\n",
              "      <button class=\"colab-df-convert\" onclick=\"convertToInteractive('df-04ffbb91-6445-407a-b09a-9aa219508c5e')\"\n",
              "              title=\"Convert this dataframe to an interactive table.\"\n",
              "              style=\"display:none;\">\n",
              "        \n",
              "  <svg xmlns=\"http://www.w3.org/2000/svg\" height=\"24px\"viewBox=\"0 0 24 24\"\n",
              "       width=\"24px\">\n",
              "    <path d=\"M0 0h24v24H0V0z\" fill=\"none\"/>\n",
              "    <path d=\"M18.56 5.44l.94 2.06.94-2.06 2.06-.94-2.06-.94-.94-2.06-.94 2.06-2.06.94zm-11 1L8.5 8.5l.94-2.06 2.06-.94-2.06-.94L8.5 2.5l-.94 2.06-2.06.94zm10 10l.94 2.06.94-2.06 2.06-.94-2.06-.94-.94-2.06-.94 2.06-2.06.94z\"/><path d=\"M17.41 7.96l-1.37-1.37c-.4-.4-.92-.59-1.43-.59-.52 0-1.04.2-1.43.59L10.3 9.45l-7.72 7.72c-.78.78-.78 2.05 0 2.83L4 21.41c.39.39.9.59 1.41.59.51 0 1.02-.2 1.41-.59l7.78-7.78 2.81-2.81c.8-.78.8-2.07 0-2.86zM5.41 20L4 18.59l7.72-7.72 1.47 1.35L5.41 20z\"/>\n",
              "  </svg>\n",
              "      </button>\n",
              "      \n",
              "  <style>\n",
              "    .colab-df-container {\n",
              "      display:flex;\n",
              "      flex-wrap:wrap;\n",
              "      gap: 12px;\n",
              "    }\n",
              "\n",
              "    .colab-df-convert {\n",
              "      background-color: #E8F0FE;\n",
              "      border: none;\n",
              "      border-radius: 50%;\n",
              "      cursor: pointer;\n",
              "      display: none;\n",
              "      fill: #1967D2;\n",
              "      height: 32px;\n",
              "      padding: 0 0 0 0;\n",
              "      width: 32px;\n",
              "    }\n",
              "\n",
              "    .colab-df-convert:hover {\n",
              "      background-color: #E2EBFA;\n",
              "      box-shadow: 0px 1px 2px rgba(60, 64, 67, 0.3), 0px 1px 3px 1px rgba(60, 64, 67, 0.15);\n",
              "      fill: #174EA6;\n",
              "    }\n",
              "\n",
              "    [theme=dark] .colab-df-convert {\n",
              "      background-color: #3B4455;\n",
              "      fill: #D2E3FC;\n",
              "    }\n",
              "\n",
              "    [theme=dark] .colab-df-convert:hover {\n",
              "      background-color: #434B5C;\n",
              "      box-shadow: 0px 1px 3px 1px rgba(0, 0, 0, 0.15);\n",
              "      filter: drop-shadow(0px 1px 2px rgba(0, 0, 0, 0.3));\n",
              "      fill: #FFFFFF;\n",
              "    }\n",
              "  </style>\n",
              "\n",
              "      <script>\n",
              "        const buttonEl =\n",
              "          document.querySelector('#df-04ffbb91-6445-407a-b09a-9aa219508c5e button.colab-df-convert');\n",
              "        buttonEl.style.display =\n",
              "          google.colab.kernel.accessAllowed ? 'block' : 'none';\n",
              "\n",
              "        async function convertToInteractive(key) {\n",
              "          const element = document.querySelector('#df-04ffbb91-6445-407a-b09a-9aa219508c5e');\n",
              "          const dataTable =\n",
              "            await google.colab.kernel.invokeFunction('convertToInteractive',\n",
              "                                                     [key], {});\n",
              "          if (!dataTable) return;\n",
              "\n",
              "          const docLinkHtml = 'Like what you see? Visit the ' +\n",
              "            '<a target=\"_blank\" href=https://colab.research.google.com/notebooks/data_table.ipynb>data table notebook</a>'\n",
              "            + ' to learn more about interactive tables.';\n",
              "          element.innerHTML = '';\n",
              "          dataTable['output_type'] = 'display_data';\n",
              "          await google.colab.output.renderOutput(dataTable, element);\n",
              "          const docLink = document.createElement('div');\n",
              "          docLink.innerHTML = docLinkHtml;\n",
              "          element.appendChild(docLink);\n",
              "        }\n",
              "      </script>\n",
              "    </div>\n",
              "  </div>\n",
              "  "
            ]
          },
          "metadata": {},
          "execution_count": 258
        }
      ],
      "source": [
        "# corr() is used to find the pairwise correlation of all columns in the data we provided.\n",
        "# The closer its value is to 1, the more variability the model explains.\n",
        "Testset.corr()"
      ]
    },
    {
      "cell_type": "code",
      "execution_count": 259,
      "metadata": {
        "colab": {
          "base_uri": "https://localhost:8080/",
          "height": 296
        },
        "id": "KQCr-HINfeTc",
        "outputId": "eb2cde0f-d1cf-4cf1-d241-d677123531eb"
      },
      "outputs": [
        {
          "output_type": "execute_result",
          "data": {
            "text/plain": [
              "<matplotlib.axes._subplots.AxesSubplot at 0x7fb242cd2c90>"
            ]
          },
          "metadata": {},
          "execution_count": 259
        },
        {
          "output_type": "display_data",
          "data": {
            "text/plain": [
              "<Figure size 432x288 with 1 Axes>"
            ],
            "image/png": "[encoded data removed]"
          },
          "metadata": {
            "needs_background": "light"
          }
        }
      ],
      "source": [
        "# We are using seaborn, which is used to display mathematical scatter plot of the given data\n",
        "sns.scatterplot(data=Testset, x=\"YearsExperience\",y=\"Salary\")"
      ]
    },
    {
      "cell_type": "code",
      "execution_count": 260,
      "metadata": {
        "id": "Be36uyGApCfr"
      },
      "outputs": [],
      "source": [
        "# Conducting Linear Regression method and inserting data using the fit method\n",
        "# Fit function adjusts weights according to data values so that better accuracy can be achieved\n",
        "#Dataset = pd.read_csv(\"T.csv\")\n",
        "lm = linear_model.LinearRegression(). fit(Training[[\"YearsExperience\"]],Training[[\"Salary\"]])\n",
        "# Using the predict method\n",
        "\n",
        "result=lm.predict(Testset[[\"YearsExperience\"]])"
      ]
    },
    {
      "cell_type": "code",
      "execution_count": 261,
      "metadata": {
        "colab": {
          "base_uri": "https://localhost:8080/",
          "height": 206
        },
        "id": "Nhahhys_pGQO",
        "outputId": "71e4c087-2400-47df-f569-c343a3215388"
      },
      "outputs": [
        {
          "output_type": "execute_result",
          "data": {
            "text/plain": [
              "   Age  YearsExperience  Years of Education  QYears of Education  \\\n",
              "0   63        13.703036                   4                   16   \n",
              "1   61        17.440310                   9                   81   \n",
              "2   62        13.864240                   3                    9   \n",
              "3   61        19.739764                   9                   81   \n",
              "4   51        17.875034                   4                   16   \n",
              "\n",
              "   CombinedParameter        Salary  Predicted Salary Using Sklearn method  \n",
              "0         306.812145  50315.750393                           74313.238843  \n",
              "1         705.962789  68427.951072                           76411.631396  \n",
              "2         227.592719  62002.842940                           74403.750874  \n",
              "3         726.657874  53677.498267                           77702.721481  \n",
              "4         275.500135  71662.599810                           76655.718797  "
            ],
            "text/html": [
              "\n",
              "  <div id=\"df-abd39582-8bba-4c36-8aa9-e97e8069a168\">\n",
              "    <div class=\"colab-df-container\">\n",
              "      <div>\n",
              "<style scoped>\n",
              "    .dataframe tbody tr th:only-of-type {\n",
              "        vertical-align: middle;\n",
              "    }\n",
              "\n",
              "    .dataframe tbody tr th {\n",
              "        vertical-align: top;\n",
              "    }\n",
              "\n",
              "    .dataframe thead th {\n",
              "        text-align: right;\n",
              "    }\n",
              "</style>\n",
              "<table border=\"1\" class=\"dataframe\">\n",
              "  <thead>\n",
              "    <tr style=\"text-align: right;\">\n",
              "      <th></th>\n",
              "      <th>Age</th>\n",
              "      <th>YearsExperience</th>\n",
              "      <th>Years of Education</th>\n",
              "      <th>QYears of Education</th>\n",
              "      <th>CombinedParameter</th>\n",
              "      <th>Salary</th>\n",
              "      <th>Predicted Salary Using Sklearn method</th>\n",
              "    </tr>\n",
              "  </thead>\n",
              "  <tbody>\n",
              "    <tr>\n",
              "      <th>0</th>\n",
              "      <td>63</td>\n",
              "      <td>13.703036</td>\n",
              "      <td>4</td>\n",
              "      <td>16</td>\n",
              "      <td>306.812145</td>\n",
              "      <td>50315.750393</td>\n",
              "      <td>74313.238843</td>\n",
              "    </tr>\n",
              "    <tr>\n",
              "      <th>1</th>\n",
              "      <td>61</td>\n",
              "      <td>17.440310</td>\n",
              "      <td>9</td>\n",
              "      <td>81</td>\n",
              "      <td>705.962789</td>\n",
              "      <td>68427.951072</td>\n",
              "      <td>76411.631396</td>\n",
              "    </tr>\n",
              "    <tr>\n",
              "      <th>2</th>\n",
              "      <td>62</td>\n",
              "      <td>13.864240</td>\n",
              "      <td>3</td>\n",
              "      <td>9</td>\n",
              "      <td>227.592719</td>\n",
              "      <td>62002.842940</td>\n",
              "      <td>74403.750874</td>\n",
              "    </tr>\n",
              "    <tr>\n",
              "      <th>3</th>\n",
              "      <td>61</td>\n",
              "      <td>19.739764</td>\n",
              "      <td>9</td>\n",
              "      <td>81</td>\n",
              "      <td>726.657874</td>\n",
              "      <td>53677.498267</td>\n",
              "      <td>77702.721481</td>\n",
              "    </tr>\n",
              "    <tr>\n",
              "      <th>4</th>\n",
              "      <td>51</td>\n",
              "      <td>17.875034</td>\n",
              "      <td>4</td>\n",
              "      <td>16</td>\n",
              "      <td>275.500135</td>\n",
              "      <td>71662.599810</td>\n",
              "      <td>76655.718797</td>\n",
              "    </tr>\n",
              "  </tbody>\n",
              "</table>\n",
              "</div>\n",
              "      <button class=\"colab-df-convert\" onclick=\"convertToInteractive('df-abd39582-8bba-4c36-8aa9-e97e8069a168')\"\n",
              "              title=\"Convert this dataframe to an interactive table.\"\n",
              "              style=\"display:none;\">\n",
              "        \n",
              "  <svg xmlns=\"http://www.w3.org/2000/svg\" height=\"24px\"viewBox=\"0 0 24 24\"\n",
              "       width=\"24px\">\n",
              "    <path d=\"M0 0h24v24H0V0z\" fill=\"none\"/>\n",
              "    <path d=\"M18.56 5.44l.94 2.06.94-2.06 2.06-.94-2.06-.94-.94-2.06-.94 2.06-2.06.94zm-11 1L8.5 8.5l.94-2.06 2.06-.94-2.06-.94L8.5 2.5l-.94 2.06-2.06.94zm10 10l.94 2.06.94-2.06 2.06-.94-2.06-.94-.94-2.06-.94 2.06-2.06.94z\"/><path d=\"M17.41 7.96l-1.37-1.37c-.4-.4-.92-.59-1.43-.59-.52 0-1.04.2-1.43.59L10.3 9.45l-7.72 7.72c-.78.78-.78 2.05 0 2.83L4 21.41c.39.39.9.59 1.41.59.51 0 1.02-.2 1.41-.59l7.78-7.78 2.81-2.81c.8-.78.8-2.07 0-2.86zM5.41 20L4 18.59l7.72-7.72 1.47 1.35L5.41 20z\"/>\n",
              "  </svg>\n",
              "      </button>\n",
              "      \n",
              "  <style>\n",
              "    .colab-df-container {\n",
              "      display:flex;\n",
              "      flex-wrap:wrap;\n",
              "      gap: 12px;\n",
              "    }\n",
              "\n",
              "    .colab-df-convert {\n",
              "      background-color: #E8F0FE;\n",
              "      border: none;\n",
              "      border-radius: 50%;\n",
              "      cursor: pointer;\n",
              "      display: none;\n",
              "      fill: #1967D2;\n",
              "      height: 32px;\n",
              "      padding: 0 0 0 0;\n",
              "      width: 32px;\n",
              "    }\n",
              "\n",
              "    .colab-df-convert:hover {\n",
              "      background-color: #E2EBFA;\n",
              "      box-shadow: 0px 1px 2px rgba(60, 64, 67, 0.3), 0px 1px 3px 1px rgba(60, 64, 67, 0.15);\n",
              "      fill: #174EA6;\n",
              "    }\n",
              "\n",
              "    [theme=dark] .colab-df-convert {\n",
              "      background-color: #3B4455;\n",
              "      fill: #D2E3FC;\n",
              "    }\n",
              "\n",
              "    [theme=dark] .colab-df-convert:hover {\n",
              "      background-color: #434B5C;\n",
              "      box-shadow: 0px 1px 3px 1px rgba(0, 0, 0, 0.15);\n",
              "      filter: drop-shadow(0px 1px 2px rgba(0, 0, 0, 0.3));\n",
              "      fill: #FFFFFF;\n",
              "    }\n",
              "  </style>\n",
              "\n",
              "      <script>\n",
              "        const buttonEl =\n",
              "          document.querySelector('#df-abd39582-8bba-4c36-8aa9-e97e8069a168 button.colab-df-convert');\n",
              "        buttonEl.style.display =\n",
              "          google.colab.kernel.accessAllowed ? 'block' : 'none';\n",
              "\n",
              "        async function convertToInteractive(key) {\n",
              "          const element = document.querySelector('#df-abd39582-8bba-4c36-8aa9-e97e8069a168');\n",
              "          const dataTable =\n",
              "            await google.colab.kernel.invokeFunction('convertToInteractive',\n",
              "                                                     [key], {});\n",
              "          if (!dataTable) return;\n",
              "\n",
              "          const docLinkHtml = 'Like what you see? Visit the ' +\n",
              "            '<a target=\"_blank\" href=https://colab.research.google.com/notebooks/data_table.ipynb>data table notebook</a>'\n",
              "            + ' to learn more about interactive tables.';\n",
              "          element.innerHTML = '';\n",
              "          dataTable['output_type'] = 'display_data';\n",
              "          await google.colab.output.renderOutput(dataTable, element);\n",
              "          const docLink = document.createElement('div');\n",
              "          docLink.innerHTML = docLinkHtml;\n",
              "          element.appendChild(docLink);\n",
              "        }\n",
              "      </script>\n",
              "    </div>\n",
              "  </div>\n",
              "  "
            ]
          },
          "metadata": {},
          "execution_count": 261
        }
      ],
      "source": [
        "# Creating a new column to place contents of the result variable\n",
        "Testset[\"Predicted Salary Using Sklearn method\"]= result\n",
        "Testset.head()"
      ]
    },
    {
      "cell_type": "code",
      "execution_count": 262,
      "metadata": {
        "colab": {
          "base_uri": "https://localhost:8080/",
          "height": 267
        },
        "id": "nzaL0hxVpLKw",
        "outputId": "22146cdc-539b-4b25-c41c-09fee1c72dda"
      },
      "outputs": [
        {
          "output_type": "execute_result",
          "data": {
            "text/plain": [
              "   Age  YearsExperience  Years of Education  QYears of Education  \\\n",
              "0   63        13.703036                   4                   16   \n",
              "1   61        17.440310                   9                   81   \n",
              "2   62        13.864240                   3                    9   \n",
              "3   61        19.739764                   9                   81   \n",
              "4   51        17.875034                   4                   16   \n",
              "\n",
              "   CombinedParameter        Salary  Predicted Salary Using Sklearn method  \\\n",
              "0         306.812145  50315.750393                           74313.238843   \n",
              "1         705.962789  68427.951072                           76411.631396   \n",
              "2         227.592719  62002.842940                           74403.750874   \n",
              "3         726.657874  53677.498267                           77702.721481   \n",
              "4         275.500135  71662.599810                           76655.718797   \n",
              "\n",
              "   Prediction Error Using Sklearn method  \n",
              "0                          -23997.488450  \n",
              "1                           -7983.680323  \n",
              "2                          -12400.907933  \n",
              "3                          -24025.223214  \n",
              "4                           -4993.118987  "
            ],
            "text/html": [
              "\n",
              "  <div id=\"df-3598276c-9631-4509-87bb-76d3bc642a87\">\n",
              "    <div class=\"colab-df-container\">\n",
              "      <div>\n",
              "<style scoped>\n",
              "    .dataframe tbody tr th:only-of-type {\n",
              "        vertical-align: middle;\n",
              "    }\n",
              "\n",
              "    .dataframe tbody tr th {\n",
              "        vertical-align: top;\n",
              "    }\n",
              "\n",
              "    .dataframe thead th {\n",
              "        text-align: right;\n",
              "    }\n",
              "</style>\n",
              "<table border=\"1\" class=\"dataframe\">\n",
              "  <thead>\n",
              "    <tr style=\"text-align: right;\">\n",
              "      <th></th>\n",
              "      <th>Age</th>\n",
              "      <th>YearsExperience</th>\n",
              "      <th>Years of Education</th>\n",
              "      <th>QYears of Education</th>\n",
              "      <th>CombinedParameter</th>\n",
              "      <th>Salary</th>\n",
              "      <th>Predicted Salary Using Sklearn method</th>\n",
              "      <th>Prediction Error Using Sklearn method</th>\n",
              "    </tr>\n",
              "  </thead>\n",
              "  <tbody>\n",
              "    <tr>\n",
              "      <th>0</th>\n",
              "      <td>63</td>\n",
              "      <td>13.703036</td>\n",
              "      <td>4</td>\n",
              "      <td>16</td>\n",
              "      <td>306.812145</td>\n",
              "      <td>50315.750393</td>\n",
              "      <td>74313.238843</td>\n",
              "      <td>-23997.488450</td>\n",
              "    </tr>\n",
              "    <tr>\n",
              "      <th>1</th>\n",
              "      <td>61</td>\n",
              "      <td>17.440310</td>\n",
              "      <td>9</td>\n",
              "      <td>81</td>\n",
              "      <td>705.962789</td>\n",
              "      <td>68427.951072</td>\n",
              "      <td>76411.631396</td>\n",
              "      <td>-7983.680323</td>\n",
              "    </tr>\n",
              "    <tr>\n",
              "      <th>2</th>\n",
              "      <td>62</td>\n",
              "      <td>13.864240</td>\n",
              "      <td>3</td>\n",
              "      <td>9</td>\n",
              "      <td>227.592719</td>\n",
              "      <td>62002.842940</td>\n",
              "      <td>74403.750874</td>\n",
              "      <td>-12400.907933</td>\n",
              "    </tr>\n",
              "    <tr>\n",
              "      <th>3</th>\n",
              "      <td>61</td>\n",
              "      <td>19.739764</td>\n",
              "      <td>9</td>\n",
              "      <td>81</td>\n",
              "      <td>726.657874</td>\n",
              "      <td>53677.498267</td>\n",
              "      <td>77702.721481</td>\n",
              "      <td>-24025.223214</td>\n",
              "    </tr>\n",
              "    <tr>\n",
              "      <th>4</th>\n",
              "      <td>51</td>\n",
              "      <td>17.875034</td>\n",
              "      <td>4</td>\n",
              "      <td>16</td>\n",
              "      <td>275.500135</td>\n",
              "      <td>71662.599810</td>\n",
              "      <td>76655.718797</td>\n",
              "      <td>-4993.118987</td>\n",
              "    </tr>\n",
              "  </tbody>\n",
              "</table>\n",
              "</div>\n",
              "      <button class=\"colab-df-convert\" onclick=\"convertToInteractive('df-3598276c-9631-4509-87bb-76d3bc642a87')\"\n",
              "              title=\"Convert this dataframe to an interactive table.\"\n",
              "              style=\"display:none;\">\n",
              "        \n",
              "  <svg xmlns=\"http://www.w3.org/2000/svg\" height=\"24px\"viewBox=\"0 0 24 24\"\n",
              "       width=\"24px\">\n",
              "    <path d=\"M0 0h24v24H0V0z\" fill=\"none\"/>\n",
              "    <path d=\"M18.56 5.44l.94 2.06.94-2.06 2.06-.94-2.06-.94-.94-2.06-.94 2.06-2.06.94zm-11 1L8.5 8.5l.94-2.06 2.06-.94-2.06-.94L8.5 2.5l-.94 2.06-2.06.94zm10 10l.94 2.06.94-2.06 2.06-.94-2.06-.94-.94-2.06-.94 2.06-2.06.94z\"/><path d=\"M17.41 7.96l-1.37-1.37c-.4-.4-.92-.59-1.43-.59-.52 0-1.04.2-1.43.59L10.3 9.45l-7.72 7.72c-.78.78-.78 2.05 0 2.83L4 21.41c.39.39.9.59 1.41.59.51 0 1.02-.2 1.41-.59l7.78-7.78 2.81-2.81c.8-.78.8-2.07 0-2.86zM5.41 20L4 18.59l7.72-7.72 1.47 1.35L5.41 20z\"/>\n",
              "  </svg>\n",
              "      </button>\n",
              "      \n",
              "  <style>\n",
              "    .colab-df-container {\n",
              "      display:flex;\n",
              "      flex-wrap:wrap;\n",
              "      gap: 12px;\n",
              "    }\n",
              "\n",
              "    .colab-df-convert {\n",
              "      background-color: #E8F0FE;\n",
              "      border: none;\n",
              "      border-radius: 50%;\n",
              "      cursor: pointer;\n",
              "      display: none;\n",
              "      fill: #1967D2;\n",
              "      height: 32px;\n",
              "      padding: 0 0 0 0;\n",
              "      width: 32px;\n",
              "    }\n",
              "\n",
              "    .colab-df-convert:hover {\n",
              "      background-color: #E2EBFA;\n",
              "      box-shadow: 0px 1px 2px rgba(60, 64, 67, 0.3), 0px 1px 3px 1px rgba(60, 64, 67, 0.15);\n",
              "      fill: #174EA6;\n",
              "    }\n",
              "\n",
              "    [theme=dark] .colab-df-convert {\n",
              "      background-color: #3B4455;\n",
              "      fill: #D2E3FC;\n",
              "    }\n",
              "\n",
              "    [theme=dark] .colab-df-convert:hover {\n",
              "      background-color: #434B5C;\n",
              "      box-shadow: 0px 1px 3px 1px rgba(0, 0, 0, 0.15);\n",
              "      filter: drop-shadow(0px 1px 2px rgba(0, 0, 0, 0.3));\n",
              "      fill: #FFFFFF;\n",
              "    }\n",
              "  </style>\n",
              "\n",
              "      <script>\n",
              "        const buttonEl =\n",
              "          document.querySelector('#df-3598276c-9631-4509-87bb-76d3bc642a87 button.colab-df-convert');\n",
              "        buttonEl.style.display =\n",
              "          google.colab.kernel.accessAllowed ? 'block' : 'none';\n",
              "\n",
              "        async function convertToInteractive(key) {\n",
              "          const element = document.querySelector('#df-3598276c-9631-4509-87bb-76d3bc642a87');\n",
              "          const dataTable =\n",
              "            await google.colab.kernel.invokeFunction('convertToInteractive',\n",
              "                                                     [key], {});\n",
              "          if (!dataTable) return;\n",
              "\n",
              "          const docLinkHtml = 'Like what you see? Visit the ' +\n",
              "            '<a target=\"_blank\" href=https://colab.research.google.com/notebooks/data_table.ipynb>data table notebook</a>'\n",
              "            + ' to learn more about interactive tables.';\n",
              "          element.innerHTML = '';\n",
              "          dataTable['output_type'] = 'display_data';\n",
              "          await google.colab.output.renderOutput(dataTable, element);\n",
              "          const docLink = document.createElement('div');\n",
              "          docLink.innerHTML = docLinkHtml;\n",
              "          element.appendChild(docLink);\n",
              "        }\n",
              "      </script>\n",
              "    </div>\n",
              "  </div>\n",
              "  "
            ]
          },
          "metadata": {},
          "execution_count": 262
        }
      ],
      "source": [
        "# Created a new column to show the error current salary minus predicted salary\n",
        "Testset[\"Prediction Error Using Sklearn method\"] = Testset[\"Salary\"]-Testset[\"Predicted Salary Using Sklearn method\"]\n",
        "Testset.head()"
      ]
    },
    {
      "cell_type": "code",
      "execution_count": 263,
      "metadata": {
        "colab": {
          "base_uri": "https://localhost:8080/",
          "height": 312
        },
        "id": "siJbWEBdpQo6",
        "outputId": "068b0494-790b-4c5f-a141-3b79eec524f4"
      },
      "outputs": [
        {
          "output_type": "execute_result",
          "data": {
            "text/plain": [
              "Text(0.5, 1.0, 'Linear Regression: Years of Experience vS Corresponding Salary ')"
            ]
          },
          "metadata": {},
          "execution_count": 263
        },
        {
          "output_type": "display_data",
          "data": {
            "text/plain": [
              "<Figure size 432x288 with 1 Axes>"
            ],
            "image/png": "[encoded data removed]"
          },
          "metadata": {
            "needs_background": "light"
          }
        }
      ],
      "source": [
        "# Plotting Linear Regression graph with Sklearn  \n",
        "plt.scatter(Testset[\"YearsExperience\"], Testset[\"Salary\"])\n",
        "plt.plot(Testset[\"YearsExperience\"],Testset[\"Predicted Salary Using Sklearn method\"], color=\"green\")\n",
        "plt.ylabel(\"Salary\")\n",
        "plt.xlabel(\"Years of Experience\")\n",
        "plt.title(\"Linear Regression: Years of Experience vS Corresponding Salary \")"
      ]
    },
    {
      "cell_type": "code",
      "execution_count": 264,
      "metadata": {
        "id": "NgzST9RBqK5N"
      },
      "outputs": [],
      "source": [
        "m=lm.coef_"
      ]
    },
    {
      "cell_type": "code",
      "execution_count": 265,
      "metadata": {
        "id": "fq3xx4mEqRaj"
      },
      "outputs": [],
      "source": [
        "b=lm.intercept_"
      ]
    },
    {
      "cell_type": "code",
      "execution_count": 266,
      "metadata": {
        "colab": {
          "base_uri": "https://localhost:8080/"
        },
        "id": "ksNgIQWNqa-Z",
        "outputId": "734a778b-08a9-4ddb-d9a2-a78eeeb29910"
      },
      "outputs": [
        {
          "output_type": "execute_result",
          "data": {
            "text/plain": [
              "array([[70549.63921983]])"
            ]
          },
          "metadata": {},
          "execution_count": 266
        }
      ],
      "source": [
        "#Testing for 7 years of experience\n",
        "Salary = b + m * 7\n",
        "Salary"
      ]
    },
    {
      "cell_type": "code",
      "execution_count": 267,
      "metadata": {
        "colab": {
          "base_uri": "https://localhost:8080/"
        },
        "id": "YHslG1s_qpaf",
        "outputId": "4c7a05c3-3236-4631-8d24-a172c5c6588a"
      },
      "outputs": [
        {
          "output_type": "stream",
          "name": "stderr",
          "text": [
            "/usr/local/lib/python3.7/dist-packages/sklearn/base.py:451: UserWarning: X does not have valid feature names, but LinearRegression was fitted with feature names\n",
            "  \"X does not have valid feature names, but\"\n"
          ]
        },
        {
          "output_type": "execute_result",
          "data": {
            "text/plain": [
              "array([[70549.63921983]])"
            ]
          },
          "metadata": {},
          "execution_count": 267
        }
      ],
      "source": [
        "lm.predict([[7]]) "
      ]
    },
    {
      "cell_type": "code",
      "source": [
        "assert Salary == lm.predict([[7]])"
      ],
      "metadata": {
        "colab": {
          "base_uri": "https://localhost:8080/"
        },
        "id": "8BXMUSivOLHB",
        "outputId": "5fcf5383-5d5f-4f96-d7ed-ba0d92b85f82"
      },
      "execution_count": 268,
      "outputs": [
        {
          "output_type": "stream",
          "name": "stderr",
          "text": [
            "/usr/local/lib/python3.7/dist-packages/sklearn/base.py:451: UserWarning: X does not have valid feature names, but LinearRegression was fitted with feature names\n",
            "  \"X does not have valid feature names, but\"\n"
          ]
        }
      ]
    },
    {
      "cell_type": "markdown",
      "metadata": {
        "id": "iGNEIWBjqFyu"
      },
      "source": [
        "AGE VS SALARY CONDITION"
      ]
    },
    {
      "cell_type": "code",
      "execution_count": 269,
      "metadata": {
        "colab": {
          "base_uri": "https://localhost:8080/",
          "height": 296
        },
        "id": "Pg2_Kzd2PddU",
        "outputId": "f59663ea-63c7-4113-daef-45f8600606d0"
      },
      "outputs": [
        {
          "output_type": "execute_result",
          "data": {
            "text/plain": [
              "<matplotlib.axes._subplots.AxesSubplot at 0x7fb242bd8f10>"
            ]
          },
          "metadata": {},
          "execution_count": 269
        },
        {
          "output_type": "display_data",
          "data": {
            "text/plain": [
              "<Figure size 432x288 with 1 Axes>"
            ],
            "image/png": "[encoded data removed]"
          },
          "metadata": {
            "needs_background": "light"
          }
        }
      ],
      "source": [
        "sns.scatterplot(data=Testset, x=\"Age\",y=\"Salary\")"
      ]
    },
    {
      "cell_type": "code",
      "execution_count": 270,
      "metadata": {
        "id": "weVfbohlpVCy"
      },
      "outputs": [],
      "source": [
        "# Conducting Linear Regression method and inserting data using the fit method\n",
        "# Fit function adjusts weights according to data values so that better accuracy can be achieved\n",
        "\n",
        "lm = linear_model.LinearRegression(). fit(Training[[\"Age\"]],Training[[\"Salary\"]])\n",
        "# Using the predict method\n",
        "result=lm.predict (Testset[[\"Age\"]])"
      ]
    },
    {
      "cell_type": "code",
      "execution_count": 271,
      "metadata": {
        "colab": {
          "base_uri": "https://localhost:8080/",
          "height": 267
        },
        "id": "m9mZK7VQpb6c",
        "outputId": "fbde850a-ecb0-455d-8b7f-cb17083f3d46"
      },
      "outputs": [
        {
          "output_type": "execute_result",
          "data": {
            "text/plain": [
              "   Age  YearsExperience  Years of Education  QYears of Education  \\\n",
              "0   63        13.703036                   4                   16   \n",
              "1   61        17.440310                   9                   81   \n",
              "2   62        13.864240                   3                    9   \n",
              "3   61        19.739764                   9                   81   \n",
              "4   51        17.875034                   4                   16   \n",
              "\n",
              "   CombinedParameter        Salary  Predicted Salary Using Sklearn method  \\\n",
              "0         306.812145  50315.750393                           77439.297955   \n",
              "1         705.962789  68427.951072                           76717.338787   \n",
              "2         227.592719  62002.842940                           77078.318371   \n",
              "3         726.657874  53677.498267                           76717.338787   \n",
              "4         275.500135  71662.599810                           73107.542946   \n",
              "\n",
              "   Prediction Error Using Sklearn method  \n",
              "0                          -27123.547562  \n",
              "1                           -8289.387714  \n",
              "2                          -15075.475430  \n",
              "3                          -23039.840520  \n",
              "4                           -1444.943136  "
            ],
            "text/html": [
              "\n",
              "  <div id=\"df-73ef6e2d-c550-4997-826f-bdc8d326300b\">\n",
              "    <div class=\"colab-df-container\">\n",
              "      <div>\n",
              "<style scoped>\n",
              "    .dataframe tbody tr th:only-of-type {\n",
              "        vertical-align: middle;\n",
              "    }\n",
              "\n",
              "    .dataframe tbody tr th {\n",
              "        vertical-align: top;\n",
              "    }\n",
              "\n",
              "    .dataframe thead th {\n",
              "        text-align: right;\n",
              "    }\n",
              "</style>\n",
              "<table border=\"1\" class=\"dataframe\">\n",
              "  <thead>\n",
              "    <tr style=\"text-align: right;\">\n",
              "      <th></th>\n",
              "      <th>Age</th>\n",
              "      <th>YearsExperience</th>\n",
              "      <th>Years of Education</th>\n",
              "      <th>QYears of Education</th>\n",
              "      <th>CombinedParameter</th>\n",
              "      <th>Salary</th>\n",
              "      <th>Predicted Salary Using Sklearn method</th>\n",
              "      <th>Prediction Error Using Sklearn method</th>\n",
              "    </tr>\n",
              "  </thead>\n",
              "  <tbody>\n",
              "    <tr>\n",
              "      <th>0</th>\n",
              "      <td>63</td>\n",
              "      <td>13.703036</td>\n",
              "      <td>4</td>\n",
              "      <td>16</td>\n",
              "      <td>306.812145</td>\n",
              "      <td>50315.750393</td>\n",
              "      <td>77439.297955</td>\n",
              "      <td>-27123.547562</td>\n",
              "    </tr>\n",
              "    <tr>\n",
              "      <th>1</th>\n",
              "      <td>61</td>\n",
              "      <td>17.440310</td>\n",
              "      <td>9</td>\n",
              "      <td>81</td>\n",
              "      <td>705.962789</td>\n",
              "      <td>68427.951072</td>\n",
              "      <td>76717.338787</td>\n",
              "      <td>-8289.387714</td>\n",
              "    </tr>\n",
              "    <tr>\n",
              "      <th>2</th>\n",
              "      <td>62</td>\n",
              "      <td>13.864240</td>\n",
              "      <td>3</td>\n",
              "      <td>9</td>\n",
              "      <td>227.592719</td>\n",
              "      <td>62002.842940</td>\n",
              "      <td>77078.318371</td>\n",
              "      <td>-15075.475430</td>\n",
              "    </tr>\n",
              "    <tr>\n",
              "      <th>3</th>\n",
              "      <td>61</td>\n",
              "      <td>19.739764</td>\n",
              "      <td>9</td>\n",
              "      <td>81</td>\n",
              "      <td>726.657874</td>\n",
              "      <td>53677.498267</td>\n",
              "      <td>76717.338787</td>\n",
              "      <td>-23039.840520</td>\n",
              "    </tr>\n",
              "    <tr>\n",
              "      <th>4</th>\n",
              "      <td>51</td>\n",
              "      <td>17.875034</td>\n",
              "      <td>4</td>\n",
              "      <td>16</td>\n",
              "      <td>275.500135</td>\n",
              "      <td>71662.599810</td>\n",
              "      <td>73107.542946</td>\n",
              "      <td>-1444.943136</td>\n",
              "    </tr>\n",
              "  </tbody>\n",
              "</table>\n",
              "</div>\n",
              "      <button class=\"colab-df-convert\" onclick=\"convertToInteractive('df-73ef6e2d-c550-4997-826f-bdc8d326300b')\"\n",
              "              title=\"Convert this dataframe to an interactive table.\"\n",
              "              style=\"display:none;\">\n",
              "        \n",
              "  <svg xmlns=\"http://www.w3.org/2000/svg\" height=\"24px\"viewBox=\"0 0 24 24\"\n",
              "       width=\"24px\">\n",
              "    <path d=\"M0 0h24v24H0V0z\" fill=\"none\"/>\n",
              "    <path d=\"M18.56 5.44l.94 2.06.94-2.06 2.06-.94-2.06-.94-.94-2.06-.94 2.06-2.06.94zm-11 1L8.5 8.5l.94-2.06 2.06-.94-2.06-.94L8.5 2.5l-.94 2.06-2.06.94zm10 10l.94 2.06.94-2.06 2.06-.94-2.06-.94-.94-2.06-.94 2.06-2.06.94z\"/><path d=\"M17.41 7.96l-1.37-1.37c-.4-.4-.92-.59-1.43-.59-.52 0-1.04.2-1.43.59L10.3 9.45l-7.72 7.72c-.78.78-.78 2.05 0 2.83L4 21.41c.39.39.9.59 1.41.59.51 0 1.02-.2 1.41-.59l7.78-7.78 2.81-2.81c.8-.78.8-2.07 0-2.86zM5.41 20L4 18.59l7.72-7.72 1.47 1.35L5.41 20z\"/>\n",
              "  </svg>\n",
              "      </button>\n",
              "      \n",
              "  <style>\n",
              "    .colab-df-container {\n",
              "      display:flex;\n",
              "      flex-wrap:wrap;\n",
              "      gap: 12px;\n",
              "    }\n",
              "\n",
              "    .colab-df-convert {\n",
              "      background-color: #E8F0FE;\n",
              "      border: none;\n",
              "      border-radius: 50%;\n",
              "      cursor: pointer;\n",
              "      display: none;\n",
              "      fill: #1967D2;\n",
              "      height: 32px;\n",
              "      padding: 0 0 0 0;\n",
              "      width: 32px;\n",
              "    }\n",
              "\n",
              "    .colab-df-convert:hover {\n",
              "      background-color: #E2EBFA;\n",
              "      box-shadow: 0px 1px 2px rgba(60, 64, 67, 0.3), 0px 1px 3px 1px rgba(60, 64, 67, 0.15);\n",
              "      fill: #174EA6;\n",
              "    }\n",
              "\n",
              "    [theme=dark] .colab-df-convert {\n",
              "      background-color: #3B4455;\n",
              "      fill: #D2E3FC;\n",
              "    }\n",
              "\n",
              "    [theme=dark] .colab-df-convert:hover {\n",
              "      background-color: #434B5C;\n",
              "      box-shadow: 0px 1px 3px 1px rgba(0, 0, 0, 0.15);\n",
              "      filter: drop-shadow(0px 1px 2px rgba(0, 0, 0, 0.3));\n",
              "      fill: #FFFFFF;\n",
              "    }\n",
              "  </style>\n",
              "\n",
              "      <script>\n",
              "        const buttonEl =\n",
              "          document.querySelector('#df-73ef6e2d-c550-4997-826f-bdc8d326300b button.colab-df-convert');\n",
              "        buttonEl.style.display =\n",
              "          google.colab.kernel.accessAllowed ? 'block' : 'none';\n",
              "\n",
              "        async function convertToInteractive(key) {\n",
              "          const element = document.querySelector('#df-73ef6e2d-c550-4997-826f-bdc8d326300b');\n",
              "          const dataTable =\n",
              "            await google.colab.kernel.invokeFunction('convertToInteractive',\n",
              "                                                     [key], {});\n",
              "          if (!dataTable) return;\n",
              "\n",
              "          const docLinkHtml = 'Like what you see? Visit the ' +\n",
              "            '<a target=\"_blank\" href=https://colab.research.google.com/notebooks/data_table.ipynb>data table notebook</a>'\n",
              "            + ' to learn more about interactive tables.';\n",
              "          element.innerHTML = '';\n",
              "          dataTable['output_type'] = 'display_data';\n",
              "          await google.colab.output.renderOutput(dataTable, element);\n",
              "          const docLink = document.createElement('div');\n",
              "          docLink.innerHTML = docLinkHtml;\n",
              "          element.appendChild(docLink);\n",
              "        }\n",
              "      </script>\n",
              "    </div>\n",
              "  </div>\n",
              "  "
            ]
          },
          "metadata": {},
          "execution_count": 271
        }
      ],
      "source": [
        "# Creating a new column to place contents of the result variable\n",
        "Testset[\"Predicted Salary Using Sklearn method\"]= result\n",
        "Testset[\"Prediction Error Using Sklearn method\"] = Testset[\"Salary\"]-Testset[\"Predicted Salary Using Sklearn method\"]\n",
        "Testset.head()"
      ]
    },
    {
      "cell_type": "code",
      "execution_count": 272,
      "metadata": {
        "colab": {
          "base_uri": "https://localhost:8080/",
          "height": 312
        },
        "id": "EqCxXV1Hpz92",
        "outputId": "8850e709-99f6-41a7-b002-b94daa958278"
      },
      "outputs": [
        {
          "output_type": "execute_result",
          "data": {
            "text/plain": [
              "Text(0.5, 1.0, 'Linear Regression: Age vS Corresponding Salary ')"
            ]
          },
          "metadata": {},
          "execution_count": 272
        },
        {
          "output_type": "display_data",
          "data": {
            "text/plain": [
              "<Figure size 432x288 with 1 Axes>"
            ],
            "image/png": "[encoded data removed]"
          },
          "metadata": {
            "needs_background": "light"
          }
        }
      ],
      "source": [
        "plt.scatter(Testset[\"Age\"], Testset[\"Salary\"])\n",
        "plt.plot(Testset[\"Age\"],Testset[\"Predicted Salary Using Sklearn method\"], color=\"orange\")\n",
        "plt.ylabel(\"Salary\")\n",
        "plt.xlabel(\"Age\")\n",
        "plt.title(\"Linear Regression: Age vS Corresponding Salary \")"
      ]
    },
    {
      "cell_type": "code",
      "execution_count": 273,
      "metadata": {
        "id": "xyIVoYreq3dH"
      },
      "outputs": [],
      "source": [
        "m=lm.coef_"
      ]
    },
    {
      "cell_type": "code",
      "execution_count": 274,
      "metadata": {
        "id": "2vKSTEQEq6UU"
      },
      "outputs": [],
      "source": [
        "b=lm.intercept_"
      ]
    },
    {
      "cell_type": "code",
      "execution_count": 275,
      "metadata": {
        "colab": {
          "base_uri": "https://localhost:8080/"
        },
        "id": "Mfik9PuDrAiM",
        "outputId": "53a12330-eb3c-43bf-9bd9-a45c95d4d8bd"
      },
      "outputs": [
        {
          "output_type": "execute_result",
          "data": {
            "text/plain": [
              "array([[57224.44124916]])"
            ]
          },
          "metadata": {},
          "execution_count": 275
        }
      ],
      "source": [
        "#Testing for 7 years of experience\n",
        "Salary = b + m * 7\n",
        "Salary"
      ]
    },
    {
      "cell_type": "code",
      "execution_count": 276,
      "metadata": {
        "colab": {
          "base_uri": "https://localhost:8080/"
        },
        "id": "cOZBSt_irH-y",
        "outputId": "b35b4609-934b-4c6a-c21d-e83dedc87f78"
      },
      "outputs": [
        {
          "output_type": "stream",
          "name": "stderr",
          "text": [
            "/usr/local/lib/python3.7/dist-packages/sklearn/base.py:451: UserWarning: X does not have valid feature names, but LinearRegression was fitted with feature names\n",
            "  \"X does not have valid feature names, but\"\n"
          ]
        },
        {
          "output_type": "execute_result",
          "data": {
            "text/plain": [
              "array([[57224.44124916]])"
            ]
          },
          "metadata": {},
          "execution_count": 276
        }
      ],
      "source": [
        "lm.predict([[7]])"
      ]
    },
    {
      "cell_type": "code",
      "source": [
        "assert Salary == lm.predict([[7]])"
      ],
      "metadata": {
        "colab": {
          "base_uri": "https://localhost:8080/"
        },
        "id": "dhU5WROKOnvS",
        "outputId": "bfa0fcf2-696c-43a7-e672-2eb5f383cf28"
      },
      "execution_count": 277,
      "outputs": [
        {
          "output_type": "stream",
          "name": "stderr",
          "text": [
            "/usr/local/lib/python3.7/dist-packages/sklearn/base.py:451: UserWarning: X does not have valid feature names, but LinearRegression was fitted with feature names\n",
            "  \"X does not have valid feature names, but\"\n"
          ]
        }
      ]
    },
    {
      "cell_type": "markdown",
      "source": [
        "YEARS OF EDUCATION VS SALARY"
      ],
      "metadata": {
        "id": "97IQhS-s5fFi"
      }
    },
    {
      "cell_type": "code",
      "source": [
        "sns.scatterplot(data=Testset, x=\"Years of Education\",y=\"Salary\")"
      ],
      "metadata": {
        "colab": {
          "base_uri": "https://localhost:8080/",
          "height": 296
        },
        "id": "gut-djL05ixa",
        "outputId": "14b43d6f-0a1f-44e6-e724-02c976c01752"
      },
      "execution_count": 278,
      "outputs": [
        {
          "output_type": "execute_result",
          "data": {
            "text/plain": [
              "<matplotlib.axes._subplots.AxesSubplot at 0x7fb242a9be10>"
            ]
          },
          "metadata": {},
          "execution_count": 278
        },
        {
          "output_type": "display_data",
          "data": {
            "text/plain": [
              "<Figure size 432x288 with 1 Axes>"
            ],
            "image/png": "[encoded data removed]"
          },
          "metadata": {
            "needs_background": "light"
          }
        }
      ]
    },
    {
      "cell_type": "code",
      "source": [
        "# Conducting Linear Regression method and inserting data using the fit method\n",
        "# Fit function adjusts weights according to data values so that better accuracy can be achieved\n",
        "\n",
        "lm = linear_model.LinearRegression(). fit(Training[[\"Years of Education\"]],Training[[\"Salary\"]])\n",
        "# Using the predict method\n",
        "result=lm.predict (Testset[[\"Years of Education\"]])"
      ],
      "metadata": {
        "id": "hzKQu2F357Se"
      },
      "execution_count": 279,
      "outputs": []
    },
    {
      "cell_type": "code",
      "source": [
        "# Creating a new column to place contents of the result variable\n",
        "Testset[\"Predicted Salary Using Sklearn method\"]= result\n",
        "Testset[\"Prediction Error Using Sklearn method\"] = Testset[\"Salary\"]-Testset[\"Predicted Salary Using Sklearn method\"]\n",
        "Testset.head()"
      ],
      "metadata": {
        "colab": {
          "base_uri": "https://localhost:8080/",
          "height": 267
        },
        "id": "m9Mu9QCY6E4r",
        "outputId": "aa4d1031-2440-4a16-cfc4-4f0bca810134"
      },
      "execution_count": 280,
      "outputs": [
        {
          "output_type": "execute_result",
          "data": {
            "text/plain": [
              "   Age  YearsExperience  Years of Education  QYears of Education  \\\n",
              "0   63        13.703036                   4                   16   \n",
              "1   61        17.440310                   9                   81   \n",
              "2   62        13.864240                   3                    9   \n",
              "3   61        19.739764                   9                   81   \n",
              "4   51        17.875034                   4                   16   \n",
              "\n",
              "   CombinedParameter        Salary  Predicted Salary Using Sklearn method  \\\n",
              "0         306.812145  50315.750393                           76857.951077   \n",
              "1         705.962789  68427.951072                           73627.108569   \n",
              "2         227.592719  62002.842940                           77504.119578   \n",
              "3         726.657874  53677.498267                           73627.108569   \n",
              "4         275.500135  71662.599810                           76857.951077   \n",
              "\n",
              "   Prediction Error Using Sklearn method  \n",
              "0                          -26542.200684  \n",
              "1                           -5199.157496  \n",
              "2                          -15501.276638  \n",
              "3                          -19949.610302  \n",
              "4                           -5195.351267  "
            ],
            "text/html": [
              "\n",
              "  <div id=\"df-37cdb7a0-b375-44c9-b861-a8fbc0333c6c\">\n",
              "    <div class=\"colab-df-container\">\n",
              "      <div>\n",
              "<style scoped>\n",
              "    .dataframe tbody tr th:only-of-type {\n",
              "        vertical-align: middle;\n",
              "    }\n",
              "\n",
              "    .dataframe tbody tr th {\n",
              "        vertical-align: top;\n",
              "    }\n",
              "\n",
              "    .dataframe thead th {\n",
              "        text-align: right;\n",
              "    }\n",
              "</style>\n",
              "<table border=\"1\" class=\"dataframe\">\n",
              "  <thead>\n",
              "    <tr style=\"text-align: right;\">\n",
              "      <th></th>\n",
              "      <th>Age</th>\n",
              "      <th>YearsExperience</th>\n",
              "      <th>Years of Education</th>\n",
              "      <th>QYears of Education</th>\n",
              "      <th>CombinedParameter</th>\n",
              "      <th>Salary</th>\n",
              "      <th>Predicted Salary Using Sklearn method</th>\n",
              "      <th>Prediction Error Using Sklearn method</th>\n",
              "    </tr>\n",
              "  </thead>\n",
              "  <tbody>\n",
              "    <tr>\n",
              "      <th>0</th>\n",
              "      <td>63</td>\n",
              "      <td>13.703036</td>\n",
              "      <td>4</td>\n",
              "      <td>16</td>\n",
              "      <td>306.812145</td>\n",
              "      <td>50315.750393</td>\n",
              "      <td>76857.951077</td>\n",
              "      <td>-26542.200684</td>\n",
              "    </tr>\n",
              "    <tr>\n",
              "      <th>1</th>\n",
              "      <td>61</td>\n",
              "      <td>17.440310</td>\n",
              "      <td>9</td>\n",
              "      <td>81</td>\n",
              "      <td>705.962789</td>\n",
              "      <td>68427.951072</td>\n",
              "      <td>73627.108569</td>\n",
              "      <td>-5199.157496</td>\n",
              "    </tr>\n",
              "    <tr>\n",
              "      <th>2</th>\n",
              "      <td>62</td>\n",
              "      <td>13.864240</td>\n",
              "      <td>3</td>\n",
              "      <td>9</td>\n",
              "      <td>227.592719</td>\n",
              "      <td>62002.842940</td>\n",
              "      <td>77504.119578</td>\n",
              "      <td>-15501.276638</td>\n",
              "    </tr>\n",
              "    <tr>\n",
              "      <th>3</th>\n",
              "      <td>61</td>\n",
              "      <td>19.739764</td>\n",
              "      <td>9</td>\n",
              "      <td>81</td>\n",
              "      <td>726.657874</td>\n",
              "      <td>53677.498267</td>\n",
              "      <td>73627.108569</td>\n",
              "      <td>-19949.610302</td>\n",
              "    </tr>\n",
              "    <tr>\n",
              "      <th>4</th>\n",
              "      <td>51</td>\n",
              "      <td>17.875034</td>\n",
              "      <td>4</td>\n",
              "      <td>16</td>\n",
              "      <td>275.500135</td>\n",
              "      <td>71662.599810</td>\n",
              "      <td>76857.951077</td>\n",
              "      <td>-5195.351267</td>\n",
              "    </tr>\n",
              "  </tbody>\n",
              "</table>\n",
              "</div>\n",
              "      <button class=\"colab-df-convert\" onclick=\"convertToInteractive('df-37cdb7a0-b375-44c9-b861-a8fbc0333c6c')\"\n",
              "              title=\"Convert this dataframe to an interactive table.\"\n",
              "              style=\"display:none;\">\n",
              "        \n",
              "  <svg xmlns=\"http://www.w3.org/2000/svg\" height=\"24px\"viewBox=\"0 0 24 24\"\n",
              "       width=\"24px\">\n",
              "    <path d=\"M0 0h24v24H0V0z\" fill=\"none\"/>\n",
              "    <path d=\"M18.56 5.44l.94 2.06.94-2.06 2.06-.94-2.06-.94-.94-2.06-.94 2.06-2.06.94zm-11 1L8.5 8.5l.94-2.06 2.06-.94-2.06-.94L8.5 2.5l-.94 2.06-2.06.94zm10 10l.94 2.06.94-2.06 2.06-.94-2.06-.94-.94-2.06-.94 2.06-2.06.94z\"/><path d=\"M17.41 7.96l-1.37-1.37c-.4-.4-.92-.59-1.43-.59-.52 0-1.04.2-1.43.59L10.3 9.45l-7.72 7.72c-.78.78-.78 2.05 0 2.83L4 21.41c.39.39.9.59 1.41.59.51 0 1.02-.2 1.41-.59l7.78-7.78 2.81-2.81c.8-.78.8-2.07 0-2.86zM5.41 20L4 18.59l7.72-7.72 1.47 1.35L5.41 20z\"/>\n",
              "  </svg>\n",
              "      </button>\n",
              "      \n",
              "  <style>\n",
              "    .colab-df-container {\n",
              "      display:flex;\n",
              "      flex-wrap:wrap;\n",
              "      gap: 12px;\n",
              "    }\n",
              "\n",
              "    .colab-df-convert {\n",
              "      background-color: #E8F0FE;\n",
              "      border: none;\n",
              "      border-radius: 50%;\n",
              "      cursor: pointer;\n",
              "      display: none;\n",
              "      fill: #1967D2;\n",
              "      height: 32px;\n",
              "      padding: 0 0 0 0;\n",
              "      width: 32px;\n",
              "    }\n",
              "\n",
              "    .colab-df-convert:hover {\n",
              "      background-color: #E2EBFA;\n",
              "      box-shadow: 0px 1px 2px rgba(60, 64, 67, 0.3), 0px 1px 3px 1px rgba(60, 64, 67, 0.15);\n",
              "      fill: #174EA6;\n",
              "    }\n",
              "\n",
              "    [theme=dark] .colab-df-convert {\n",
              "      background-color: #3B4455;\n",
              "      fill: #D2E3FC;\n",
              "    }\n",
              "\n",
              "    [theme=dark] .colab-df-convert:hover {\n",
              "      background-color: #434B5C;\n",
              "      box-shadow: 0px 1px 3px 1px rgba(0, 0, 0, 0.15);\n",
              "      filter: drop-shadow(0px 1px 2px rgba(0, 0, 0, 0.3));\n",
              "      fill: #FFFFFF;\n",
              "    }\n",
              "  </style>\n",
              "\n",
              "      <script>\n",
              "        const buttonEl =\n",
              "          document.querySelector('#df-37cdb7a0-b375-44c9-b861-a8fbc0333c6c button.colab-df-convert');\n",
              "        buttonEl.style.display =\n",
              "          google.colab.kernel.accessAllowed ? 'block' : 'none';\n",
              "\n",
              "        async function convertToInteractive(key) {\n",
              "          const element = document.querySelector('#df-37cdb7a0-b375-44c9-b861-a8fbc0333c6c');\n",
              "          const dataTable =\n",
              "            await google.colab.kernel.invokeFunction('convertToInteractive',\n",
              "                                                     [key], {});\n",
              "          if (!dataTable) return;\n",
              "\n",
              "          const docLinkHtml = 'Like what you see? Visit the ' +\n",
              "            '<a target=\"_blank\" href=https://colab.research.google.com/notebooks/data_table.ipynb>data table notebook</a>'\n",
              "            + ' to learn more about interactive tables.';\n",
              "          element.innerHTML = '';\n",
              "          dataTable['output_type'] = 'display_data';\n",
              "          await google.colab.output.renderOutput(dataTable, element);\n",
              "          const docLink = document.createElement('div');\n",
              "          docLink.innerHTML = docLinkHtml;\n",
              "          element.appendChild(docLink);\n",
              "        }\n",
              "      </script>\n",
              "    </div>\n",
              "  </div>\n",
              "  "
            ]
          },
          "metadata": {},
          "execution_count": 280
        }
      ]
    },
    {
      "cell_type": "code",
      "source": [
        "plt.scatter(Testset[\"Years of Education\"], Testset[\"Salary\"])\n",
        "plt.plot(Testset[\"Years of Education\"],Testset[\"Predicted Salary Using Sklearn method\"], color=\"violet\")\n",
        "plt.ylabel(\"Salary\")\n",
        "plt.xlabel(\"Years of Education\")\n",
        "plt.title(\"Linear Regression: Years of Education vS Corresponding Salary \")"
      ],
      "metadata": {
        "colab": {
          "base_uri": "https://localhost:8080/",
          "height": 312
        },
        "id": "7-YV6GWC6Lrn",
        "outputId": "9e996899-5d5d-4778-8b03-4294c22ef891"
      },
      "execution_count": 281,
      "outputs": [
        {
          "output_type": "execute_result",
          "data": {
            "text/plain": [
              "Text(0.5, 1.0, 'Linear Regression: Years of Education vS Corresponding Salary ')"
            ]
          },
          "metadata": {},
          "execution_count": 281
        },
        {
          "output_type": "display_data",
          "data": {
            "text/plain": [
              "<Figure size 432x288 with 1 Axes>"
            ],
            "image/png": "[encoded data removed]"
          },
          "metadata": {
            "needs_background": "light"
          }
        }
      ]
    },
    {
      "cell_type": "code",
      "source": [
        "m=lm.coef_"
      ],
      "metadata": {
        "id": "8b-4VYsI6U_r"
      },
      "execution_count": 282,
      "outputs": []
    },
    {
      "cell_type": "code",
      "source": [
        "b=lm.intercept_\n"
      ],
      "metadata": {
        "id": "T3RVXXfC6YQ4"
      },
      "execution_count": 283,
      "outputs": []
    },
    {
      "cell_type": "code",
      "source": [
        "#Testing for 7 years of education\n",
        "Salary = b + m * 7\n",
        "Salary"
      ],
      "metadata": {
        "colab": {
          "base_uri": "https://localhost:8080/"
        },
        "id": "boqYafPB6cwz",
        "outputId": "ea16140e-883a-4a98-ac80-95d4ae920b69"
      },
      "execution_count": 284,
      "outputs": [
        {
          "output_type": "execute_result",
          "data": {
            "text/plain": [
              "array([[74919.44557195]])"
            ]
          },
          "metadata": {},
          "execution_count": 284
        }
      ]
    },
    {
      "cell_type": "code",
      "source": [
        "lm.predict([[7]])"
      ],
      "metadata": {
        "id": "-PxfafgQ6leG",
        "outputId": "58744e5e-3f4b-4ae2-a543-ef59f6888c04",
        "colab": {
          "base_uri": "https://localhost:8080/"
        }
      },
      "execution_count": 285,
      "outputs": [
        {
          "output_type": "stream",
          "name": "stderr",
          "text": [
            "/usr/local/lib/python3.7/dist-packages/sklearn/base.py:451: UserWarning: X does not have valid feature names, but LinearRegression was fitted with feature names\n",
            "  \"X does not have valid feature names, but\"\n"
          ]
        },
        {
          "output_type": "execute_result",
          "data": {
            "text/plain": [
              "array([[74919.44557195]])"
            ]
          },
          "metadata": {},
          "execution_count": 285
        }
      ]
    },
    {
      "cell_type": "code",
      "source": [
        "assert Salary == lm.predict([[7]])"
      ],
      "metadata": {
        "colab": {
          "base_uri": "https://localhost:8080/"
        },
        "id": "El_sKe8SOv2t",
        "outputId": "5944e7e2-6931-4dc8-d827-aae4a1993926"
      },
      "execution_count": 286,
      "outputs": [
        {
          "output_type": "stream",
          "name": "stderr",
          "text": [
            "/usr/local/lib/python3.7/dist-packages/sklearn/base.py:451: UserWarning: X does not have valid feature names, but LinearRegression was fitted with feature names\n",
            "  \"X does not have valid feature names, but\"\n"
          ]
        }
      ]
    },
    {
      "cell_type": "markdown",
      "source": [
        "THREE PARAMETERS VS SALARY\n"
      ],
      "metadata": {
        "id": "AobDEdPhQ56I"
      }
    },
    {
      "cell_type": "code",
      "source": [
        "sns.scatterplot(data=Testset, x=\"CombinedParameter\",y=\"Salary\")"
      ],
      "metadata": {
        "id": "_7SsDxGnRAyz",
        "colab": {
          "base_uri": "https://localhost:8080/",
          "height": 296
        },
        "outputId": "2b69b085-7874-4b45-915f-65806f2c67a4"
      },
      "execution_count": 287,
      "outputs": [
        {
          "output_type": "execute_result",
          "data": {
            "text/plain": [
              "<matplotlib.axes._subplots.AxesSubplot at 0x7fb242a04ad0>"
            ]
          },
          "metadata": {},
          "execution_count": 287
        },
        {
          "output_type": "display_data",
          "data": {
            "text/plain": [
              "<Figure size 432x288 with 1 Axes>"
            ],
            "image/png": "[encoded data removed]"
          },
          "metadata": {
            "needs_background": "light"
          }
        }
      ]
    },
    {
      "cell_type": "code",
      "source": [
        "# Conducting Linear Regression method and inserting data using the fit method\n",
        "# Fit function adjusts weights according to data values so that better accuracy can be achieved\n",
        "\n",
        "lm = linear_model.LinearRegression(). fit(Training[[\"CombinedParameter\"]],Training[[\"Salary\"]])\n",
        "# Using the predict method\n",
        "result=lm.predict (Testset[[\"CombinedParameter\"]])"
      ],
      "metadata": {
        "id": "Z_wc2KLcSjYR"
      },
      "execution_count": 288,
      "outputs": []
    },
    {
      "cell_type": "code",
      "source": [
        "# Creating a new column to place contents of the result variable\n",
        "Testset[\"Predicted Salary Using Sklearn method\"]= result\n",
        "Testset[\"Prediction Error Using Sklearn method\"] = Testset[\"Salary\"]-Testset[\"Predicted Salary Using Sklearn method\"]\n",
        "Testset.head()"
      ],
      "metadata": {
        "colab": {
          "base_uri": "https://localhost:8080/",
          "height": 267
        },
        "id": "Jiu9LOuASu5G",
        "outputId": "5e2f8a43-342b-494d-f72b-75d4f69a1fbf"
      },
      "execution_count": 289,
      "outputs": [
        {
          "output_type": "execute_result",
          "data": {
            "text/plain": [
              "   Age  YearsExperience  Years of Education  QYears of Education  \\\n",
              "0   63        13.703036                   4                   16   \n",
              "1   61        17.440310                   9                   81   \n",
              "2   62        13.864240                   3                    9   \n",
              "3   61        19.739764                   9                   81   \n",
              "4   51        17.875034                   4                   16   \n",
              "\n",
              "   CombinedParameter        Salary  Predicted Salary Using Sklearn method  \\\n",
              "0         306.812145  50315.750393                           76429.452842   \n",
              "1         705.962789  68427.951072                           73928.385856   \n",
              "2         227.592719  62002.842940                           76925.839592   \n",
              "3         726.657874  53677.498267                           73798.711023   \n",
              "4         275.500135  71662.599810                           76625.653039   \n",
              "\n",
              "   Prediction Error Using Sklearn method  \n",
              "0                          -26113.702450  \n",
              "1                           -5500.434784  \n",
              "2                          -14922.996651  \n",
              "3                          -20121.212756  \n",
              "4                           -4963.053229  "
            ],
            "text/html": [
              "\n",
              "  <div id=\"df-a40b251d-cc9f-4835-8bcd-389308c7c7d7\">\n",
              "    <div class=\"colab-df-container\">\n",
              "      <div>\n",
              "<style scoped>\n",
              "    .dataframe tbody tr th:only-of-type {\n",
              "        vertical-align: middle;\n",
              "    }\n",
              "\n",
              "    .dataframe tbody tr th {\n",
              "        vertical-align: top;\n",
              "    }\n",
              "\n",
              "    .dataframe thead th {\n",
              "        text-align: right;\n",
              "    }\n",
              "</style>\n",
              "<table border=\"1\" class=\"dataframe\">\n",
              "  <thead>\n",
              "    <tr style=\"text-align: right;\">\n",
              "      <th></th>\n",
              "      <th>Age</th>\n",
              "      <th>YearsExperience</th>\n",
              "      <th>Years of Education</th>\n",
              "      <th>QYears of Education</th>\n",
              "      <th>CombinedParameter</th>\n",
              "      <th>Salary</th>\n",
              "      <th>Predicted Salary Using Sklearn method</th>\n",
              "      <th>Prediction Error Using Sklearn method</th>\n",
              "    </tr>\n",
              "  </thead>\n",
              "  <tbody>\n",
              "    <tr>\n",
              "      <th>0</th>\n",
              "      <td>63</td>\n",
              "      <td>13.703036</td>\n",
              "      <td>4</td>\n",
              "      <td>16</td>\n",
              "      <td>306.812145</td>\n",
              "      <td>50315.750393</td>\n",
              "      <td>76429.452842</td>\n",
              "      <td>-26113.702450</td>\n",
              "    </tr>\n",
              "    <tr>\n",
              "      <th>1</th>\n",
              "      <td>61</td>\n",
              "      <td>17.440310</td>\n",
              "      <td>9</td>\n",
              "      <td>81</td>\n",
              "      <td>705.962789</td>\n",
              "      <td>68427.951072</td>\n",
              "      <td>73928.385856</td>\n",
              "      <td>-5500.434784</td>\n",
              "    </tr>\n",
              "    <tr>\n",
              "      <th>2</th>\n",
              "      <td>62</td>\n",
              "      <td>13.864240</td>\n",
              "      <td>3</td>\n",
              "      <td>9</td>\n",
              "      <td>227.592719</td>\n",
              "      <td>62002.842940</td>\n",
              "      <td>76925.839592</td>\n",
              "      <td>-14922.996651</td>\n",
              "    </tr>\n",
              "    <tr>\n",
              "      <th>3</th>\n",
              "      <td>61</td>\n",
              "      <td>19.739764</td>\n",
              "      <td>9</td>\n",
              "      <td>81</td>\n",
              "      <td>726.657874</td>\n",
              "      <td>53677.498267</td>\n",
              "      <td>73798.711023</td>\n",
              "      <td>-20121.212756</td>\n",
              "    </tr>\n",
              "    <tr>\n",
              "      <th>4</th>\n",
              "      <td>51</td>\n",
              "      <td>17.875034</td>\n",
              "      <td>4</td>\n",
              "      <td>16</td>\n",
              "      <td>275.500135</td>\n",
              "      <td>71662.599810</td>\n",
              "      <td>76625.653039</td>\n",
              "      <td>-4963.053229</td>\n",
              "    </tr>\n",
              "  </tbody>\n",
              "</table>\n",
              "</div>\n",
              "      <button class=\"colab-df-convert\" onclick=\"convertToInteractive('df-a40b251d-cc9f-4835-8bcd-389308c7c7d7')\"\n",
              "              title=\"Convert this dataframe to an interactive table.\"\n",
              "              style=\"display:none;\">\n",
              "        \n",
              "  <svg xmlns=\"http://www.w3.org/2000/svg\" height=\"24px\"viewBox=\"0 0 24 24\"\n",
              "       width=\"24px\">\n",
              "    <path d=\"M0 0h24v24H0V0z\" fill=\"none\"/>\n",
              "    <path d=\"M18.56 5.44l.94 2.06.94-2.06 2.06-.94-2.06-.94-.94-2.06-.94 2.06-2.06.94zm-11 1L8.5 8.5l.94-2.06 2.06-.94-2.06-.94L8.5 2.5l-.94 2.06-2.06.94zm10 10l.94 2.06.94-2.06 2.06-.94-2.06-.94-.94-2.06-.94 2.06-2.06.94z\"/><path d=\"M17.41 7.96l-1.37-1.37c-.4-.4-.92-.59-1.43-.59-.52 0-1.04.2-1.43.59L10.3 9.45l-7.72 7.72c-.78.78-.78 2.05 0 2.83L4 21.41c.39.39.9.59 1.41.59.51 0 1.02-.2 1.41-.59l7.78-7.78 2.81-2.81c.8-.78.8-2.07 0-2.86zM5.41 20L4 18.59l7.72-7.72 1.47 1.35L5.41 20z\"/>\n",
              "  </svg>\n",
              "      </button>\n",
              "      \n",
              "  <style>\n",
              "    .colab-df-container {\n",
              "      display:flex;\n",
              "      flex-wrap:wrap;\n",
              "      gap: 12px;\n",
              "    }\n",
              "\n",
              "    .colab-df-convert {\n",
              "      background-color: #E8F0FE;\n",
              "      border: none;\n",
              "      border-radius: 50%;\n",
              "      cursor: pointer;\n",
              "      display: none;\n",
              "      fill: #1967D2;\n",
              "      height: 32px;\n",
              "      padding: 0 0 0 0;\n",
              "      width: 32px;\n",
              "    }\n",
              "\n",
              "    .colab-df-convert:hover {\n",
              "      background-color: #E2EBFA;\n",
              "      box-shadow: 0px 1px 2px rgba(60, 64, 67, 0.3), 0px 1px 3px 1px rgba(60, 64, 67, 0.15);\n",
              "      fill: #174EA6;\n",
              "    }\n",
              "\n",
              "    [theme=dark] .colab-df-convert {\n",
              "      background-color: #3B4455;\n",
              "      fill: #D2E3FC;\n",
              "    }\n",
              "\n",
              "    [theme=dark] .colab-df-convert:hover {\n",
              "      background-color: #434B5C;\n",
              "      box-shadow: 0px 1px 3px 1px rgba(0, 0, 0, 0.15);\n",
              "      filter: drop-shadow(0px 1px 2px rgba(0, 0, 0, 0.3));\n",
              "      fill: #FFFFFF;\n",
              "    }\n",
              "  </style>\n",
              "\n",
              "      <script>\n",
              "        const buttonEl =\n",
              "          document.querySelector('#df-a40b251d-cc9f-4835-8bcd-389308c7c7d7 button.colab-df-convert');\n",
              "        buttonEl.style.display =\n",
              "          google.colab.kernel.accessAllowed ? 'block' : 'none';\n",
              "\n",
              "        async function convertToInteractive(key) {\n",
              "          const element = document.querySelector('#df-a40b251d-cc9f-4835-8bcd-389308c7c7d7');\n",
              "          const dataTable =\n",
              "            await google.colab.kernel.invokeFunction('convertToInteractive',\n",
              "                                                     [key], {});\n",
              "          if (!dataTable) return;\n",
              "\n",
              "          const docLinkHtml = 'Like what you see? Visit the ' +\n",
              "            '<a target=\"_blank\" href=https://colab.research.google.com/notebooks/data_table.ipynb>data table notebook</a>'\n",
              "            + ' to learn more about interactive tables.';\n",
              "          element.innerHTML = '';\n",
              "          dataTable['output_type'] = 'display_data';\n",
              "          await google.colab.output.renderOutput(dataTable, element);\n",
              "          const docLink = document.createElement('div');\n",
              "          docLink.innerHTML = docLinkHtml;\n",
              "          element.appendChild(docLink);\n",
              "        }\n",
              "      </script>\n",
              "    </div>\n",
              "  </div>\n",
              "  "
            ]
          },
          "metadata": {},
          "execution_count": 289
        }
      ]
    },
    {
      "cell_type": "code",
      "source": [
        "plt.scatter(Testset[\"CombinedParameter\"], Testset[\"Salary\"])\n",
        "plt.plot(Testset[\"CombinedParameter\"],Testset[\"Predicted Salary Using Sklearn method\"], color=\"violet\")\n",
        "plt.ylabel(\"Salary\")\n",
        "plt.xlabel(\"Combined Parameters\")\n",
        "plt.title(\"Linear Regression: Combined Parameters vS Corresponding Salary \")"
      ],
      "metadata": {
        "colab": {
          "base_uri": "https://localhost:8080/",
          "height": 312
        },
        "id": "VfNzF5AfS6Ea",
        "outputId": "dec92390-f2cc-4a79-fc93-b9b0fb3d0931"
      },
      "execution_count": 290,
      "outputs": [
        {
          "output_type": "execute_result",
          "data": {
            "text/plain": [
              "Text(0.5, 1.0, 'Linear Regression: Combined Parameters vS Corresponding Salary ')"
            ]
          },
          "metadata": {},
          "execution_count": 290
        },
        {
          "output_type": "display_data",
          "data": {
            "text/plain": [
              "<Figure size 432x288 with 1 Axes>"
            ],
            "image/png": "[encoded data removed]"
          },
          "metadata": {
            "needs_background": "light"
          }
        }
      ]
    },
    {
      "cell_type": "code",
      "source": [
        "m=lm.coef_"
      ],
      "metadata": {
        "id": "n4kFMoHcTOBh"
      },
      "execution_count": 291,
      "outputs": []
    },
    {
      "cell_type": "code",
      "source": [
        "b=lm.intercept_"
      ],
      "metadata": {
        "id": "zWw23MkqTSEm"
      },
      "execution_count": 292,
      "outputs": []
    },
    {
      "cell_type": "code",
      "source": [
        "#Testing for 7 years of education\n",
        "Salary = b + m * 7\n",
        "Salary"
      ],
      "metadata": {
        "colab": {
          "base_uri": "https://localhost:8080/"
        },
        "id": "T_xbMfwjTUhL",
        "outputId": "d9a5e7ae-f0f0-4f80-e5b2-1b4460676bb4"
      },
      "execution_count": 293,
      "outputs": [
        {
          "output_type": "execute_result",
          "data": {
            "text/plain": [
              "array([[78308.06752127]])"
            ]
          },
          "metadata": {},
          "execution_count": 293
        }
      ]
    },
    {
      "cell_type": "code",
      "source": [
        "lm.predict([[7]])"
      ],
      "metadata": {
        "colab": {
          "base_uri": "https://localhost:8080/"
        },
        "id": "3bSNTsNETXp-",
        "outputId": "5c714380-4479-4c60-b2a3-204e96a78fd7"
      },
      "execution_count": 294,
      "outputs": [
        {
          "output_type": "stream",
          "name": "stderr",
          "text": [
            "/usr/local/lib/python3.7/dist-packages/sklearn/base.py:451: UserWarning: X does not have valid feature names, but LinearRegression was fitted with feature names\n",
            "  \"X does not have valid feature names, but\"\n"
          ]
        },
        {
          "output_type": "execute_result",
          "data": {
            "text/plain": [
              "array([[78308.06752127]])"
            ]
          },
          "metadata": {},
          "execution_count": 294
        }
      ]
    },
    {
      "cell_type": "code",
      "source": [
        "assert Salary == lm.predict([[7]])"
      ],
      "metadata": {
        "colab": {
          "base_uri": "https://localhost:8080/"
        },
        "id": "VUlJjmCqTcck",
        "outputId": "aacdb658-e899-4377-fbad-c6f321402e31"
      },
      "execution_count": 295,
      "outputs": [
        {
          "output_type": "stream",
          "name": "stderr",
          "text": [
            "/usr/local/lib/python3.7/dist-packages/sklearn/base.py:451: UserWarning: X does not have valid feature names, but LinearRegression was fitted with feature names\n",
            "  \"X does not have valid feature names, but\"\n"
          ]
        }
      ]
    },
    {
      "cell_type": "markdown",
      "source": [
        "QUADRATIC YEARS OF EDUCATION VS SALARY\n"
      ],
      "metadata": {
        "id": "rE7TVUxnUHRp"
      }
    },
    {
      "cell_type": "code",
      "source": [
        "sns.scatterplot(data=Testset, x=\"QYears of Education\",y=\"Salary\")"
      ],
      "metadata": {
        "colab": {
          "base_uri": "https://localhost:8080/",
          "height": 296
        },
        "id": "F6-Ke-eHUcpT",
        "outputId": "5e3f4e9e-9a44-4c63-b035-63edf7215950"
      },
      "execution_count": 296,
      "outputs": [
        {
          "output_type": "execute_result",
          "data": {
            "text/plain": [
              "<matplotlib.axes._subplots.AxesSubplot at 0x7fb242910c10>"
            ]
          },
          "metadata": {},
          "execution_count": 296
        },
        {
          "output_type": "display_data",
          "data": {
            "text/plain": [
              "<Figure size 432x288 with 1 Axes>"
            ],
            "image/png": "[encoded data removed]"
          },
          "metadata": {
            "needs_background": "light"
          }
        }
      ]
    },
    {
      "cell_type": "code",
      "source": [
        "# Conducting Linear Regression method and inserting data using the fit method\n",
        "# Fit function adjusts weights according to data values so that better accuracy can be achieved\n",
        "\n",
        "lm = linear_model.LinearRegression(). fit(Training[[\"QYears of Education\"]],Training[[\"Salary\"]])\n",
        "# Using the predict method\n",
        "result=lm.predict (Testset[[\"QYears of Education\"]])"
      ],
      "metadata": {
        "id": "bS3unTVFUm76"
      },
      "execution_count": 297,
      "outputs": []
    },
    {
      "cell_type": "code",
      "source": [
        "# Creating a new column to place contents of the result variable\n",
        "Testset[\"Predicted Salary Using Sklearn method\"]= result\n",
        "Testset[\"Prediction Error Using Sklearn method\"] = Testset[\"Salary\"]-Testset[\"Predicted Salary Using Sklearn method\"]\n",
        "Testset.head()"
      ],
      "metadata": {
        "colab": {
          "base_uri": "https://localhost:8080/",
          "height": 267
        },
        "id": "3LNfjdyoUskH",
        "outputId": "582c5813-aa58-4ae3-df85-6a6b5b70d91c"
      },
      "execution_count": 298,
      "outputs": [
        {
          "output_type": "execute_result",
          "data": {
            "text/plain": [
              "   Age  YearsExperience  Years of Education  QYears of Education  \\\n",
              "0   63        13.703036                   4                   16   \n",
              "1   61        17.440310                   9                   81   \n",
              "2   62        13.864240                   3                    9   \n",
              "3   61        19.739764                   9                   81   \n",
              "4   51        17.875034                   4                   16   \n",
              "\n",
              "   CombinedParameter        Salary  Predicted Salary Using Sklearn method  \\\n",
              "0         306.812145  50315.750393                           76713.141462   \n",
              "1         705.962789  68427.951072                           73612.573024   \n",
              "2         227.592719  62002.842940                           77047.048832   \n",
              "3         726.657874  53677.498267                           73612.573024   \n",
              "4         275.500135  71662.599810                           76713.141462   \n",
              "\n",
              "   Prediction Error Using Sklearn method  \n",
              "0                          -26397.391069  \n",
              "1                           -5184.621951  \n",
              "2                          -15044.205892  \n",
              "3                          -19935.074757  \n",
              "4                           -5050.541652  "
            ],
            "text/html": [
              "\n",
              "  <div id=\"df-87676fd8-769d-4adf-8524-93230a8f3fdd\">\n",
              "    <div class=\"colab-df-container\">\n",
              "      <div>\n",
              "<style scoped>\n",
              "    .dataframe tbody tr th:only-of-type {\n",
              "        vertical-align: middle;\n",
              "    }\n",
              "\n",
              "    .dataframe tbody tr th {\n",
              "        vertical-align: top;\n",
              "    }\n",
              "\n",
              "    .dataframe thead th {\n",
              "        text-align: right;\n",
              "    }\n",
              "</style>\n",
              "<table border=\"1\" class=\"dataframe\">\n",
              "  <thead>\n",
              "    <tr style=\"text-align: right;\">\n",
              "      <th></th>\n",
              "      <th>Age</th>\n",
              "      <th>YearsExperience</th>\n",
              "      <th>Years of Education</th>\n",
              "      <th>QYears of Education</th>\n",
              "      <th>CombinedParameter</th>\n",
              "      <th>Salary</th>\n",
              "      <th>Predicted Salary Using Sklearn method</th>\n",
              "      <th>Prediction Error Using Sklearn method</th>\n",
              "    </tr>\n",
              "  </thead>\n",
              "  <tbody>\n",
              "    <tr>\n",
              "      <th>0</th>\n",
              "      <td>63</td>\n",
              "      <td>13.703036</td>\n",
              "      <td>4</td>\n",
              "      <td>16</td>\n",
              "      <td>306.812145</td>\n",
              "      <td>50315.750393</td>\n",
              "      <td>76713.141462</td>\n",
              "      <td>-26397.391069</td>\n",
              "    </tr>\n",
              "    <tr>\n",
              "      <th>1</th>\n",
              "      <td>61</td>\n",
              "      <td>17.440310</td>\n",
              "      <td>9</td>\n",
              "      <td>81</td>\n",
              "      <td>705.962789</td>\n",
              "      <td>68427.951072</td>\n",
              "      <td>73612.573024</td>\n",
              "      <td>-5184.621951</td>\n",
              "    </tr>\n",
              "    <tr>\n",
              "      <th>2</th>\n",
              "      <td>62</td>\n",
              "      <td>13.864240</td>\n",
              "      <td>3</td>\n",
              "      <td>9</td>\n",
              "      <td>227.592719</td>\n",
              "      <td>62002.842940</td>\n",
              "      <td>77047.048832</td>\n",
              "      <td>-15044.205892</td>\n",
              "    </tr>\n",
              "    <tr>\n",
              "      <th>3</th>\n",
              "      <td>61</td>\n",
              "      <td>19.739764</td>\n",
              "      <td>9</td>\n",
              "      <td>81</td>\n",
              "      <td>726.657874</td>\n",
              "      <td>53677.498267</td>\n",
              "      <td>73612.573024</td>\n",
              "      <td>-19935.074757</td>\n",
              "    </tr>\n",
              "    <tr>\n",
              "      <th>4</th>\n",
              "      <td>51</td>\n",
              "      <td>17.875034</td>\n",
              "      <td>4</td>\n",
              "      <td>16</td>\n",
              "      <td>275.500135</td>\n",
              "      <td>71662.599810</td>\n",
              "      <td>76713.141462</td>\n",
              "      <td>-5050.541652</td>\n",
              "    </tr>\n",
              "  </tbody>\n",
              "</table>\n",
              "</div>\n",
              "      <button class=\"colab-df-convert\" onclick=\"convertToInteractive('df-87676fd8-769d-4adf-8524-93230a8f3fdd')\"\n",
              "              title=\"Convert this dataframe to an interactive table.\"\n",
              "              style=\"display:none;\">\n",
              "        \n",
              "  <svg xmlns=\"http://www.w3.org/2000/svg\" height=\"24px\"viewBox=\"0 0 24 24\"\n",
              "       width=\"24px\">\n",
              "    <path d=\"M0 0h24v24H0V0z\" fill=\"none\"/>\n",
              "    <path d=\"M18.56 5.44l.94 2.06.94-2.06 2.06-.94-2.06-.94-.94-2.06-.94 2.06-2.06.94zm-11 1L8.5 8.5l.94-2.06 2.06-.94-2.06-.94L8.5 2.5l-.94 2.06-2.06.94zm10 10l.94 2.06.94-2.06 2.06-.94-2.06-.94-.94-2.06-.94 2.06-2.06.94z\"/><path d=\"M17.41 7.96l-1.37-1.37c-.4-.4-.92-.59-1.43-.59-.52 0-1.04.2-1.43.59L10.3 9.45l-7.72 7.72c-.78.78-.78 2.05 0 2.83L4 21.41c.39.39.9.59 1.41.59.51 0 1.02-.2 1.41-.59l7.78-7.78 2.81-2.81c.8-.78.8-2.07 0-2.86zM5.41 20L4 18.59l7.72-7.72 1.47 1.35L5.41 20z\"/>\n",
              "  </svg>\n",
              "      </button>\n",
              "      \n",
              "  <style>\n",
              "    .colab-df-container {\n",
              "      display:flex;\n",
              "      flex-wrap:wrap;\n",
              "      gap: 12px;\n",
              "    }\n",
              "\n",
              "    .colab-df-convert {\n",
              "      background-color: #E8F0FE;\n",
              "      border: none;\n",
              "      border-radius: 50%;\n",
              "      cursor: pointer;\n",
              "      display: none;\n",
              "      fill: #1967D2;\n",
              "      height: 32px;\n",
              "      padding: 0 0 0 0;\n",
              "      width: 32px;\n",
              "    }\n",
              "\n",
              "    .colab-df-convert:hover {\n",
              "      background-color: #E2EBFA;\n",
              "      box-shadow: 0px 1px 2px rgba(60, 64, 67, 0.3), 0px 1px 3px 1px rgba(60, 64, 67, 0.15);\n",
              "      fill: #174EA6;\n",
              "    }\n",
              "\n",
              "    [theme=dark] .colab-df-convert {\n",
              "      background-color: #3B4455;\n",
              "      fill: #D2E3FC;\n",
              "    }\n",
              "\n",
              "    [theme=dark] .colab-df-convert:hover {\n",
              "      background-color: #434B5C;\n",
              "      box-shadow: 0px 1px 3px 1px rgba(0, 0, 0, 0.15);\n",
              "      filter: drop-shadow(0px 1px 2px rgba(0, 0, 0, 0.3));\n",
              "      fill: #FFFFFF;\n",
              "    }\n",
              "  </style>\n",
              "\n",
              "      <script>\n",
              "        const buttonEl =\n",
              "          document.querySelector('#df-87676fd8-769d-4adf-8524-93230a8f3fdd button.colab-df-convert');\n",
              "        buttonEl.style.display =\n",
              "          google.colab.kernel.accessAllowed ? 'block' : 'none';\n",
              "\n",
              "        async function convertToInteractive(key) {\n",
              "          const element = document.querySelector('#df-87676fd8-769d-4adf-8524-93230a8f3fdd');\n",
              "          const dataTable =\n",
              "            await google.colab.kernel.invokeFunction('convertToInteractive',\n",
              "                                                     [key], {});\n",
              "          if (!dataTable) return;\n",
              "\n",
              "          const docLinkHtml = 'Like what you see? Visit the ' +\n",
              "            '<a target=\"_blank\" href=https://colab.research.google.com/notebooks/data_table.ipynb>data table notebook</a>'\n",
              "            + ' to learn more about interactive tables.';\n",
              "          element.innerHTML = '';\n",
              "          dataTable['output_type'] = 'display_data';\n",
              "          await google.colab.output.renderOutput(dataTable, element);\n",
              "          const docLink = document.createElement('div');\n",
              "          docLink.innerHTML = docLinkHtml;\n",
              "          element.appendChild(docLink);\n",
              "        }\n",
              "      </script>\n",
              "    </div>\n",
              "  </div>\n",
              "  "
            ]
          },
          "metadata": {},
          "execution_count": 298
        }
      ]
    },
    {
      "cell_type": "code",
      "source": [
        "plt.scatter(Testset[\"QYears of Education\"], Testset[\"Salary\"])\n",
        "plt.plot(Testset[\"QYears of Education\"],Testset[\"Predicted Salary Using Sklearn method\"], color=\"violet\")\n",
        "plt.ylabel(\"Salary\")\n",
        "plt.xlabel(\"Quadratic Years of Education\")\n",
        "plt.title(\"Linear Regression: Years of Education vS Corresponding Salary \")"
      ],
      "metadata": {
        "colab": {
          "base_uri": "https://localhost:8080/",
          "height": 312
        },
        "id": "1WvyWAmnUw3f",
        "outputId": "101ec5ff-b749-4db5-ba94-c27b9b68f42f"
      },
      "execution_count": 299,
      "outputs": [
        {
          "output_type": "execute_result",
          "data": {
            "text/plain": [
              "Text(0.5, 1.0, 'Linear Regression: Years of Education vS Corresponding Salary ')"
            ]
          },
          "metadata": {},
          "execution_count": 299
        },
        {
          "output_type": "display_data",
          "data": {
            "text/plain": [
              "<Figure size 432x288 with 1 Axes>"
            ],
            "image/png": "[encoded data removed]"
          },
          "metadata": {
            "needs_background": "light"
          }
        }
      ]
    },
    {
      "cell_type": "code",
      "source": [
        "m=lm.coef_"
      ],
      "metadata": {
        "id": "Q-V5BVl7U6UW"
      },
      "execution_count": 300,
      "outputs": []
    },
    {
      "cell_type": "code",
      "source": [
        "b=lm.intercept_"
      ],
      "metadata": {
        "id": "oV4FG04pU9j5"
      },
      "execution_count": 301,
      "outputs": []
    },
    {
      "cell_type": "code",
      "source": [
        "#Testing for 7 years of education\n",
        "Salary = b + m * 7\n",
        "Salary"
      ],
      "metadata": {
        "colab": {
          "base_uri": "https://localhost:8080/"
        },
        "id": "aIJoW4JiVAEE",
        "outputId": "31870b22-1450-4553-a931-30d5bf3900ad"
      },
      "execution_count": 302,
      "outputs": [
        {
          "output_type": "execute_result",
          "data": {
            "text/plain": [
              "array([[77142.45093805]])"
            ]
          },
          "metadata": {},
          "execution_count": 302
        }
      ]
    },
    {
      "cell_type": "code",
      "source": [
        "lm.predict([[7]])"
      ],
      "metadata": {
        "colab": {
          "base_uri": "https://localhost:8080/"
        },
        "id": "or2Vtv1OVC-Q",
        "outputId": "f5058203-dfe3-47d2-af23-8b21af4b7649"
      },
      "execution_count": 303,
      "outputs": [
        {
          "output_type": "stream",
          "name": "stderr",
          "text": [
            "/usr/local/lib/python3.7/dist-packages/sklearn/base.py:451: UserWarning: X does not have valid feature names, but LinearRegression was fitted with feature names\n",
            "  \"X does not have valid feature names, but\"\n"
          ]
        },
        {
          "output_type": "execute_result",
          "data": {
            "text/plain": [
              "array([[77142.45093805]])"
            ]
          },
          "metadata": {},
          "execution_count": 303
        }
      ]
    },
    {
      "cell_type": "code",
      "source": [
        "assert Salary == lm.predict([[7]])"
      ],
      "metadata": {
        "colab": {
          "base_uri": "https://localhost:8080/"
        },
        "id": "FDpkF6ARVGPV",
        "outputId": "cbab21f8-e240-4fc8-d776-c866e31d0352"
      },
      "execution_count": 304,
      "outputs": [
        {
          "output_type": "stream",
          "name": "stderr",
          "text": [
            "/usr/local/lib/python3.7/dist-packages/sklearn/base.py:451: UserWarning: X does not have valid feature names, but LinearRegression was fitted with feature names\n",
            "  \"X does not have valid feature names, but\"\n"
          ]
        }
      ]
    }
  ],
  "metadata": {
    "colab": {
      "collapsed_sections": [],
      "name": "Salary_Prediction_AIE_B_Project_Sem1.ipynb",
      "provenance": [],
      "include_colab_link": true
    },
    "kernelspec": {
      "display_name": "Python 3",
      "name": "python3"
    },
    "language_info": {
      "name": "python"
    }
  },
  "nbformat": 4,
  "nbformat_minor": 0
}