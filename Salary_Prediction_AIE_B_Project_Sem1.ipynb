{
  "cells": [
    {
      "cell_type": "markdown",
      "metadata": {
        "id": "view-in-github",
        "colab_type": "text"
      },
      "source": [
        "<a href=\"https://colab.research.google.com/github/AdithyaDVarma/Biology_AI-in-agriculture_Semester1/blob/main/Salary_Prediction_AIE_B_Project_Sem1.ipynb\" target=\"_parent\"><img src=\"https://colab.research.google.com/assets/colab-badge.svg\" alt=\"Open In Colab\"/></a>"
      ]
    },
    {
      "cell_type": "code",
      "execution_count": 504,
      "metadata": {
        "id": "SjLA6oWjJYRS"
      },
      "outputs": [],
      "source": [
        "# importing the necessary modules and packages\n",
        "import os\n",
        "import numpy as np  \n",
        "import pandas as pd  \n",
        "import matplotlib.pyplot as plt  \n",
        "import seaborn as sns  \n",
        "from sklearn import linear_model \n",
        "import statsmodels.formula.api as smf"
      ]
    },
    {
      "cell_type": "markdown",
      "metadata": {
        "id": "X49yzfZpeZeP"
      },
      "source": [
        "**DATA HANDLING**"
      ]
    },
    {
      "cell_type": "code",
      "source": [
        "#Creating the YearsExperience vs Salary data using training set csv\n",
        "import csv\n",
        "import random\n",
        "f=open(\"Trainingset.csv\",\"w\")\n",
        "w=csv.writer(f)\n",
        "w.writerow([\"Age\",\"YearsExperience\",\"Years of Education\",\"QYearsExperience\",\"CombinedParameter\",\"Salary\"])\n",
        "\n",
        "for i in range(500):\n",
        "  age=random.uniform(24,65)\n",
        "  if age>=24 and age<=30:\n",
        "      exp=random.uniform(1,4.3)\n",
        "      educ=random.randint(3,6)\n",
        "      sal=random.uniform(40000.7,60000.54)\n",
        "  elif age>=31 and age<=40:\n",
        "      exp=random.uniform(4.6,7.8)\n",
        "      educ=random.randint(3,7)\n",
        "      sal=random.uniform(50000.7,80000.54)\n",
        "  elif age>=41 and age<=50:\n",
        "      exp=random.uniform(7,12)\n",
        "      educ=random.randint(5,9)\n",
        "      sal=random.uniform(60000.7,90000.54)\n",
        "  elif age>=51:\n",
        "      exp=random.uniform(12,20)\n",
        "      educ=random.randint(3,9)\n",
        "      sal=random.uniform(50000.7,100000.54)\n",
        "      w.writerow([age,exp,educ,exp**2,(age+exp)*educ,sal])\n",
        "f.close()\n",
        "\n",
        "f=open(\"Testset.csv\",\"w\")\n",
        "w=csv.writer(f)\n",
        "w.writerow([\"Age\",\"YearsExperience\",\"Years of Education\",\"QYearsExperience\",\"CombinedParameter\",\"Salary\"])\n",
        "\n",
        "for i in range(500):\n",
        "  age=random.uniform(24,65)\n",
        "  if age>=24 and age<=30:\n",
        "      exp=random.uniform(1,4.3)\n",
        "      educ=random.randint(3,6)\n",
        "      sal=random.uniform(40000.7,60000.54)\n",
        "  elif age>=31 and age<=40:\n",
        "      exp=random.uniform(4.6,7.8)\n",
        "      educ=random.randint(3,7)\n",
        "      sal=random.uniform(50000.7,80000.54)\n",
        "  elif age>=41 and age<=50:\n",
        "      exp=random.uniform(7,12)\n",
        "      educ=random.randint(5,9)\n",
        "      sal=random.uniform(60000.7,90000.54)\n",
        "  elif age>=51:\n",
        "      exp=random.uniform(12,20)\n",
        "      educ=random.randint(3,9)\n",
        "      sal=random.uniform(50000.7,100000.54)\n",
        "      w.writerow([age,exp,educ,exp**2,(age+exp)*educ,sal])\n",
        "f.close()\n",
        "\n",
        "\n"
      ],
      "metadata": {
        "id": "-zVrGlSxjLXY"
      },
      "execution_count": 505,
      "outputs": []
    },
    {
      "cell_type": "code",
      "execution_count": 506,
      "metadata": {
        "colab": {
          "base_uri": "https://localhost:8080/",
          "height": 206
        },
        "id": "Wf51Sg-cae6G",
        "outputId": "1d825229-7c3f-4f00-f6ea-77c409182cb0"
      },
      "outputs": [
        {
          "output_type": "execute_result",
          "data": {
            "text/plain": [
              "         Age  YearsExperience  Years of Education  QYearsExperience  \\\n",
              "0  52.140804        12.334416                   5        152.137818   \n",
              "1  64.786541        19.326810                   6        373.525601   \n",
              "2  59.640944        15.145311                   9        229.380445   \n",
              "3  63.429867        12.420940                   9        154.279761   \n",
              "4  62.516159        17.763009                   9        315.524506   \n",
              "\n",
              "   CombinedParameter        Salary  \n",
              "0         322.376099  67718.299941  \n",
              "1         504.680106  89566.268364  \n",
              "2         673.076293  83377.404328  \n",
              "3         682.657267  70718.231374  \n",
              "4         722.512514  70341.387584  "
            ],
            "text/html": [
              "\n",
              "  <div id=\"df-52c0971d-75bc-4f1d-ab7e-8b4deb2d58b1\">\n",
              "    <div class=\"colab-df-container\">\n",
              "      <div>\n",
              "<style scoped>\n",
              "    .dataframe tbody tr th:only-of-type {\n",
              "        vertical-align: middle;\n",
              "    }\n",
              "\n",
              "    .dataframe tbody tr th {\n",
              "        vertical-align: top;\n",
              "    }\n",
              "\n",
              "    .dataframe thead th {\n",
              "        text-align: right;\n",
              "    }\n",
              "</style>\n",
              "<table border=\"1\" class=\"dataframe\">\n",
              "  <thead>\n",
              "    <tr style=\"text-align: right;\">\n",
              "      <th></th>\n",
              "      <th>Age</th>\n",
              "      <th>YearsExperience</th>\n",
              "      <th>Years of Education</th>\n",
              "      <th>QYearsExperience</th>\n",
              "      <th>CombinedParameter</th>\n",
              "      <th>Salary</th>\n",
              "    </tr>\n",
              "  </thead>\n",
              "  <tbody>\n",
              "    <tr>\n",
              "      <th>0</th>\n",
              "      <td>52.140804</td>\n",
              "      <td>12.334416</td>\n",
              "      <td>5</td>\n",
              "      <td>152.137818</td>\n",
              "      <td>322.376099</td>\n",
              "      <td>67718.299941</td>\n",
              "    </tr>\n",
              "    <tr>\n",
              "      <th>1</th>\n",
              "      <td>64.786541</td>\n",
              "      <td>19.326810</td>\n",
              "      <td>6</td>\n",
              "      <td>373.525601</td>\n",
              "      <td>504.680106</td>\n",
              "      <td>89566.268364</td>\n",
              "    </tr>\n",
              "    <tr>\n",
              "      <th>2</th>\n",
              "      <td>59.640944</td>\n",
              "      <td>15.145311</td>\n",
              "      <td>9</td>\n",
              "      <td>229.380445</td>\n",
              "      <td>673.076293</td>\n",
              "      <td>83377.404328</td>\n",
              "    </tr>\n",
              "    <tr>\n",
              "      <th>3</th>\n",
              "      <td>63.429867</td>\n",
              "      <td>12.420940</td>\n",
              "      <td>9</td>\n",
              "      <td>154.279761</td>\n",
              "      <td>682.657267</td>\n",
              "      <td>70718.231374</td>\n",
              "    </tr>\n",
              "    <tr>\n",
              "      <th>4</th>\n",
              "      <td>62.516159</td>\n",
              "      <td>17.763009</td>\n",
              "      <td>9</td>\n",
              "      <td>315.524506</td>\n",
              "      <td>722.512514</td>\n",
              "      <td>70341.387584</td>\n",
              "    </tr>\n",
              "  </tbody>\n",
              "</table>\n",
              "</div>\n",
              "      <button class=\"colab-df-convert\" onclick=\"convertToInteractive('df-52c0971d-75bc-4f1d-ab7e-8b4deb2d58b1')\"\n",
              "              title=\"Convert this dataframe to an interactive table.\"\n",
              "              style=\"display:none;\">\n",
              "        \n",
              "  <svg xmlns=\"http://www.w3.org/2000/svg\" height=\"24px\"viewBox=\"0 0 24 24\"\n",
              "       width=\"24px\">\n",
              "    <path d=\"M0 0h24v24H0V0z\" fill=\"none\"/>\n",
              "    <path d=\"M18.56 5.44l.94 2.06.94-2.06 2.06-.94-2.06-.94-.94-2.06-.94 2.06-2.06.94zm-11 1L8.5 8.5l.94-2.06 2.06-.94-2.06-.94L8.5 2.5l-.94 2.06-2.06.94zm10 10l.94 2.06.94-2.06 2.06-.94-2.06-.94-.94-2.06-.94 2.06-2.06.94z\"/><path d=\"M17.41 7.96l-1.37-1.37c-.4-.4-.92-.59-1.43-.59-.52 0-1.04.2-1.43.59L10.3 9.45l-7.72 7.72c-.78.78-.78 2.05 0 2.83L4 21.41c.39.39.9.59 1.41.59.51 0 1.02-.2 1.41-.59l7.78-7.78 2.81-2.81c.8-.78.8-2.07 0-2.86zM5.41 20L4 18.59l7.72-7.72 1.47 1.35L5.41 20z\"/>\n",
              "  </svg>\n",
              "      </button>\n",
              "      \n",
              "  <style>\n",
              "    .colab-df-container {\n",
              "      display:flex;\n",
              "      flex-wrap:wrap;\n",
              "      gap: 12px;\n",
              "    }\n",
              "\n",
              "    .colab-df-convert {\n",
              "      background-color: #E8F0FE;\n",
              "      border: none;\n",
              "      border-radius: 50%;\n",
              "      cursor: pointer;\n",
              "      display: none;\n",
              "      fill: #1967D2;\n",
              "      height: 32px;\n",
              "      padding: 0 0 0 0;\n",
              "      width: 32px;\n",
              "    }\n",
              "\n",
              "    .colab-df-convert:hover {\n",
              "      background-color: #E2EBFA;\n",
              "      box-shadow: 0px 1px 2px rgba(60, 64, 67, 0.3), 0px 1px 3px 1px rgba(60, 64, 67, 0.15);\n",
              "      fill: #174EA6;\n",
              "    }\n",
              "\n",
              "    [theme=dark] .colab-df-convert {\n",
              "      background-color: #3B4455;\n",
              "      fill: #D2E3FC;\n",
              "    }\n",
              "\n",
              "    [theme=dark] .colab-df-convert:hover {\n",
              "      background-color: #434B5C;\n",
              "      box-shadow: 0px 1px 3px 1px rgba(0, 0, 0, 0.15);\n",
              "      filter: drop-shadow(0px 1px 2px rgba(0, 0, 0, 0.3));\n",
              "      fill: #FFFFFF;\n",
              "    }\n",
              "  </style>\n",
              "\n",
              "      <script>\n",
              "        const buttonEl =\n",
              "          document.querySelector('#df-52c0971d-75bc-4f1d-ab7e-8b4deb2d58b1 button.colab-df-convert');\n",
              "        buttonEl.style.display =\n",
              "          google.colab.kernel.accessAllowed ? 'block' : 'none';\n",
              "\n",
              "        async function convertToInteractive(key) {\n",
              "          const element = document.querySelector('#df-52c0971d-75bc-4f1d-ab7e-8b4deb2d58b1');\n",
              "          const dataTable =\n",
              "            await google.colab.kernel.invokeFunction('convertToInteractive',\n",
              "                                                     [key], {});\n",
              "          if (!dataTable) return;\n",
              "\n",
              "          const docLinkHtml = 'Like what you see? Visit the ' +\n",
              "            '<a target=\"_blank\" href=https://colab.research.google.com/notebooks/data_table.ipynb>data table notebook</a>'\n",
              "            + ' to learn more about interactive tables.';\n",
              "          element.innerHTML = '';\n",
              "          dataTable['output_type'] = 'display_data';\n",
              "          await google.colab.output.renderOutput(dataTable, element);\n",
              "          const docLink = document.createElement('div');\n",
              "          docLink.innerHTML = docLinkHtml;\n",
              "          element.appendChild(docLink);\n",
              "        }\n",
              "      </script>\n",
              "    </div>\n",
              "  </div>\n",
              "  "
            ]
          },
          "metadata": {},
          "execution_count": 506
        }
      ],
      "source": [
        "# Initializing the trainingset and testset data objects using pandas\n",
        "Testset = pd.read_csv(\"Testset.csv\")\n",
        "Training = pd.read_csv(\"Trainingset.csv\") \n",
        "\n",
        "#The head() function is used to get the first few rows\n",
        "Testset.head()"
      ]
    },
    {
      "cell_type": "code",
      "execution_count": 507,
      "metadata": {
        "colab": {
          "base_uri": "https://localhost:8080/",
          "height": 300
        },
        "id": "i40kk9fGe5-l",
        "outputId": "43d62051-c65c-409d-c9c9-45543922bc7b"
      },
      "outputs": [
        {
          "output_type": "execute_result",
          "data": {
            "text/plain": [
              "              Age  YearsExperience  Years of Education  QYearsExperience  \\\n",
              "count  192.000000       192.000000          192.000000        192.000000   \n",
              "mean    57.790347        16.012303            5.848958        261.879988   \n",
              "std      4.238510         2.348378            1.893250         75.330560   \n",
              "min     51.071955        12.016612            3.000000        144.398970   \n",
              "25%     53.896515        14.191721            4.000000        201.404977   \n",
              "50%     57.911842        16.073281            6.000000        258.351431   \n",
              "75%     61.155526        17.922335            7.000000        321.210549   \n",
              "max     64.958849        19.977688            9.000000        399.108020   \n",
              "\n",
              "       CombinedParameter        Salary  \n",
              "count         192.000000    192.000000  \n",
              "mean          431.720268  74722.675008  \n",
              "std           143.462851  13711.392975  \n",
              "min           195.266739  50500.898895  \n",
              "25%           322.079292  64188.055340  \n",
              "50%           416.789514  75529.136035  \n",
              "75%           534.093361  85166.312765  \n",
              "max           729.705119  99908.930183  "
            ],
            "text/html": [
              "\n",
              "  <div id=\"df-a6b38719-b1e9-4748-b5a3-918dd580a174\">\n",
              "    <div class=\"colab-df-container\">\n",
              "      <div>\n",
              "<style scoped>\n",
              "    .dataframe tbody tr th:only-of-type {\n",
              "        vertical-align: middle;\n",
              "    }\n",
              "\n",
              "    .dataframe tbody tr th {\n",
              "        vertical-align: top;\n",
              "    }\n",
              "\n",
              "    .dataframe thead th {\n",
              "        text-align: right;\n",
              "    }\n",
              "</style>\n",
              "<table border=\"1\" class=\"dataframe\">\n",
              "  <thead>\n",
              "    <tr style=\"text-align: right;\">\n",
              "      <th></th>\n",
              "      <th>Age</th>\n",
              "      <th>YearsExperience</th>\n",
              "      <th>Years of Education</th>\n",
              "      <th>QYearsExperience</th>\n",
              "      <th>CombinedParameter</th>\n",
              "      <th>Salary</th>\n",
              "    </tr>\n",
              "  </thead>\n",
              "  <tbody>\n",
              "    <tr>\n",
              "      <th>count</th>\n",
              "      <td>192.000000</td>\n",
              "      <td>192.000000</td>\n",
              "      <td>192.000000</td>\n",
              "      <td>192.000000</td>\n",
              "      <td>192.000000</td>\n",
              "      <td>192.000000</td>\n",
              "    </tr>\n",
              "    <tr>\n",
              "      <th>mean</th>\n",
              "      <td>57.790347</td>\n",
              "      <td>16.012303</td>\n",
              "      <td>5.848958</td>\n",
              "      <td>261.879988</td>\n",
              "      <td>431.720268</td>\n",
              "      <td>74722.675008</td>\n",
              "    </tr>\n",
              "    <tr>\n",
              "      <th>std</th>\n",
              "      <td>4.238510</td>\n",
              "      <td>2.348378</td>\n",
              "      <td>1.893250</td>\n",
              "      <td>75.330560</td>\n",
              "      <td>143.462851</td>\n",
              "      <td>13711.392975</td>\n",
              "    </tr>\n",
              "    <tr>\n",
              "      <th>min</th>\n",
              "      <td>51.071955</td>\n",
              "      <td>12.016612</td>\n",
              "      <td>3.000000</td>\n",
              "      <td>144.398970</td>\n",
              "      <td>195.266739</td>\n",
              "      <td>50500.898895</td>\n",
              "    </tr>\n",
              "    <tr>\n",
              "      <th>25%</th>\n",
              "      <td>53.896515</td>\n",
              "      <td>14.191721</td>\n",
              "      <td>4.000000</td>\n",
              "      <td>201.404977</td>\n",
              "      <td>322.079292</td>\n",
              "      <td>64188.055340</td>\n",
              "    </tr>\n",
              "    <tr>\n",
              "      <th>50%</th>\n",
              "      <td>57.911842</td>\n",
              "      <td>16.073281</td>\n",
              "      <td>6.000000</td>\n",
              "      <td>258.351431</td>\n",
              "      <td>416.789514</td>\n",
              "      <td>75529.136035</td>\n",
              "    </tr>\n",
              "    <tr>\n",
              "      <th>75%</th>\n",
              "      <td>61.155526</td>\n",
              "      <td>17.922335</td>\n",
              "      <td>7.000000</td>\n",
              "      <td>321.210549</td>\n",
              "      <td>534.093361</td>\n",
              "      <td>85166.312765</td>\n",
              "    </tr>\n",
              "    <tr>\n",
              "      <th>max</th>\n",
              "      <td>64.958849</td>\n",
              "      <td>19.977688</td>\n",
              "      <td>9.000000</td>\n",
              "      <td>399.108020</td>\n",
              "      <td>729.705119</td>\n",
              "      <td>99908.930183</td>\n",
              "    </tr>\n",
              "  </tbody>\n",
              "</table>\n",
              "</div>\n",
              "      <button class=\"colab-df-convert\" onclick=\"convertToInteractive('df-a6b38719-b1e9-4748-b5a3-918dd580a174')\"\n",
              "              title=\"Convert this dataframe to an interactive table.\"\n",
              "              style=\"display:none;\">\n",
              "        \n",
              "  <svg xmlns=\"http://www.w3.org/2000/svg\" height=\"24px\"viewBox=\"0 0 24 24\"\n",
              "       width=\"24px\">\n",
              "    <path d=\"M0 0h24v24H0V0z\" fill=\"none\"/>\n",
              "    <path d=\"M18.56 5.44l.94 2.06.94-2.06 2.06-.94-2.06-.94-.94-2.06-.94 2.06-2.06.94zm-11 1L8.5 8.5l.94-2.06 2.06-.94-2.06-.94L8.5 2.5l-.94 2.06-2.06.94zm10 10l.94 2.06.94-2.06 2.06-.94-2.06-.94-.94-2.06-.94 2.06-2.06.94z\"/><path d=\"M17.41 7.96l-1.37-1.37c-.4-.4-.92-.59-1.43-.59-.52 0-1.04.2-1.43.59L10.3 9.45l-7.72 7.72c-.78.78-.78 2.05 0 2.83L4 21.41c.39.39.9.59 1.41.59.51 0 1.02-.2 1.41-.59l7.78-7.78 2.81-2.81c.8-.78.8-2.07 0-2.86zM5.41 20L4 18.59l7.72-7.72 1.47 1.35L5.41 20z\"/>\n",
              "  </svg>\n",
              "      </button>\n",
              "      \n",
              "  <style>\n",
              "    .colab-df-container {\n",
              "      display:flex;\n",
              "      flex-wrap:wrap;\n",
              "      gap: 12px;\n",
              "    }\n",
              "\n",
              "    .colab-df-convert {\n",
              "      background-color: #E8F0FE;\n",
              "      border: none;\n",
              "      border-radius: 50%;\n",
              "      cursor: pointer;\n",
              "      display: none;\n",
              "      fill: #1967D2;\n",
              "      height: 32px;\n",
              "      padding: 0 0 0 0;\n",
              "      width: 32px;\n",
              "    }\n",
              "\n",
              "    .colab-df-convert:hover {\n",
              "      background-color: #E2EBFA;\n",
              "      box-shadow: 0px 1px 2px rgba(60, 64, 67, 0.3), 0px 1px 3px 1px rgba(60, 64, 67, 0.15);\n",
              "      fill: #174EA6;\n",
              "    }\n",
              "\n",
              "    [theme=dark] .colab-df-convert {\n",
              "      background-color: #3B4455;\n",
              "      fill: #D2E3FC;\n",
              "    }\n",
              "\n",
              "    [theme=dark] .colab-df-convert:hover {\n",
              "      background-color: #434B5C;\n",
              "      box-shadow: 0px 1px 3px 1px rgba(0, 0, 0, 0.15);\n",
              "      filter: drop-shadow(0px 1px 2px rgba(0, 0, 0, 0.3));\n",
              "      fill: #FFFFFF;\n",
              "    }\n",
              "  </style>\n",
              "\n",
              "      <script>\n",
              "        const buttonEl =\n",
              "          document.querySelector('#df-a6b38719-b1e9-4748-b5a3-918dd580a174 button.colab-df-convert');\n",
              "        buttonEl.style.display =\n",
              "          google.colab.kernel.accessAllowed ? 'block' : 'none';\n",
              "\n",
              "        async function convertToInteractive(key) {\n",
              "          const element = document.querySelector('#df-a6b38719-b1e9-4748-b5a3-918dd580a174');\n",
              "          const dataTable =\n",
              "            await google.colab.kernel.invokeFunction('convertToInteractive',\n",
              "                                                     [key], {});\n",
              "          if (!dataTable) return;\n",
              "\n",
              "          const docLinkHtml = 'Like what you see? Visit the ' +\n",
              "            '<a target=\"_blank\" href=https://colab.research.google.com/notebooks/data_table.ipynb>data table notebook</a>'\n",
              "            + ' to learn more about interactive tables.';\n",
              "          element.innerHTML = '';\n",
              "          dataTable['output_type'] = 'display_data';\n",
              "          await google.colab.output.renderOutput(dataTable, element);\n",
              "          const docLink = document.createElement('div');\n",
              "          docLink.innerHTML = docLinkHtml;\n",
              "          element.appendChild(docLink);\n",
              "        }\n",
              "      </script>\n",
              "    </div>\n",
              "  </div>\n",
              "  "
            ]
          },
          "metadata": {},
          "execution_count": 507
        }
      ],
      "source": [
        "# Using the data object  to find some general values like mean, minimum etc\n",
        "Testset.describe()"
      ]
    },
    {
      "cell_type": "code",
      "execution_count": 508,
      "metadata": {
        "colab": {
          "base_uri": "https://localhost:8080/",
          "height": 237
        },
        "id": "L8R_Ej-RfIvy",
        "outputId": "302c233f-9bc9-4dd2-85de-ce907c7978b2"
      },
      "outputs": [
        {
          "output_type": "execute_result",
          "data": {
            "text/plain": [
              "                         Age  YearsExperience  Years of Education  \\\n",
              "Age                 1.000000        -0.044614            0.053063   \n",
              "YearsExperience    -0.044614         1.000000           -0.084095   \n",
              "Years of Education  0.053063        -0.084095            1.000000   \n",
              "QYearsExperience   -0.046657         0.997660           -0.090343   \n",
              "CombinedParameter   0.222745        -0.000872            0.979535   \n",
              "Salary             -0.076086        -0.034491           -0.187072   \n",
              "\n",
              "                    QYearsExperience  CombinedParameter    Salary  \n",
              "Age                        -0.046657           0.222745 -0.076086  \n",
              "YearsExperience             0.997660          -0.000872 -0.034491  \n",
              "Years of Education         -0.090343           0.979535 -0.187072  \n",
              "QYearsExperience            1.000000          -0.007911 -0.023595  \n",
              "CombinedParameter          -0.007911           1.000000 -0.197605  \n",
              "Salary                     -0.023595          -0.197605  1.000000  "
            ],
            "text/html": [
              "\n",
              "  <div id=\"df-9377b3e6-c1df-44e8-9cbc-7e5cb2e5605f\">\n",
              "    <div class=\"colab-df-container\">\n",
              "      <div>\n",
              "<style scoped>\n",
              "    .dataframe tbody tr th:only-of-type {\n",
              "        vertical-align: middle;\n",
              "    }\n",
              "\n",
              "    .dataframe tbody tr th {\n",
              "        vertical-align: top;\n",
              "    }\n",
              "\n",
              "    .dataframe thead th {\n",
              "        text-align: right;\n",
              "    }\n",
              "</style>\n",
              "<table border=\"1\" class=\"dataframe\">\n",
              "  <thead>\n",
              "    <tr style=\"text-align: right;\">\n",
              "      <th></th>\n",
              "      <th>Age</th>\n",
              "      <th>YearsExperience</th>\n",
              "      <th>Years of Education</th>\n",
              "      <th>QYearsExperience</th>\n",
              "      <th>CombinedParameter</th>\n",
              "      <th>Salary</th>\n",
              "    </tr>\n",
              "  </thead>\n",
              "  <tbody>\n",
              "    <tr>\n",
              "      <th>Age</th>\n",
              "      <td>1.000000</td>\n",
              "      <td>-0.044614</td>\n",
              "      <td>0.053063</td>\n",
              "      <td>-0.046657</td>\n",
              "      <td>0.222745</td>\n",
              "      <td>-0.076086</td>\n",
              "    </tr>\n",
              "    <tr>\n",
              "      <th>YearsExperience</th>\n",
              "      <td>-0.044614</td>\n",
              "      <td>1.000000</td>\n",
              "      <td>-0.084095</td>\n",
              "      <td>0.997660</td>\n",
              "      <td>-0.000872</td>\n",
              "      <td>-0.034491</td>\n",
              "    </tr>\n",
              "    <tr>\n",
              "      <th>Years of Education</th>\n",
              "      <td>0.053063</td>\n",
              "      <td>-0.084095</td>\n",
              "      <td>1.000000</td>\n",
              "      <td>-0.090343</td>\n",
              "      <td>0.979535</td>\n",
              "      <td>-0.187072</td>\n",
              "    </tr>\n",
              "    <tr>\n",
              "      <th>QYearsExperience</th>\n",
              "      <td>-0.046657</td>\n",
              "      <td>0.997660</td>\n",
              "      <td>-0.090343</td>\n",
              "      <td>1.000000</td>\n",
              "      <td>-0.007911</td>\n",
              "      <td>-0.023595</td>\n",
              "    </tr>\n",
              "    <tr>\n",
              "      <th>CombinedParameter</th>\n",
              "      <td>0.222745</td>\n",
              "      <td>-0.000872</td>\n",
              "      <td>0.979535</td>\n",
              "      <td>-0.007911</td>\n",
              "      <td>1.000000</td>\n",
              "      <td>-0.197605</td>\n",
              "    </tr>\n",
              "    <tr>\n",
              "      <th>Salary</th>\n",
              "      <td>-0.076086</td>\n",
              "      <td>-0.034491</td>\n",
              "      <td>-0.187072</td>\n",
              "      <td>-0.023595</td>\n",
              "      <td>-0.197605</td>\n",
              "      <td>1.000000</td>\n",
              "    </tr>\n",
              "  </tbody>\n",
              "</table>\n",
              "</div>\n",
              "      <button class=\"colab-df-convert\" onclick=\"convertToInteractive('df-9377b3e6-c1df-44e8-9cbc-7e5cb2e5605f')\"\n",
              "              title=\"Convert this dataframe to an interactive table.\"\n",
              "              style=\"display:none;\">\n",
              "        \n",
              "  <svg xmlns=\"http://www.w3.org/2000/svg\" height=\"24px\"viewBox=\"0 0 24 24\"\n",
              "       width=\"24px\">\n",
              "    <path d=\"M0 0h24v24H0V0z\" fill=\"none\"/>\n",
              "    <path d=\"M18.56 5.44l.94 2.06.94-2.06 2.06-.94-2.06-.94-.94-2.06-.94 2.06-2.06.94zm-11 1L8.5 8.5l.94-2.06 2.06-.94-2.06-.94L8.5 2.5l-.94 2.06-2.06.94zm10 10l.94 2.06.94-2.06 2.06-.94-2.06-.94-.94-2.06-.94 2.06-2.06.94z\"/><path d=\"M17.41 7.96l-1.37-1.37c-.4-.4-.92-.59-1.43-.59-.52 0-1.04.2-1.43.59L10.3 9.45l-7.72 7.72c-.78.78-.78 2.05 0 2.83L4 21.41c.39.39.9.59 1.41.59.51 0 1.02-.2 1.41-.59l7.78-7.78 2.81-2.81c.8-.78.8-2.07 0-2.86zM5.41 20L4 18.59l7.72-7.72 1.47 1.35L5.41 20z\"/>\n",
              "  </svg>\n",
              "      </button>\n",
              "      \n",
              "  <style>\n",
              "    .colab-df-container {\n",
              "      display:flex;\n",
              "      flex-wrap:wrap;\n",
              "      gap: 12px;\n",
              "    }\n",
              "\n",
              "    .colab-df-convert {\n",
              "      background-color: #E8F0FE;\n",
              "      border: none;\n",
              "      border-radius: 50%;\n",
              "      cursor: pointer;\n",
              "      display: none;\n",
              "      fill: #1967D2;\n",
              "      height: 32px;\n",
              "      padding: 0 0 0 0;\n",
              "      width: 32px;\n",
              "    }\n",
              "\n",
              "    .colab-df-convert:hover {\n",
              "      background-color: #E2EBFA;\n",
              "      box-shadow: 0px 1px 2px rgba(60, 64, 67, 0.3), 0px 1px 3px 1px rgba(60, 64, 67, 0.15);\n",
              "      fill: #174EA6;\n",
              "    }\n",
              "\n",
              "    [theme=dark] .colab-df-convert {\n",
              "      background-color: #3B4455;\n",
              "      fill: #D2E3FC;\n",
              "    }\n",
              "\n",
              "    [theme=dark] .colab-df-convert:hover {\n",
              "      background-color: #434B5C;\n",
              "      box-shadow: 0px 1px 3px 1px rgba(0, 0, 0, 0.15);\n",
              "      filter: drop-shadow(0px 1px 2px rgba(0, 0, 0, 0.3));\n",
              "      fill: #FFFFFF;\n",
              "    }\n",
              "  </style>\n",
              "\n",
              "      <script>\n",
              "        const buttonEl =\n",
              "          document.querySelector('#df-9377b3e6-c1df-44e8-9cbc-7e5cb2e5605f button.colab-df-convert');\n",
              "        buttonEl.style.display =\n",
              "          google.colab.kernel.accessAllowed ? 'block' : 'none';\n",
              "\n",
              "        async function convertToInteractive(key) {\n",
              "          const element = document.querySelector('#df-9377b3e6-c1df-44e8-9cbc-7e5cb2e5605f');\n",
              "          const dataTable =\n",
              "            await google.colab.kernel.invokeFunction('convertToInteractive',\n",
              "                                                     [key], {});\n",
              "          if (!dataTable) return;\n",
              "\n",
              "          const docLinkHtml = 'Like what you see? Visit the ' +\n",
              "            '<a target=\"_blank\" href=https://colab.research.google.com/notebooks/data_table.ipynb>data table notebook</a>'\n",
              "            + ' to learn more about interactive tables.';\n",
              "          element.innerHTML = '';\n",
              "          dataTable['output_type'] = 'display_data';\n",
              "          await google.colab.output.renderOutput(dataTable, element);\n",
              "          const docLink = document.createElement('div');\n",
              "          docLink.innerHTML = docLinkHtml;\n",
              "          element.appendChild(docLink);\n",
              "        }\n",
              "      </script>\n",
              "    </div>\n",
              "  </div>\n",
              "  "
            ]
          },
          "metadata": {},
          "execution_count": 508
        }
      ],
      "source": [
        "# corr() is used to find the pairwise correlation of all columns in the data we provided.\n",
        "# The closer its value is to 1, the more variability the model explains.\n",
        "Testset.corr()"
      ]
    },
    {
      "cell_type": "code",
      "execution_count": 509,
      "metadata": {
        "colab": {
          "base_uri": "https://localhost:8080/",
          "height": 296
        },
        "id": "KQCr-HINfeTc",
        "outputId": "090057d9-ff04-434e-b86e-cfac1eebc53b"
      },
      "outputs": [
        {
          "output_type": "execute_result",
          "data": {
            "text/plain": [
              "<matplotlib.axes._subplots.AxesSubplot at 0x7fb241840290>"
            ]
          },
          "metadata": {},
          "execution_count": 509
        },
        {
          "output_type": "display_data",
          "data": {
            "text/plain": [
              "<Figure size 432x288 with 1 Axes>"
            ],
            "image/png": "[encoded data removed]"
          },
          "metadata": {
            "needs_background": "light"
          }
        }
      ],
      "source": [
        "# We are using seaborn, which is used to display mathematical scatter plot of the given data\n",
        "sns.scatterplot(data=Testset, x=\"YearsExperience\",y=\"Salary\")"
      ]
    },
    {
      "cell_type": "code",
      "execution_count": 510,
      "metadata": {
        "id": "Be36uyGApCfr"
      },
      "outputs": [],
      "source": [
        "# Conducting Linear Regression method and inserting data using the fit method\n",
        "# Fit function adjusts weights according to data values so that better accuracy can be achieved\n",
        "#Dataset = pd.read_csv(\"T.csv\")\n",
        "lm = linear_model.LinearRegression(). fit(Training[[\"YearsExperience\"]],Training[[\"Salary\"]])\n",
        "# Using the predict method\n",
        "\n",
        "result=lm.predict(Testset[[\"YearsExperience\"]])"
      ]
    },
    {
      "cell_type": "code",
      "execution_count": 511,
      "metadata": {
        "colab": {
          "base_uri": "https://localhost:8080/",
          "height": 206
        },
        "id": "Nhahhys_pGQO",
        "outputId": "2904fde7-52e6-4a4c-bc5b-763079c524ca"
      },
      "outputs": [
        {
          "output_type": "execute_result",
          "data": {
            "text/plain": [
              "         Age  YearsExperience  Years of Education  QYearsExperience  \\\n",
              "0  52.140804        12.334416                   5        152.137818   \n",
              "1  64.786541        19.326810                   6        373.525601   \n",
              "2  59.640944        15.145311                   9        229.380445   \n",
              "3  63.429867        12.420940                   9        154.279761   \n",
              "4  62.516159        17.763009                   9        315.524506   \n",
              "\n",
              "   CombinedParameter        Salary  Predicted Salary Using Sklearn method  \n",
              "0         322.376099  67718.299941                           79154.148785  \n",
              "1         504.680106  89566.268364                           74493.701655  \n",
              "2         673.076293  83377.404328                           77280.680750  \n",
              "3         682.657267  70718.231374                           79096.480075  \n",
              "4         722.512514  70341.387584                           75535.978605  "
            ],
            "text/html": [
              "\n",
              "  <div id=\"df-476d330f-5e31-4771-996a-447571397d88\">\n",
              "    <div class=\"colab-df-container\">\n",
              "      <div>\n",
              "<style scoped>\n",
              "    .dataframe tbody tr th:only-of-type {\n",
              "        vertical-align: middle;\n",
              "    }\n",
              "\n",
              "    .dataframe tbody tr th {\n",
              "        vertical-align: top;\n",
              "    }\n",
              "\n",
              "    .dataframe thead th {\n",
              "        text-align: right;\n",
              "    }\n",
              "</style>\n",
              "<table border=\"1\" class=\"dataframe\">\n",
              "  <thead>\n",
              "    <tr style=\"text-align: right;\">\n",
              "      <th></th>\n",
              "      <th>Age</th>\n",
              "      <th>YearsExperience</th>\n",
              "      <th>Years of Education</th>\n",
              "      <th>QYearsExperience</th>\n",
              "      <th>CombinedParameter</th>\n",
              "      <th>Salary</th>\n",
              "      <th>Predicted Salary Using Sklearn method</th>\n",
              "    </tr>\n",
              "  </thead>\n",
              "  <tbody>\n",
              "    <tr>\n",
              "      <th>0</th>\n",
              "      <td>52.140804</td>\n",
              "      <td>12.334416</td>\n",
              "      <td>5</td>\n",
              "      <td>152.137818</td>\n",
              "      <td>322.376099</td>\n",
              "      <td>67718.299941</td>\n",
              "      <td>79154.148785</td>\n",
              "    </tr>\n",
              "    <tr>\n",
              "      <th>1</th>\n",
              "      <td>64.786541</td>\n",
              "      <td>19.326810</td>\n",
              "      <td>6</td>\n",
              "      <td>373.525601</td>\n",
              "      <td>504.680106</td>\n",
              "      <td>89566.268364</td>\n",
              "      <td>74493.701655</td>\n",
              "    </tr>\n",
              "    <tr>\n",
              "      <th>2</th>\n",
              "      <td>59.640944</td>\n",
              "      <td>15.145311</td>\n",
              "      <td>9</td>\n",
              "      <td>229.380445</td>\n",
              "      <td>673.076293</td>\n",
              "      <td>83377.404328</td>\n",
              "      <td>77280.680750</td>\n",
              "    </tr>\n",
              "    <tr>\n",
              "      <th>3</th>\n",
              "      <td>63.429867</td>\n",
              "      <td>12.420940</td>\n",
              "      <td>9</td>\n",
              "      <td>154.279761</td>\n",
              "      <td>682.657267</td>\n",
              "      <td>70718.231374</td>\n",
              "      <td>79096.480075</td>\n",
              "    </tr>\n",
              "    <tr>\n",
              "      <th>4</th>\n",
              "      <td>62.516159</td>\n",
              "      <td>17.763009</td>\n",
              "      <td>9</td>\n",
              "      <td>315.524506</td>\n",
              "      <td>722.512514</td>\n",
              "      <td>70341.387584</td>\n",
              "      <td>75535.978605</td>\n",
              "    </tr>\n",
              "  </tbody>\n",
              "</table>\n",
              "</div>\n",
              "      <button class=\"colab-df-convert\" onclick=\"convertToInteractive('df-476d330f-5e31-4771-996a-447571397d88')\"\n",
              "              title=\"Convert this dataframe to an interactive table.\"\n",
              "              style=\"display:none;\">\n",
              "        \n",
              "  <svg xmlns=\"http://www.w3.org/2000/svg\" height=\"24px\"viewBox=\"0 0 24 24\"\n",
              "       width=\"24px\">\n",
              "    <path d=\"M0 0h24v24H0V0z\" fill=\"none\"/>\n",
              "    <path d=\"M18.56 5.44l.94 2.06.94-2.06 2.06-.94-2.06-.94-.94-2.06-.94 2.06-2.06.94zm-11 1L8.5 8.5l.94-2.06 2.06-.94-2.06-.94L8.5 2.5l-.94 2.06-2.06.94zm10 10l.94 2.06.94-2.06 2.06-.94-2.06-.94-.94-2.06-.94 2.06-2.06.94z\"/><path d=\"M17.41 7.96l-1.37-1.37c-.4-.4-.92-.59-1.43-.59-.52 0-1.04.2-1.43.59L10.3 9.45l-7.72 7.72c-.78.78-.78 2.05 0 2.83L4 21.41c.39.39.9.59 1.41.59.51 0 1.02-.2 1.41-.59l7.78-7.78 2.81-2.81c.8-.78.8-2.07 0-2.86zM5.41 20L4 18.59l7.72-7.72 1.47 1.35L5.41 20z\"/>\n",
              "  </svg>\n",
              "      </button>\n",
              "      \n",
              "  <style>\n",
              "    .colab-df-container {\n",
              "      display:flex;\n",
              "      flex-wrap:wrap;\n",
              "      gap: 12px;\n",
              "    }\n",
              "\n",
              "    .colab-df-convert {\n",
              "      background-color: #E8F0FE;\n",
              "      border: none;\n",
              "      border-radius: 50%;\n",
              "      cursor: pointer;\n",
              "      display: none;\n",
              "      fill: #1967D2;\n",
              "      height: 32px;\n",
              "      padding: 0 0 0 0;\n",
              "      width: 32px;\n",
              "    }\n",
              "\n",
              "    .colab-df-convert:hover {\n",
              "      background-color: #E2EBFA;\n",
              "      box-shadow: 0px 1px 2px rgba(60, 64, 67, 0.3), 0px 1px 3px 1px rgba(60, 64, 67, 0.15);\n",
              "      fill: #174EA6;\n",
              "    }\n",
              "\n",
              "    [theme=dark] .colab-df-convert {\n",
              "      background-color: #3B4455;\n",
              "      fill: #D2E3FC;\n",
              "    }\n",
              "\n",
              "    [theme=dark] .colab-df-convert:hover {\n",
              "      background-color: #434B5C;\n",
              "      box-shadow: 0px 1px 3px 1px rgba(0, 0, 0, 0.15);\n",
              "      filter: drop-shadow(0px 1px 2px rgba(0, 0, 0, 0.3));\n",
              "      fill: #FFFFFF;\n",
              "    }\n",
              "  </style>\n",
              "\n",
              "      <script>\n",
              "        const buttonEl =\n",
              "          document.querySelector('#df-476d330f-5e31-4771-996a-447571397d88 button.colab-df-convert');\n",
              "        buttonEl.style.display =\n",
              "          google.colab.kernel.accessAllowed ? 'block' : 'none';\n",
              "\n",
              "        async function convertToInteractive(key) {\n",
              "          const element = document.querySelector('#df-476d330f-5e31-4771-996a-447571397d88');\n",
              "          const dataTable =\n",
              "            await google.colab.kernel.invokeFunction('convertToInteractive',\n",
              "                                                     [key], {});\n",
              "          if (!dataTable) return;\n",
              "\n",
              "          const docLinkHtml = 'Like what you see? Visit the ' +\n",
              "            '<a target=\"_blank\" href=https://colab.research.google.com/notebooks/data_table.ipynb>data table notebook</a>'\n",
              "            + ' to learn more about interactive tables.';\n",
              "          element.innerHTML = '';\n",
              "          dataTable['output_type'] = 'display_data';\n",
              "          await google.colab.output.renderOutput(dataTable, element);\n",
              "          const docLink = document.createElement('div');\n",
              "          docLink.innerHTML = docLinkHtml;\n",
              "          element.appendChild(docLink);\n",
              "        }\n",
              "      </script>\n",
              "    </div>\n",
              "  </div>\n",
              "  "
            ]
          },
          "metadata": {},
          "execution_count": 511
        }
      ],
      "source": [
        "# Creating a new column to place contents of the result variable\n",
        "Testset[\"Predicted Salary Using Sklearn method\"]= result\n",
        "Testset.head()"
      ]
    },
    {
      "cell_type": "code",
      "execution_count": 512,
      "metadata": {
        "colab": {
          "base_uri": "https://localhost:8080/",
          "height": 267
        },
        "id": "nzaL0hxVpLKw",
        "outputId": "bedff750-acbd-4294-a024-3bcb16cff15c"
      },
      "outputs": [
        {
          "output_type": "execute_result",
          "data": {
            "text/plain": [
              "         Age  YearsExperience  Years of Education  QYearsExperience  \\\n",
              "0  52.140804        12.334416                   5        152.137818   \n",
              "1  64.786541        19.326810                   6        373.525601   \n",
              "2  59.640944        15.145311                   9        229.380445   \n",
              "3  63.429867        12.420940                   9        154.279761   \n",
              "4  62.516159        17.763009                   9        315.524506   \n",
              "\n",
              "   CombinedParameter        Salary  Predicted Salary Using Sklearn method  \\\n",
              "0         322.376099  67718.299941                           79154.148785   \n",
              "1         504.680106  89566.268364                           74493.701655   \n",
              "2         673.076293  83377.404328                           77280.680750   \n",
              "3         682.657267  70718.231374                           79096.480075   \n",
              "4         722.512514  70341.387584                           75535.978605   \n",
              "\n",
              "   Prediction Error Using Sklearn method  \n",
              "0                          -11435.848844  \n",
              "1                           15072.566709  \n",
              "2                            6096.723578  \n",
              "3                           -8378.248701  \n",
              "4                           -5194.591021  "
            ],
            "text/html": [
              "\n",
              "  <div id=\"df-7ca07b77-5b16-42a1-b8f1-8e950f1cfa08\">\n",
              "    <div class=\"colab-df-container\">\n",
              "      <div>\n",
              "<style scoped>\n",
              "    .dataframe tbody tr th:only-of-type {\n",
              "        vertical-align: middle;\n",
              "    }\n",
              "\n",
              "    .dataframe tbody tr th {\n",
              "        vertical-align: top;\n",
              "    }\n",
              "\n",
              "    .dataframe thead th {\n",
              "        text-align: right;\n",
              "    }\n",
              "</style>\n",
              "<table border=\"1\" class=\"dataframe\">\n",
              "  <thead>\n",
              "    <tr style=\"text-align: right;\">\n",
              "      <th></th>\n",
              "      <th>Age</th>\n",
              "      <th>YearsExperience</th>\n",
              "      <th>Years of Education</th>\n",
              "      <th>QYearsExperience</th>\n",
              "      <th>CombinedParameter</th>\n",
              "      <th>Salary</th>\n",
              "      <th>Predicted Salary Using Sklearn method</th>\n",
              "      <th>Prediction Error Using Sklearn method</th>\n",
              "    </tr>\n",
              "  </thead>\n",
              "  <tbody>\n",
              "    <tr>\n",
              "      <th>0</th>\n",
              "      <td>52.140804</td>\n",
              "      <td>12.334416</td>\n",
              "      <td>5</td>\n",
              "      <td>152.137818</td>\n",
              "      <td>322.376099</td>\n",
              "      <td>67718.299941</td>\n",
              "      <td>79154.148785</td>\n",
              "      <td>-11435.848844</td>\n",
              "    </tr>\n",
              "    <tr>\n",
              "      <th>1</th>\n",
              "      <td>64.786541</td>\n",
              "      <td>19.326810</td>\n",
              "      <td>6</td>\n",
              "      <td>373.525601</td>\n",
              "      <td>504.680106</td>\n",
              "      <td>89566.268364</td>\n",
              "      <td>74493.701655</td>\n",
              "      <td>15072.566709</td>\n",
              "    </tr>\n",
              "    <tr>\n",
              "      <th>2</th>\n",
              "      <td>59.640944</td>\n",
              "      <td>15.145311</td>\n",
              "      <td>9</td>\n",
              "      <td>229.380445</td>\n",
              "      <td>673.076293</td>\n",
              "      <td>83377.404328</td>\n",
              "      <td>77280.680750</td>\n",
              "      <td>6096.723578</td>\n",
              "    </tr>\n",
              "    <tr>\n",
              "      <th>3</th>\n",
              "      <td>63.429867</td>\n",
              "      <td>12.420940</td>\n",
              "      <td>9</td>\n",
              "      <td>154.279761</td>\n",
              "      <td>682.657267</td>\n",
              "      <td>70718.231374</td>\n",
              "      <td>79096.480075</td>\n",
              "      <td>-8378.248701</td>\n",
              "    </tr>\n",
              "    <tr>\n",
              "      <th>4</th>\n",
              "      <td>62.516159</td>\n",
              "      <td>17.763009</td>\n",
              "      <td>9</td>\n",
              "      <td>315.524506</td>\n",
              "      <td>722.512514</td>\n",
              "      <td>70341.387584</td>\n",
              "      <td>75535.978605</td>\n",
              "      <td>-5194.591021</td>\n",
              "    </tr>\n",
              "  </tbody>\n",
              "</table>\n",
              "</div>\n",
              "      <button class=\"colab-df-convert\" onclick=\"convertToInteractive('df-7ca07b77-5b16-42a1-b8f1-8e950f1cfa08')\"\n",
              "              title=\"Convert this dataframe to an interactive table.\"\n",
              "              style=\"display:none;\">\n",
              "        \n",
              "  <svg xmlns=\"http://www.w3.org/2000/svg\" height=\"24px\"viewBox=\"0 0 24 24\"\n",
              "       width=\"24px\">\n",
              "    <path d=\"M0 0h24v24H0V0z\" fill=\"none\"/>\n",
              "    <path d=\"M18.56 5.44l.94 2.06.94-2.06 2.06-.94-2.06-.94-.94-2.06-.94 2.06-2.06.94zm-11 1L8.5 8.5l.94-2.06 2.06-.94-2.06-.94L8.5 2.5l-.94 2.06-2.06.94zm10 10l.94 2.06.94-2.06 2.06-.94-2.06-.94-.94-2.06-.94 2.06-2.06.94z\"/><path d=\"M17.41 7.96l-1.37-1.37c-.4-.4-.92-.59-1.43-.59-.52 0-1.04.2-1.43.59L10.3 9.45l-7.72 7.72c-.78.78-.78 2.05 0 2.83L4 21.41c.39.39.9.59 1.41.59.51 0 1.02-.2 1.41-.59l7.78-7.78 2.81-2.81c.8-.78.8-2.07 0-2.86zM5.41 20L4 18.59l7.72-7.72 1.47 1.35L5.41 20z\"/>\n",
              "  </svg>\n",
              "      </button>\n",
              "      \n",
              "  <style>\n",
              "    .colab-df-container {\n",
              "      display:flex;\n",
              "      flex-wrap:wrap;\n",
              "      gap: 12px;\n",
              "    }\n",
              "\n",
              "    .colab-df-convert {\n",
              "      background-color: #E8F0FE;\n",
              "      border: none;\n",
              "      border-radius: 50%;\n",
              "      cursor: pointer;\n",
              "      display: none;\n",
              "      fill: #1967D2;\n",
              "      height: 32px;\n",
              "      padding: 0 0 0 0;\n",
              "      width: 32px;\n",
              "    }\n",
              "\n",
              "    .colab-df-convert:hover {\n",
              "      background-color: #E2EBFA;\n",
              "      box-shadow: 0px 1px 2px rgba(60, 64, 67, 0.3), 0px 1px 3px 1px rgba(60, 64, 67, 0.15);\n",
              "      fill: #174EA6;\n",
              "    }\n",
              "\n",
              "    [theme=dark] .colab-df-convert {\n",
              "      background-color: #3B4455;\n",
              "      fill: #D2E3FC;\n",
              "    }\n",
              "\n",
              "    [theme=dark] .colab-df-convert:hover {\n",
              "      background-color: #434B5C;\n",
              "      box-shadow: 0px 1px 3px 1px rgba(0, 0, 0, 0.15);\n",
              "      filter: drop-shadow(0px 1px 2px rgba(0, 0, 0, 0.3));\n",
              "      fill: #FFFFFF;\n",
              "    }\n",
              "  </style>\n",
              "\n",
              "      <script>\n",
              "        const buttonEl =\n",
              "          document.querySelector('#df-7ca07b77-5b16-42a1-b8f1-8e950f1cfa08 button.colab-df-convert');\n",
              "        buttonEl.style.display =\n",
              "          google.colab.kernel.accessAllowed ? 'block' : 'none';\n",
              "\n",
              "        async function convertToInteractive(key) {\n",
              "          const element = document.querySelector('#df-7ca07b77-5b16-42a1-b8f1-8e950f1cfa08');\n",
              "          const dataTable =\n",
              "            await google.colab.kernel.invokeFunction('convertToInteractive',\n",
              "                                                     [key], {});\n",
              "          if (!dataTable) return;\n",
              "\n",
              "          const docLinkHtml = 'Like what you see? Visit the ' +\n",
              "            '<a target=\"_blank\" href=https://colab.research.google.com/notebooks/data_table.ipynb>data table notebook</a>'\n",
              "            + ' to learn more about interactive tables.';\n",
              "          element.innerHTML = '';\n",
              "          dataTable['output_type'] = 'display_data';\n",
              "          await google.colab.output.renderOutput(dataTable, element);\n",
              "          const docLink = document.createElement('div');\n",
              "          docLink.innerHTML = docLinkHtml;\n",
              "          element.appendChild(docLink);\n",
              "        }\n",
              "      </script>\n",
              "    </div>\n",
              "  </div>\n",
              "  "
            ]
          },
          "metadata": {},
          "execution_count": 512
        }
      ],
      "source": [
        "# Created a new column to show the error current salary minus predicted salary\n",
        "Testset[\"Prediction Error Using Sklearn method\"] = Testset[\"Salary\"]-Testset[\"Predicted Salary Using Sklearn method\"]\n",
        "Testset.head()"
      ]
    },
    {
      "cell_type": "code",
      "execution_count": 513,
      "metadata": {
        "colab": {
          "base_uri": "https://localhost:8080/",
          "height": 312
        },
        "id": "siJbWEBdpQo6",
        "outputId": "d5196b9c-dc1d-4bd6-fea8-43c428ecfbb5"
      },
      "outputs": [
        {
          "output_type": "execute_result",
          "data": {
            "text/plain": [
              "Text(0.5, 1.0, 'Linear Regression: Years of Experience vS Corresponding Salary ')"
            ]
          },
          "metadata": {},
          "execution_count": 513
        },
        {
          "output_type": "display_data",
          "data": {
            "text/plain": [
              "<Figure size 432x288 with 1 Axes>"
            ],
            "image/png": "[encoded data removed]"
          },
          "metadata": {
            "needs_background": "light"
          }
        }
      ],
      "source": [
        "# Plotting Linear Regression graph with Sklearn  \n",
        "plt.scatter(Testset[\"YearsExperience\"], Testset[\"Salary\"])\n",
        "plt.plot(Testset[\"YearsExperience\"],Testset[\"Predicted Salary Using Sklearn method\"], color=\"green\")\n",
        "plt.ylabel(\"Salary\")\n",
        "plt.xlabel(\"Years of Experience\")\n",
        "plt.title(\"Linear Regression: Years of Experience vS Corresponding Salary \")"
      ]
    },
    {
      "cell_type": "code",
      "execution_count": 514,
      "metadata": {
        "id": "NgzST9RBqK5N"
      },
      "outputs": [],
      "source": [
        "m=lm.coef_"
      ]
    },
    {
      "cell_type": "code",
      "execution_count": 515,
      "metadata": {
        "id": "fq3xx4mEqRaj"
      },
      "outputs": [],
      "source": [
        "b=lm.intercept_"
      ]
    },
    {
      "cell_type": "code",
      "execution_count": 516,
      "metadata": {
        "colab": {
          "base_uri": "https://localhost:8080/"
        },
        "id": "ksNgIQWNqa-Z",
        "outputId": "cc9f0f4b-13b6-4e1b-dc8c-34d9b5977643"
      },
      "outputs": [
        {
          "output_type": "execute_result",
          "data": {
            "text/plain": [
              "array([[82709.54946076]])"
            ]
          },
          "metadata": {},
          "execution_count": 516
        }
      ],
      "source": [
        "#Testing for 7 years of experience\n",
        "Salary = b + m * 7\n",
        "Salary"
      ]
    },
    {
      "cell_type": "code",
      "execution_count": 517,
      "metadata": {
        "colab": {
          "base_uri": "https://localhost:8080/"
        },
        "id": "YHslG1s_qpaf",
        "outputId": "10857512-c98b-4d0f-c8a9-47d78b17652b"
      },
      "outputs": [
        {
          "output_type": "stream",
          "name": "stderr",
          "text": [
            "/usr/local/lib/python3.7/dist-packages/sklearn/base.py:451: UserWarning: X does not have valid feature names, but LinearRegression was fitted with feature names\n",
            "  \"X does not have valid feature names, but\"\n"
          ]
        },
        {
          "output_type": "execute_result",
          "data": {
            "text/plain": [
              "array([[82709.54946076]])"
            ]
          },
          "metadata": {},
          "execution_count": 517
        }
      ],
      "source": [
        "lm.predict([[7]]) "
      ]
    },
    {
      "cell_type": "code",
      "source": [
        "assert Salary == lm.predict([[7]])"
      ],
      "metadata": {
        "colab": {
          "base_uri": "https://localhost:8080/"
        },
        "id": "8BXMUSivOLHB",
        "outputId": "fc1228a8-201f-4535-c313-08c425af9bf7"
      },
      "execution_count": 518,
      "outputs": [
        {
          "output_type": "stream",
          "name": "stderr",
          "text": [
            "/usr/local/lib/python3.7/dist-packages/sklearn/base.py:451: UserWarning: X does not have valid feature names, but LinearRegression was fitted with feature names\n",
            "  \"X does not have valid feature names, but\"\n"
          ]
        }
      ]
    },
    {
      "cell_type": "markdown",
      "metadata": {
        "id": "iGNEIWBjqFyu"
      },
      "source": [
        "AGE VS SALARY CONDITION"
      ]
    },
    {
      "cell_type": "code",
      "execution_count": 519,
      "metadata": {
        "colab": {
          "base_uri": "https://localhost:8080/",
          "height": 296
        },
        "id": "Pg2_Kzd2PddU",
        "outputId": "516b2b43-ad4e-402d-875a-758948bae44c"
      },
      "outputs": [
        {
          "output_type": "execute_result",
          "data": {
            "text/plain": [
              "<matplotlib.axes._subplots.AxesSubplot at 0x7fb241620050>"
            ]
          },
          "metadata": {},
          "execution_count": 519
        },
        {
          "output_type": "display_data",
          "data": {
            "text/plain": [
              "<Figure size 432x288 with 1 Axes>"
            ],
            "image/png": "[encoded data removed]"
          },
          "metadata": {
            "needs_background": "light"
          }
        }
      ],
      "source": [
        "sns.scatterplot(data=Testset, x=\"Age\",y=\"Salary\")"
      ]
    },
    {
      "cell_type": "code",
      "execution_count": 520,
      "metadata": {
        "id": "weVfbohlpVCy"
      },
      "outputs": [],
      "source": [
        "# Conducting Linear Regression method and inserting data using the fit method\n",
        "# Fit function adjusts weights according to data values so that better accuracy can be achieved\n",
        "\n",
        "lm = linear_model.LinearRegression(). fit(Training[[\"Age\"]],Training[[\"Salary\"]])\n",
        "# Using the predict method\n",
        "result=lm.predict (Testset[[\"Age\"]])"
      ]
    },
    {
      "cell_type": "code",
      "execution_count": 521,
      "metadata": {
        "colab": {
          "base_uri": "https://localhost:8080/",
          "height": 267
        },
        "id": "m9mZK7VQpb6c",
        "outputId": "a12dcdc3-34f1-462d-b8ce-03d87d6763c3"
      },
      "outputs": [
        {
          "output_type": "execute_result",
          "data": {
            "text/plain": [
              "         Age  YearsExperience  Years of Education  QYearsExperience  \\\n",
              "0  52.140804        12.334416                   5        152.137818   \n",
              "1  64.786541        19.326810                   6        373.525601   \n",
              "2  59.640944        15.145311                   9        229.380445   \n",
              "3  63.429867        12.420940                   9        154.279761   \n",
              "4  62.516159        17.763009                   9        315.524506   \n",
              "\n",
              "   CombinedParameter        Salary  Predicted Salary Using Sklearn method  \\\n",
              "0         322.376099  67718.299941                           78353.749537   \n",
              "1         504.680106  89566.268364                           74112.769176   \n",
              "2         673.076293  83377.404328                           75838.439652   \n",
              "3         682.657267  70718.231374                           74567.754566   \n",
              "4         722.512514  70341.387584                           74874.183449   \n",
              "\n",
              "   Prediction Error Using Sklearn method  \n",
              "0                          -10635.449597  \n",
              "1                           15453.499188  \n",
              "2                            7538.964676  \n",
              "3                           -3849.523192  \n",
              "4                           -4532.795865  "
            ],
            "text/html": [
              "\n",
              "  <div id=\"df-a82cb6d7-bd07-4555-98aa-c5cce033f66d\">\n",
              "    <div class=\"colab-df-container\">\n",
              "      <div>\n",
              "<style scoped>\n",
              "    .dataframe tbody tr th:only-of-type {\n",
              "        vertical-align: middle;\n",
              "    }\n",
              "\n",
              "    .dataframe tbody tr th {\n",
              "        vertical-align: top;\n",
              "    }\n",
              "\n",
              "    .dataframe thead th {\n",
              "        text-align: right;\n",
              "    }\n",
              "</style>\n",
              "<table border=\"1\" class=\"dataframe\">\n",
              "  <thead>\n",
              "    <tr style=\"text-align: right;\">\n",
              "      <th></th>\n",
              "      <th>Age</th>\n",
              "      <th>YearsExperience</th>\n",
              "      <th>Years of Education</th>\n",
              "      <th>QYearsExperience</th>\n",
              "      <th>CombinedParameter</th>\n",
              "      <th>Salary</th>\n",
              "      <th>Predicted Salary Using Sklearn method</th>\n",
              "      <th>Prediction Error Using Sklearn method</th>\n",
              "    </tr>\n",
              "  </thead>\n",
              "  <tbody>\n",
              "    <tr>\n",
              "      <th>0</th>\n",
              "      <td>52.140804</td>\n",
              "      <td>12.334416</td>\n",
              "      <td>5</td>\n",
              "      <td>152.137818</td>\n",
              "      <td>322.376099</td>\n",
              "      <td>67718.299941</td>\n",
              "      <td>78353.749537</td>\n",
              "      <td>-10635.449597</td>\n",
              "    </tr>\n",
              "    <tr>\n",
              "      <th>1</th>\n",
              "      <td>64.786541</td>\n",
              "      <td>19.326810</td>\n",
              "      <td>6</td>\n",
              "      <td>373.525601</td>\n",
              "      <td>504.680106</td>\n",
              "      <td>89566.268364</td>\n",
              "      <td>74112.769176</td>\n",
              "      <td>15453.499188</td>\n",
              "    </tr>\n",
              "    <tr>\n",
              "      <th>2</th>\n",
              "      <td>59.640944</td>\n",
              "      <td>15.145311</td>\n",
              "      <td>9</td>\n",
              "      <td>229.380445</td>\n",
              "      <td>673.076293</td>\n",
              "      <td>83377.404328</td>\n",
              "      <td>75838.439652</td>\n",
              "      <td>7538.964676</td>\n",
              "    </tr>\n",
              "    <tr>\n",
              "      <th>3</th>\n",
              "      <td>63.429867</td>\n",
              "      <td>12.420940</td>\n",
              "      <td>9</td>\n",
              "      <td>154.279761</td>\n",
              "      <td>682.657267</td>\n",
              "      <td>70718.231374</td>\n",
              "      <td>74567.754566</td>\n",
              "      <td>-3849.523192</td>\n",
              "    </tr>\n",
              "    <tr>\n",
              "      <th>4</th>\n",
              "      <td>62.516159</td>\n",
              "      <td>17.763009</td>\n",
              "      <td>9</td>\n",
              "      <td>315.524506</td>\n",
              "      <td>722.512514</td>\n",
              "      <td>70341.387584</td>\n",
              "      <td>74874.183449</td>\n",
              "      <td>-4532.795865</td>\n",
              "    </tr>\n",
              "  </tbody>\n",
              "</table>\n",
              "</div>\n",
              "      <button class=\"colab-df-convert\" onclick=\"convertToInteractive('df-a82cb6d7-bd07-4555-98aa-c5cce033f66d')\"\n",
              "              title=\"Convert this dataframe to an interactive table.\"\n",
              "              style=\"display:none;\">\n",
              "        \n",
              "  <svg xmlns=\"http://www.w3.org/2000/svg\" height=\"24px\"viewBox=\"0 0 24 24\"\n",
              "       width=\"24px\">\n",
              "    <path d=\"M0 0h24v24H0V0z\" fill=\"none\"/>\n",
              "    <path d=\"M18.56 5.44l.94 2.06.94-2.06 2.06-.94-2.06-.94-.94-2.06-.94 2.06-2.06.94zm-11 1L8.5 8.5l.94-2.06 2.06-.94-2.06-.94L8.5 2.5l-.94 2.06-2.06.94zm10 10l.94 2.06.94-2.06 2.06-.94-2.06-.94-.94-2.06-.94 2.06-2.06.94z\"/><path d=\"M17.41 7.96l-1.37-1.37c-.4-.4-.92-.59-1.43-.59-.52 0-1.04.2-1.43.59L10.3 9.45l-7.72 7.72c-.78.78-.78 2.05 0 2.83L4 21.41c.39.39.9.59 1.41.59.51 0 1.02-.2 1.41-.59l7.78-7.78 2.81-2.81c.8-.78.8-2.07 0-2.86zM5.41 20L4 18.59l7.72-7.72 1.47 1.35L5.41 20z\"/>\n",
              "  </svg>\n",
              "      </button>\n",
              "      \n",
              "  <style>\n",
              "    .colab-df-container {\n",
              "      display:flex;\n",
              "      flex-wrap:wrap;\n",
              "      gap: 12px;\n",
              "    }\n",
              "\n",
              "    .colab-df-convert {\n",
              "      background-color: #E8F0FE;\n",
              "      border: none;\n",
              "      border-radius: 50%;\n",
              "      cursor: pointer;\n",
              "      display: none;\n",
              "      fill: #1967D2;\n",
              "      height: 32px;\n",
              "      padding: 0 0 0 0;\n",
              "      width: 32px;\n",
              "    }\n",
              "\n",
              "    .colab-df-convert:hover {\n",
              "      background-color: #E2EBFA;\n",
              "      box-shadow: 0px 1px 2px rgba(60, 64, 67, 0.3), 0px 1px 3px 1px rgba(60, 64, 67, 0.15);\n",
              "      fill: #174EA6;\n",
              "    }\n",
              "\n",
              "    [theme=dark] .colab-df-convert {\n",
              "      background-color: #3B4455;\n",
              "      fill: #D2E3FC;\n",
              "    }\n",
              "\n",
              "    [theme=dark] .colab-df-convert:hover {\n",
              "      background-color: #434B5C;\n",
              "      box-shadow: 0px 1px 3px 1px rgba(0, 0, 0, 0.15);\n",
              "      filter: drop-shadow(0px 1px 2px rgba(0, 0, 0, 0.3));\n",
              "      fill: #FFFFFF;\n",
              "    }\n",
              "  </style>\n",
              "\n",
              "      <script>\n",
              "        const buttonEl =\n",
              "          document.querySelector('#df-a82cb6d7-bd07-4555-98aa-c5cce033f66d button.colab-df-convert');\n",
              "        buttonEl.style.display =\n",
              "          google.colab.kernel.accessAllowed ? 'block' : 'none';\n",
              "\n",
              "        async function convertToInteractive(key) {\n",
              "          const element = document.querySelector('#df-a82cb6d7-bd07-4555-98aa-c5cce033f66d');\n",
              "          const dataTable =\n",
              "            await google.colab.kernel.invokeFunction('convertToInteractive',\n",
              "                                                     [key], {});\n",
              "          if (!dataTable) return;\n",
              "\n",
              "          const docLinkHtml = 'Like what you see? Visit the ' +\n",
              "            '<a target=\"_blank\" href=https://colab.research.google.com/notebooks/data_table.ipynb>data table notebook</a>'\n",
              "            + ' to learn more about interactive tables.';\n",
              "          element.innerHTML = '';\n",
              "          dataTable['output_type'] = 'display_data';\n",
              "          await google.colab.output.renderOutput(dataTable, element);\n",
              "          const docLink = document.createElement('div');\n",
              "          docLink.innerHTML = docLinkHtml;\n",
              "          element.appendChild(docLink);\n",
              "        }\n",
              "      </script>\n",
              "    </div>\n",
              "  </div>\n",
              "  "
            ]
          },
          "metadata": {},
          "execution_count": 521
        }
      ],
      "source": [
        "# Creating a new column to place contents of the result variable\n",
        "Testset[\"Predicted Salary Using Sklearn method\"]= result\n",
        "Testset[\"Prediction Error Using Sklearn method\"] = Testset[\"Salary\"]-Testset[\"Predicted Salary Using Sklearn method\"]\n",
        "Testset.head()"
      ]
    },
    {
      "cell_type": "code",
      "execution_count": 522,
      "metadata": {
        "colab": {
          "base_uri": "https://localhost:8080/",
          "height": 312
        },
        "id": "EqCxXV1Hpz92",
        "outputId": "b9937422-3564-4a36-d384-ea789335ccfe"
      },
      "outputs": [
        {
          "output_type": "execute_result",
          "data": {
            "text/plain": [
              "Text(0.5, 1.0, 'Linear Regression: Age vS Corresponding Salary ')"
            ]
          },
          "metadata": {},
          "execution_count": 522
        },
        {
          "output_type": "display_data",
          "data": {
            "text/plain": [
              "<Figure size 432x288 with 1 Axes>"
            ],
            "image/png": "[encoded data removed]"
          },
          "metadata": {
            "needs_background": "light"
          }
        }
      ],
      "source": [
        "plt.scatter(Testset[\"Age\"], Testset[\"Salary\"])\n",
        "plt.plot(Testset[\"Age\"],Testset[\"Predicted Salary Using Sklearn method\"], color=\"orange\")\n",
        "plt.ylabel(\"Salary\")\n",
        "plt.xlabel(\"Age\")\n",
        "plt.title(\"Linear Regression: Age vS Corresponding Salary \")"
      ]
    },
    {
      "cell_type": "code",
      "execution_count": 523,
      "metadata": {
        "id": "xyIVoYreq3dH"
      },
      "outputs": [],
      "source": [
        "m=lm.coef_"
      ]
    },
    {
      "cell_type": "code",
      "execution_count": 524,
      "metadata": {
        "id": "2vKSTEQEq6UU"
      },
      "outputs": [],
      "source": [
        "b=lm.intercept_"
      ]
    },
    {
      "cell_type": "code",
      "execution_count": 525,
      "metadata": {
        "colab": {
          "base_uri": "https://localhost:8080/"
        },
        "id": "Mfik9PuDrAiM",
        "outputId": "ac0d52fa-1b47-4a24-a1a8-ee4a92b2f771"
      },
      "outputs": [
        {
          "output_type": "execute_result",
          "data": {
            "text/plain": [
              "array([[93492.54811139]])"
            ]
          },
          "metadata": {},
          "execution_count": 525
        }
      ],
      "source": [
        "#Testing for 7 years of experience\n",
        "Salary = b + m * 7\n",
        "Salary"
      ]
    },
    {
      "cell_type": "code",
      "execution_count": 526,
      "metadata": {
        "colab": {
          "base_uri": "https://localhost:8080/"
        },
        "id": "cOZBSt_irH-y",
        "outputId": "ea59c85c-83e6-4952-b8ed-7d5bd6b308c9"
      },
      "outputs": [
        {
          "output_type": "stream",
          "name": "stderr",
          "text": [
            "/usr/local/lib/python3.7/dist-packages/sklearn/base.py:451: UserWarning: X does not have valid feature names, but LinearRegression was fitted with feature names\n",
            "  \"X does not have valid feature names, but\"\n"
          ]
        },
        {
          "output_type": "execute_result",
          "data": {
            "text/plain": [
              "array([[93492.54811139]])"
            ]
          },
          "metadata": {},
          "execution_count": 526
        }
      ],
      "source": [
        "lm.predict([[7]])"
      ]
    },
    {
      "cell_type": "code",
      "source": [
        "assert Salary == lm.predict([[7]])"
      ],
      "metadata": {
        "colab": {
          "base_uri": "https://localhost:8080/"
        },
        "id": "dhU5WROKOnvS",
        "outputId": "6eab05ec-b71d-414e-b7a3-bc2d54c21812"
      },
      "execution_count": 527,
      "outputs": [
        {
          "output_type": "stream",
          "name": "stderr",
          "text": [
            "/usr/local/lib/python3.7/dist-packages/sklearn/base.py:451: UserWarning: X does not have valid feature names, but LinearRegression was fitted with feature names\n",
            "  \"X does not have valid feature names, but\"\n"
          ]
        }
      ]
    },
    {
      "cell_type": "markdown",
      "source": [
        "YEARS OF EDUCATION VS SALARY"
      ],
      "metadata": {
        "id": "97IQhS-s5fFi"
      }
    },
    {
      "cell_type": "code",
      "source": [
        "sns.scatterplot(data=Testset, x=\"Years of Education\",y=\"Salary\")"
      ],
      "metadata": {
        "colab": {
          "base_uri": "https://localhost:8080/",
          "height": 296
        },
        "id": "gut-djL05ixa",
        "outputId": "d6f5bafa-69f0-4b94-fe4d-4077fc0cc513"
      },
      "execution_count": 528,
      "outputs": [
        {
          "output_type": "execute_result",
          "data": {
            "text/plain": [
              "<matplotlib.axes._subplots.AxesSubplot at 0x7fb2415cfa90>"
            ]
          },
          "metadata": {},
          "execution_count": 528
        },
        {
          "output_type": "display_data",
          "data": {
            "text/plain": [
              "<Figure size 432x288 with 1 Axes>"
            ],
            "image/png": "[encoded data removed]"
          },
          "metadata": {
            "needs_background": "light"
          }
        }
      ]
    },
    {
      "cell_type": "code",
      "source": [
        "# Conducting Linear Regression method and inserting data using the fit method\n",
        "# Fit function adjusts weights according to data values so that better accuracy can be achieved\n",
        "\n",
        "lm = linear_model.LinearRegression(). fit(Training[[\"Years of Education\"]],Training[[\"Salary\"]])\n",
        "# Using the predict method\n",
        "result=lm.predict (Testset[[\"Years of Education\"]])"
      ],
      "metadata": {
        "id": "hzKQu2F357Se"
      },
      "execution_count": 529,
      "outputs": []
    },
    {
      "cell_type": "code",
      "source": [
        "# Creating a new column to place contents of the result variable\n",
        "Testset[\"Predicted Salary Using Sklearn method\"]= result\n",
        "Testset[\"Prediction Error Using Sklearn method\"] = Testset[\"Salary\"]-Testset[\"Predicted Salary Using Sklearn method\"]\n",
        "Testset.head()"
      ],
      "metadata": {
        "colab": {
          "base_uri": "https://localhost:8080/",
          "height": 267
        },
        "id": "m9Mu9QCY6E4r",
        "outputId": "d0af5eaa-64d7-41e2-90af-47aa04bccff7"
      },
      "execution_count": 530,
      "outputs": [
        {
          "output_type": "execute_result",
          "data": {
            "text/plain": [
              "         Age  YearsExperience  Years of Education  QYearsExperience  \\\n",
              "0  52.140804        12.334416                   5        152.137818   \n",
              "1  64.786541        19.326810                   6        373.525601   \n",
              "2  59.640944        15.145311                   9        229.380445   \n",
              "3  63.429867        12.420940                   9        154.279761   \n",
              "4  62.516159        17.763009                   9        315.524506   \n",
              "\n",
              "   CombinedParameter        Salary  Predicted Salary Using Sklearn method  \\\n",
              "0         322.376099  67718.299941                           76490.796183   \n",
              "1         504.680106  89566.268364                           76599.402544   \n",
              "2         673.076293  83377.404328                           76925.221627   \n",
              "3         682.657267  70718.231374                           76925.221627   \n",
              "4         722.512514  70341.387584                           76925.221627   \n",
              "\n",
              "   Prediction Error Using Sklearn method  \n",
              "0                           -8772.496243  \n",
              "1                           12966.865820  \n",
              "2                            6452.182701  \n",
              "3                           -6206.990252  \n",
              "4                           -6583.834043  "
            ],
            "text/html": [
              "\n",
              "  <div id=\"df-44e2ac68-9f64-4eef-a9c9-e9bd2713d80d\">\n",
              "    <div class=\"colab-df-container\">\n",
              "      <div>\n",
              "<style scoped>\n",
              "    .dataframe tbody tr th:only-of-type {\n",
              "        vertical-align: middle;\n",
              "    }\n",
              "\n",
              "    .dataframe tbody tr th {\n",
              "        vertical-align: top;\n",
              "    }\n",
              "\n",
              "    .dataframe thead th {\n",
              "        text-align: right;\n",
              "    }\n",
              "</style>\n",
              "<table border=\"1\" class=\"dataframe\">\n",
              "  <thead>\n",
              "    <tr style=\"text-align: right;\">\n",
              "      <th></th>\n",
              "      <th>Age</th>\n",
              "      <th>YearsExperience</th>\n",
              "      <th>Years of Education</th>\n",
              "      <th>QYearsExperience</th>\n",
              "      <th>CombinedParameter</th>\n",
              "      <th>Salary</th>\n",
              "      <th>Predicted Salary Using Sklearn method</th>\n",
              "      <th>Prediction Error Using Sklearn method</th>\n",
              "    </tr>\n",
              "  </thead>\n",
              "  <tbody>\n",
              "    <tr>\n",
              "      <th>0</th>\n",
              "      <td>52.140804</td>\n",
              "      <td>12.334416</td>\n",
              "      <td>5</td>\n",
              "      <td>152.137818</td>\n",
              "      <td>322.376099</td>\n",
              "      <td>67718.299941</td>\n",
              "      <td>76490.796183</td>\n",
              "      <td>-8772.496243</td>\n",
              "    </tr>\n",
              "    <tr>\n",
              "      <th>1</th>\n",
              "      <td>64.786541</td>\n",
              "      <td>19.326810</td>\n",
              "      <td>6</td>\n",
              "      <td>373.525601</td>\n",
              "      <td>504.680106</td>\n",
              "      <td>89566.268364</td>\n",
              "      <td>76599.402544</td>\n",
              "      <td>12966.865820</td>\n",
              "    </tr>\n",
              "    <tr>\n",
              "      <th>2</th>\n",
              "      <td>59.640944</td>\n",
              "      <td>15.145311</td>\n",
              "      <td>9</td>\n",
              "      <td>229.380445</td>\n",
              "      <td>673.076293</td>\n",
              "      <td>83377.404328</td>\n",
              "      <td>76925.221627</td>\n",
              "      <td>6452.182701</td>\n",
              "    </tr>\n",
              "    <tr>\n",
              "      <th>3</th>\n",
              "      <td>63.429867</td>\n",
              "      <td>12.420940</td>\n",
              "      <td>9</td>\n",
              "      <td>154.279761</td>\n",
              "      <td>682.657267</td>\n",
              "      <td>70718.231374</td>\n",
              "      <td>76925.221627</td>\n",
              "      <td>-6206.990252</td>\n",
              "    </tr>\n",
              "    <tr>\n",
              "      <th>4</th>\n",
              "      <td>62.516159</td>\n",
              "      <td>17.763009</td>\n",
              "      <td>9</td>\n",
              "      <td>315.524506</td>\n",
              "      <td>722.512514</td>\n",
              "      <td>70341.387584</td>\n",
              "      <td>76925.221627</td>\n",
              "      <td>-6583.834043</td>\n",
              "    </tr>\n",
              "  </tbody>\n",
              "</table>\n",
              "</div>\n",
              "      <button class=\"colab-df-convert\" onclick=\"convertToInteractive('df-44e2ac68-9f64-4eef-a9c9-e9bd2713d80d')\"\n",
              "              title=\"Convert this dataframe to an interactive table.\"\n",
              "              style=\"display:none;\">\n",
              "        \n",
              "  <svg xmlns=\"http://www.w3.org/2000/svg\" height=\"24px\"viewBox=\"0 0 24 24\"\n",
              "       width=\"24px\">\n",
              "    <path d=\"M0 0h24v24H0V0z\" fill=\"none\"/>\n",
              "    <path d=\"M18.56 5.44l.94 2.06.94-2.06 2.06-.94-2.06-.94-.94-2.06-.94 2.06-2.06.94zm-11 1L8.5 8.5l.94-2.06 2.06-.94-2.06-.94L8.5 2.5l-.94 2.06-2.06.94zm10 10l.94 2.06.94-2.06 2.06-.94-2.06-.94-.94-2.06-.94 2.06-2.06.94z\"/><path d=\"M17.41 7.96l-1.37-1.37c-.4-.4-.92-.59-1.43-.59-.52 0-1.04.2-1.43.59L10.3 9.45l-7.72 7.72c-.78.78-.78 2.05 0 2.83L4 21.41c.39.39.9.59 1.41.59.51 0 1.02-.2 1.41-.59l7.78-7.78 2.81-2.81c.8-.78.8-2.07 0-2.86zM5.41 20L4 18.59l7.72-7.72 1.47 1.35L5.41 20z\"/>\n",
              "  </svg>\n",
              "      </button>\n",
              "      \n",
              "  <style>\n",
              "    .colab-df-container {\n",
              "      display:flex;\n",
              "      flex-wrap:wrap;\n",
              "      gap: 12px;\n",
              "    }\n",
              "\n",
              "    .colab-df-convert {\n",
              "      background-color: #E8F0FE;\n",
              "      border: none;\n",
              "      border-radius: 50%;\n",
              "      cursor: pointer;\n",
              "      display: none;\n",
              "      fill: #1967D2;\n",
              "      height: 32px;\n",
              "      padding: 0 0 0 0;\n",
              "      width: 32px;\n",
              "    }\n",
              "\n",
              "    .colab-df-convert:hover {\n",
              "      background-color: #E2EBFA;\n",
              "      box-shadow: 0px 1px 2px rgba(60, 64, 67, 0.3), 0px 1px 3px 1px rgba(60, 64, 67, 0.15);\n",
              "      fill: #174EA6;\n",
              "    }\n",
              "\n",
              "    [theme=dark] .colab-df-convert {\n",
              "      background-color: #3B4455;\n",
              "      fill: #D2E3FC;\n",
              "    }\n",
              "\n",
              "    [theme=dark] .colab-df-convert:hover {\n",
              "      background-color: #434B5C;\n",
              "      box-shadow: 0px 1px 3px 1px rgba(0, 0, 0, 0.15);\n",
              "      filter: drop-shadow(0px 1px 2px rgba(0, 0, 0, 0.3));\n",
              "      fill: #FFFFFF;\n",
              "    }\n",
              "  </style>\n",
              "\n",
              "      <script>\n",
              "        const buttonEl =\n",
              "          document.querySelector('#df-44e2ac68-9f64-4eef-a9c9-e9bd2713d80d button.colab-df-convert');\n",
              "        buttonEl.style.display =\n",
              "          google.colab.kernel.accessAllowed ? 'block' : 'none';\n",
              "\n",
              "        async function convertToInteractive(key) {\n",
              "          const element = document.querySelector('#df-44e2ac68-9f64-4eef-a9c9-e9bd2713d80d');\n",
              "          const dataTable =\n",
              "            await google.colab.kernel.invokeFunction('convertToInteractive',\n",
              "                                                     [key], {});\n",
              "          if (!dataTable) return;\n",
              "\n",
              "          const docLinkHtml = 'Like what you see? Visit the ' +\n",
              "            '<a target=\"_blank\" href=https://colab.research.google.com/notebooks/data_table.ipynb>data table notebook</a>'\n",
              "            + ' to learn more about interactive tables.';\n",
              "          element.innerHTML = '';\n",
              "          dataTable['output_type'] = 'display_data';\n",
              "          await google.colab.output.renderOutput(dataTable, element);\n",
              "          const docLink = document.createElement('div');\n",
              "          docLink.innerHTML = docLinkHtml;\n",
              "          element.appendChild(docLink);\n",
              "        }\n",
              "      </script>\n",
              "    </div>\n",
              "  </div>\n",
              "  "
            ]
          },
          "metadata": {},
          "execution_count": 530
        }
      ]
    },
    {
      "cell_type": "code",
      "source": [
        "plt.scatter(Testset[\"Years of Education\"], Testset[\"Salary\"])\n",
        "plt.plot(Testset[\"Years of Education\"],Testset[\"Predicted Salary Using Sklearn method\"], color=\"violet\")\n",
        "plt.ylabel(\"Salary\")\n",
        "plt.xlabel(\"Years of Education\")\n",
        "plt.title(\"Linear Regression: Years of Education vS Corresponding Salary \")"
      ],
      "metadata": {
        "colab": {
          "base_uri": "https://localhost:8080/",
          "height": 312
        },
        "id": "7-YV6GWC6Lrn",
        "outputId": "e5305873-c38a-4868-9d5c-baa8c36d4270"
      },
      "execution_count": 531,
      "outputs": [
        {
          "output_type": "execute_result",
          "data": {
            "text/plain": [
              "Text(0.5, 1.0, 'Linear Regression: Years of Education vS Corresponding Salary ')"
            ]
          },
          "metadata": {},
          "execution_count": 531
        },
        {
          "output_type": "display_data",
          "data": {
            "text/plain": [
              "<Figure size 432x288 with 1 Axes>"
            ],
            "image/png": "[encoded data removed]"
          },
          "metadata": {
            "needs_background": "light"
          }
        }
      ]
    },
    {
      "cell_type": "code",
      "source": [
        "m=lm.coef_"
      ],
      "metadata": {
        "id": "8b-4VYsI6U_r"
      },
      "execution_count": 532,
      "outputs": []
    },
    {
      "cell_type": "code",
      "source": [
        "b=lm.intercept_\n"
      ],
      "metadata": {
        "id": "T3RVXXfC6YQ4"
      },
      "execution_count": 533,
      "outputs": []
    },
    {
      "cell_type": "code",
      "source": [
        "#Testing for 7 years of education\n",
        "Salary = b + m * 7\n",
        "Salary"
      ],
      "metadata": {
        "colab": {
          "base_uri": "https://localhost:8080/"
        },
        "id": "boqYafPB6cwz",
        "outputId": "4f2231cf-a9ae-4587-84df-a0c505bff00c"
      },
      "execution_count": 534,
      "outputs": [
        {
          "output_type": "execute_result",
          "data": {
            "text/plain": [
              "array([[76708.00890491]])"
            ]
          },
          "metadata": {},
          "execution_count": 534
        }
      ]
    },
    {
      "cell_type": "code",
      "source": [
        "lm.predict([[7]])"
      ],
      "metadata": {
        "id": "-PxfafgQ6leG",
        "outputId": "c27bbf81-4b3d-4123-987a-f3305e4db6b0",
        "colab": {
          "base_uri": "https://localhost:8080/"
        }
      },
      "execution_count": 535,
      "outputs": [
        {
          "output_type": "stream",
          "name": "stderr",
          "text": [
            "/usr/local/lib/python3.7/dist-packages/sklearn/base.py:451: UserWarning: X does not have valid feature names, but LinearRegression was fitted with feature names\n",
            "  \"X does not have valid feature names, but\"\n"
          ]
        },
        {
          "output_type": "execute_result",
          "data": {
            "text/plain": [
              "array([[76708.00890491]])"
            ]
          },
          "metadata": {},
          "execution_count": 535
        }
      ]
    },
    {
      "cell_type": "code",
      "source": [
        "assert Salary == lm.predict([[7]])"
      ],
      "metadata": {
        "colab": {
          "base_uri": "https://localhost:8080/"
        },
        "id": "El_sKe8SOv2t",
        "outputId": "60b59a35-67c7-4305-a0be-5eeb850e4f4a"
      },
      "execution_count": 536,
      "outputs": [
        {
          "output_type": "stream",
          "name": "stderr",
          "text": [
            "/usr/local/lib/python3.7/dist-packages/sklearn/base.py:451: UserWarning: X does not have valid feature names, but LinearRegression was fitted with feature names\n",
            "  \"X does not have valid feature names, but\"\n"
          ]
        }
      ]
    },
    {
      "cell_type": "markdown",
      "source": [
        "THREE PARAMETERS VS SALARY\n"
      ],
      "metadata": {
        "id": "AobDEdPhQ56I"
      }
    },
    {
      "cell_type": "code",
      "source": [
        "sns.scatterplot(data=Testset, x=\"CombinedParameter\",y=\"Salary\")"
      ],
      "metadata": {
        "id": "_7SsDxGnRAyz",
        "colab": {
          "base_uri": "https://localhost:8080/",
          "height": 296
        },
        "outputId": "c0684a64-0e59-40f1-c655-a41653fc961b"
      },
      "execution_count": 537,
      "outputs": [
        {
          "output_type": "execute_result",
          "data": {
            "text/plain": [
              "<matplotlib.axes._subplots.AxesSubplot at 0x7fb241484090>"
            ]
          },
          "metadata": {},
          "execution_count": 537
        },
        {
          "output_type": "display_data",
          "data": {
            "text/plain": [
              "<Figure size 432x288 with 1 Axes>"
            ],
            "image/png": "[encoded data removed]"
          },
          "metadata": {
            "needs_background": "light"
          }
        }
      ]
    },
    {
      "cell_type": "code",
      "source": [
        "# Conducting Linear Regression method and inserting data using the fit method\n",
        "# Fit function adjusts weights according to data values so that better accuracy can be achieved\n",
        "\n",
        "lm = linear_model.LinearRegression(). fit(Training[[\"CombinedParameter\"]],Training[[\"Salary\"]])\n",
        "# Using the predict method\n",
        "result=lm.predict (Testset[[\"CombinedParameter\"]])"
      ],
      "metadata": {
        "id": "Z_wc2KLcSjYR"
      },
      "execution_count": 538,
      "outputs": []
    },
    {
      "cell_type": "code",
      "source": [
        "# Creating a new column to place contents of the result variable\n",
        "Testset[\"Predicted Salary Using Sklearn method\"]= result\n",
        "Testset[\"Prediction Error Using Sklearn method\"] = Testset[\"Salary\"]-Testset[\"Predicted Salary Using Sklearn method\"]\n",
        "Testset.head()"
      ],
      "metadata": {
        "colab": {
          "base_uri": "https://localhost:8080/",
          "height": 267
        },
        "id": "Jiu9LOuASu5G",
        "outputId": "0b27209e-c456-459d-e8f2-4e92cb0397f8"
      },
      "execution_count": 539,
      "outputs": [
        {
          "output_type": "execute_result",
          "data": {
            "text/plain": [
              "         Age  YearsExperience  Years of Education  QYearsExperience  \\\n",
              "0  52.140804        12.334416                   5        152.137818   \n",
              "1  64.786541        19.326810                   6        373.525601   \n",
              "2  59.640944        15.145311                   9        229.380445   \n",
              "3  63.429867        12.420940                   9        154.279761   \n",
              "4  62.516159        17.763009                   9        315.524506   \n",
              "\n",
              "   CombinedParameter        Salary  Predicted Salary Using Sklearn method  \\\n",
              "0         322.376099  67718.299941                           76702.372100   \n",
              "1         504.680106  89566.268364                           76537.936140   \n",
              "2         673.076293  83377.404328                           76386.044862   \n",
              "3         682.657267  70718.231374                           76377.402941   \n",
              "4         722.512514  70341.387584                           76341.454001   \n",
              "\n",
              "   Prediction Error Using Sklearn method  \n",
              "0                           -8984.072160  \n",
              "1                           13028.332224  \n",
              "2                            6991.359467  \n",
              "3                           -5659.171567  \n",
              "4                           -6000.066417  "
            ],
            "text/html": [
              "\n",
              "  <div id=\"df-b7741dd1-7020-4f0d-8ec9-349c984588c8\">\n",
              "    <div class=\"colab-df-container\">\n",
              "      <div>\n",
              "<style scoped>\n",
              "    .dataframe tbody tr th:only-of-type {\n",
              "        vertical-align: middle;\n",
              "    }\n",
              "\n",
              "    .dataframe tbody tr th {\n",
              "        vertical-align: top;\n",
              "    }\n",
              "\n",
              "    .dataframe thead th {\n",
              "        text-align: right;\n",
              "    }\n",
              "</style>\n",
              "<table border=\"1\" class=\"dataframe\">\n",
              "  <thead>\n",
              "    <tr style=\"text-align: right;\">\n",
              "      <th></th>\n",
              "      <th>Age</th>\n",
              "      <th>YearsExperience</th>\n",
              "      <th>Years of Education</th>\n",
              "      <th>QYearsExperience</th>\n",
              "      <th>CombinedParameter</th>\n",
              "      <th>Salary</th>\n",
              "      <th>Predicted Salary Using Sklearn method</th>\n",
              "      <th>Prediction Error Using Sklearn method</th>\n",
              "    </tr>\n",
              "  </thead>\n",
              "  <tbody>\n",
              "    <tr>\n",
              "      <th>0</th>\n",
              "      <td>52.140804</td>\n",
              "      <td>12.334416</td>\n",
              "      <td>5</td>\n",
              "      <td>152.137818</td>\n",
              "      <td>322.376099</td>\n",
              "      <td>67718.299941</td>\n",
              "      <td>76702.372100</td>\n",
              "      <td>-8984.072160</td>\n",
              "    </tr>\n",
              "    <tr>\n",
              "      <th>1</th>\n",
              "      <td>64.786541</td>\n",
              "      <td>19.326810</td>\n",
              "      <td>6</td>\n",
              "      <td>373.525601</td>\n",
              "      <td>504.680106</td>\n",
              "      <td>89566.268364</td>\n",
              "      <td>76537.936140</td>\n",
              "      <td>13028.332224</td>\n",
              "    </tr>\n",
              "    <tr>\n",
              "      <th>2</th>\n",
              "      <td>59.640944</td>\n",
              "      <td>15.145311</td>\n",
              "      <td>9</td>\n",
              "      <td>229.380445</td>\n",
              "      <td>673.076293</td>\n",
              "      <td>83377.404328</td>\n",
              "      <td>76386.044862</td>\n",
              "      <td>6991.359467</td>\n",
              "    </tr>\n",
              "    <tr>\n",
              "      <th>3</th>\n",
              "      <td>63.429867</td>\n",
              "      <td>12.420940</td>\n",
              "      <td>9</td>\n",
              "      <td>154.279761</td>\n",
              "      <td>682.657267</td>\n",
              "      <td>70718.231374</td>\n",
              "      <td>76377.402941</td>\n",
              "      <td>-5659.171567</td>\n",
              "    </tr>\n",
              "    <tr>\n",
              "      <th>4</th>\n",
              "      <td>62.516159</td>\n",
              "      <td>17.763009</td>\n",
              "      <td>9</td>\n",
              "      <td>315.524506</td>\n",
              "      <td>722.512514</td>\n",
              "      <td>70341.387584</td>\n",
              "      <td>76341.454001</td>\n",
              "      <td>-6000.066417</td>\n",
              "    </tr>\n",
              "  </tbody>\n",
              "</table>\n",
              "</div>\n",
              "      <button class=\"colab-df-convert\" onclick=\"convertToInteractive('df-b7741dd1-7020-4f0d-8ec9-349c984588c8')\"\n",
              "              title=\"Convert this dataframe to an interactive table.\"\n",
              "              style=\"display:none;\">\n",
              "        \n",
              "  <svg xmlns=\"http://www.w3.org/2000/svg\" height=\"24px\"viewBox=\"0 0 24 24\"\n",
              "       width=\"24px\">\n",
              "    <path d=\"M0 0h24v24H0V0z\" fill=\"none\"/>\n",
              "    <path d=\"M18.56 5.44l.94 2.06.94-2.06 2.06-.94-2.06-.94-.94-2.06-.94 2.06-2.06.94zm-11 1L8.5 8.5l.94-2.06 2.06-.94-2.06-.94L8.5 2.5l-.94 2.06-2.06.94zm10 10l.94 2.06.94-2.06 2.06-.94-2.06-.94-.94-2.06-.94 2.06-2.06.94z\"/><path d=\"M17.41 7.96l-1.37-1.37c-.4-.4-.92-.59-1.43-.59-.52 0-1.04.2-1.43.59L10.3 9.45l-7.72 7.72c-.78.78-.78 2.05 0 2.83L4 21.41c.39.39.9.59 1.41.59.51 0 1.02-.2 1.41-.59l7.78-7.78 2.81-2.81c.8-.78.8-2.07 0-2.86zM5.41 20L4 18.59l7.72-7.72 1.47 1.35L5.41 20z\"/>\n",
              "  </svg>\n",
              "      </button>\n",
              "      \n",
              "  <style>\n",
              "    .colab-df-container {\n",
              "      display:flex;\n",
              "      flex-wrap:wrap;\n",
              "      gap: 12px;\n",
              "    }\n",
              "\n",
              "    .colab-df-convert {\n",
              "      background-color: #E8F0FE;\n",
              "      border: none;\n",
              "      border-radius: 50%;\n",
              "      cursor: pointer;\n",
              "      display: none;\n",
              "      fill: #1967D2;\n",
              "      height: 32px;\n",
              "      padding: 0 0 0 0;\n",
              "      width: 32px;\n",
              "    }\n",
              "\n",
              "    .colab-df-convert:hover {\n",
              "      background-color: #E2EBFA;\n",
              "      box-shadow: 0px 1px 2px rgba(60, 64, 67, 0.3), 0px 1px 3px 1px rgba(60, 64, 67, 0.15);\n",
              "      fill: #174EA6;\n",
              "    }\n",
              "\n",
              "    [theme=dark] .colab-df-convert {\n",
              "      background-color: #3B4455;\n",
              "      fill: #D2E3FC;\n",
              "    }\n",
              "\n",
              "    [theme=dark] .colab-df-convert:hover {\n",
              "      background-color: #434B5C;\n",
              "      box-shadow: 0px 1px 3px 1px rgba(0, 0, 0, 0.15);\n",
              "      filter: drop-shadow(0px 1px 2px rgba(0, 0, 0, 0.3));\n",
              "      fill: #FFFFFF;\n",
              "    }\n",
              "  </style>\n",
              "\n",
              "      <script>\n",
              "        const buttonEl =\n",
              "          document.querySelector('#df-b7741dd1-7020-4f0d-8ec9-349c984588c8 button.colab-df-convert');\n",
              "        buttonEl.style.display =\n",
              "          google.colab.kernel.accessAllowed ? 'block' : 'none';\n",
              "\n",
              "        async function convertToInteractive(key) {\n",
              "          const element = document.querySelector('#df-b7741dd1-7020-4f0d-8ec9-349c984588c8');\n",
              "          const dataTable =\n",
              "            await google.colab.kernel.invokeFunction('convertToInteractive',\n",
              "                                                     [key], {});\n",
              "          if (!dataTable) return;\n",
              "\n",
              "          const docLinkHtml = 'Like what you see? Visit the ' +\n",
              "            '<a target=\"_blank\" href=https://colab.research.google.com/notebooks/data_table.ipynb>data table notebook</a>'\n",
              "            + ' to learn more about interactive tables.';\n",
              "          element.innerHTML = '';\n",
              "          dataTable['output_type'] = 'display_data';\n",
              "          await google.colab.output.renderOutput(dataTable, element);\n",
              "          const docLink = document.createElement('div');\n",
              "          docLink.innerHTML = docLinkHtml;\n",
              "          element.appendChild(docLink);\n",
              "        }\n",
              "      </script>\n",
              "    </div>\n",
              "  </div>\n",
              "  "
            ]
          },
          "metadata": {},
          "execution_count": 539
        }
      ]
    },
    {
      "cell_type": "code",
      "source": [
        "plt.scatter(Testset[\"CombinedParameter\"], Testset[\"Salary\"])\n",
        "plt.plot(Testset[\"CombinedParameter\"],Testset[\"Predicted Salary Using Sklearn method\"], color=\"orange\")\n",
        "plt.ylabel(\"Salary\")\n",
        "plt.xlabel(\"Combined Parameters\")\n",
        "plt.title(\"Linear Regression: Combined Parameters vS Corresponding Salary \")"
      ],
      "metadata": {
        "colab": {
          "base_uri": "https://localhost:8080/",
          "height": 312
        },
        "id": "VfNzF5AfS6Ea",
        "outputId": "4f263410-aded-43b5-85b4-469039af3e8a"
      },
      "execution_count": 540,
      "outputs": [
        {
          "output_type": "execute_result",
          "data": {
            "text/plain": [
              "Text(0.5, 1.0, 'Linear Regression: Combined Parameters vS Corresponding Salary ')"
            ]
          },
          "metadata": {},
          "execution_count": 540
        },
        {
          "output_type": "display_data",
          "data": {
            "text/plain": [
              "<Figure size 432x288 with 1 Axes>"
            ],
            "image/png": "[encoded data removed]"
          },
          "metadata": {
            "needs_background": "light"
          }
        }
      ]
    },
    {
      "cell_type": "code",
      "source": [
        "m=lm.coef_"
      ],
      "metadata": {
        "id": "n4kFMoHcTOBh"
      },
      "execution_count": 541,
      "outputs": []
    },
    {
      "cell_type": "code",
      "source": [
        "b=lm.intercept_"
      ],
      "metadata": {
        "id": "zWw23MkqTSEm"
      },
      "execution_count": 542,
      "outputs": []
    },
    {
      "cell_type": "code",
      "source": [
        "#Testing for 7 years of education\n",
        "Salary = b + m * 7\n",
        "Salary"
      ],
      "metadata": {
        "colab": {
          "base_uri": "https://localhost:8080/"
        },
        "id": "T_xbMfwjTUhL",
        "outputId": "2340eab9-4c22-4758-b873-ec6d4a686c43"
      },
      "execution_count": 543,
      "outputs": [
        {
          "output_type": "execute_result",
          "data": {
            "text/plain": [
              "array([[76986.8374412]])"
            ]
          },
          "metadata": {},
          "execution_count": 543
        }
      ]
    },
    {
      "cell_type": "code",
      "source": [
        "lm.predict([[7]])"
      ],
      "metadata": {
        "colab": {
          "base_uri": "https://localhost:8080/"
        },
        "id": "3bSNTsNETXp-",
        "outputId": "9d657e78-fce3-4047-befa-0377c2dab693"
      },
      "execution_count": 544,
      "outputs": [
        {
          "output_type": "stream",
          "name": "stderr",
          "text": [
            "/usr/local/lib/python3.7/dist-packages/sklearn/base.py:451: UserWarning: X does not have valid feature names, but LinearRegression was fitted with feature names\n",
            "  \"X does not have valid feature names, but\"\n"
          ]
        },
        {
          "output_type": "execute_result",
          "data": {
            "text/plain": [
              "array([[76986.8374412]])"
            ]
          },
          "metadata": {},
          "execution_count": 544
        }
      ]
    },
    {
      "cell_type": "code",
      "source": [
        "assert Salary == lm.predict([[7]])"
      ],
      "metadata": {
        "colab": {
          "base_uri": "https://localhost:8080/"
        },
        "id": "VUlJjmCqTcck",
        "outputId": "e5604454-3be0-49ff-cf6a-b7903fa48acb"
      },
      "execution_count": 545,
      "outputs": [
        {
          "output_type": "stream",
          "name": "stderr",
          "text": [
            "/usr/local/lib/python3.7/dist-packages/sklearn/base.py:451: UserWarning: X does not have valid feature names, but LinearRegression was fitted with feature names\n",
            "  \"X does not have valid feature names, but\"\n"
          ]
        }
      ]
    },
    {
      "cell_type": "markdown",
      "source": [
        "QUADRATIC YEARS OF EDUCATION VS SALARY\n"
      ],
      "metadata": {
        "id": "rE7TVUxnUHRp"
      }
    },
    {
      "cell_type": "code",
      "source": [
        "sns.scatterplot(data=Testset, x=\"QYearsExperience\",y=\"Salary\")"
      ],
      "metadata": {
        "colab": {
          "base_uri": "https://localhost:8080/",
          "height": 296
        },
        "id": "F6-Ke-eHUcpT",
        "outputId": "53573dce-0cfa-48a3-f62b-2efd0c7fadf5"
      },
      "execution_count": 546,
      "outputs": [
        {
          "output_type": "execute_result",
          "data": {
            "text/plain": [
              "<matplotlib.axes._subplots.AxesSubplot at 0x7fb2413c53d0>"
            ]
          },
          "metadata": {},
          "execution_count": 546
        },
        {
          "output_type": "display_data",
          "data": {
            "text/plain": [
              "<Figure size 432x288 with 1 Axes>"
            ],
            "image/png": "[encoded data removed]"
          },
          "metadata": {
            "needs_background": "light"
          }
        }
      ]
    },
    {
      "cell_type": "code",
      "source": [
        "# Conducting Linear Regression method and inserting data using the fit method\n",
        "# Fit function adjusts weights according to data values so that better accuracy can be achieved\n",
        "\n",
        "lm = linear_model.LinearRegression(). fit(Training[[\"QYearsExperience\"]],Training[[\"Salary\"]])\n",
        "# Using the predict method\n",
        "result=lm.predict (Testset[[\"QYearsExperience\"]])"
      ],
      "metadata": {
        "id": "bS3unTVFUm76"
      },
      "execution_count": 547,
      "outputs": []
    },
    {
      "cell_type": "code",
      "source": [
        "# Creating a new column to place contents of the result variable\n",
        "Testset[\"Predicted Salary Using Sklearn method\"]= result\n",
        "Testset[\"Prediction Error Using Sklearn method\"] = Testset[\"Salary\"]-Testset[\"Predicted Salary Using Sklearn method\"]\n",
        "Testset.head()"
      ],
      "metadata": {
        "colab": {
          "base_uri": "https://localhost:8080/",
          "height": 267
        },
        "id": "3LNfjdyoUskH",
        "outputId": "3a83d60f-35b0-45aa-855d-bff478430979"
      },
      "execution_count": 548,
      "outputs": [
        {
          "output_type": "execute_result",
          "data": {
            "text/plain": [
              "         Age  YearsExperience  Years of Education  QYearsExperience  \\\n",
              "0  52.140804        12.334416                   5        152.137818   \n",
              "1  64.786541        19.326810                   6        373.525601   \n",
              "2  59.640944        15.145311                   9        229.380445   \n",
              "3  63.429867        12.420940                   9        154.279761   \n",
              "4  62.516159        17.763009                   9        315.524506   \n",
              "\n",
              "   CombinedParameter        Salary  Predicted Salary Using Sklearn method  \\\n",
              "0         322.376099  67718.299941                           79034.647296   \n",
              "1         504.680106  89566.268364                           74345.850059   \n",
              "2         673.076293  83377.404328                           77398.716852   \n",
              "3         682.657267  70718.231374                           78989.282857   \n",
              "4         722.512514  70341.387584                           75574.261893   \n",
              "\n",
              "   Prediction Error Using Sklearn method  \n",
              "0                          -11316.347356  \n",
              "1                           15220.418304  \n",
              "2                            5978.687476  \n",
              "3                           -8271.051483  \n",
              "4                           -5232.874309  "
            ],
            "text/html": [
              "\n",
              "  <div id=\"df-13af3f14-b428-4b18-b888-715aeada61bb\">\n",
              "    <div class=\"colab-df-container\">\n",
              "      <div>\n",
              "<style scoped>\n",
              "    .dataframe tbody tr th:only-of-type {\n",
              "        vertical-align: middle;\n",
              "    }\n",
              "\n",
              "    .dataframe tbody tr th {\n",
              "        vertical-align: top;\n",
              "    }\n",
              "\n",
              "    .dataframe thead th {\n",
              "        text-align: right;\n",
              "    }\n",
              "</style>\n",
              "<table border=\"1\" class=\"dataframe\">\n",
              "  <thead>\n",
              "    <tr style=\"text-align: right;\">\n",
              "      <th></th>\n",
              "      <th>Age</th>\n",
              "      <th>YearsExperience</th>\n",
              "      <th>Years of Education</th>\n",
              "      <th>QYearsExperience</th>\n",
              "      <th>CombinedParameter</th>\n",
              "      <th>Salary</th>\n",
              "      <th>Predicted Salary Using Sklearn method</th>\n",
              "      <th>Prediction Error Using Sklearn method</th>\n",
              "    </tr>\n",
              "  </thead>\n",
              "  <tbody>\n",
              "    <tr>\n",
              "      <th>0</th>\n",
              "      <td>52.140804</td>\n",
              "      <td>12.334416</td>\n",
              "      <td>5</td>\n",
              "      <td>152.137818</td>\n",
              "      <td>322.376099</td>\n",
              "      <td>67718.299941</td>\n",
              "      <td>79034.647296</td>\n",
              "      <td>-11316.347356</td>\n",
              "    </tr>\n",
              "    <tr>\n",
              "      <th>1</th>\n",
              "      <td>64.786541</td>\n",
              "      <td>19.326810</td>\n",
              "      <td>6</td>\n",
              "      <td>373.525601</td>\n",
              "      <td>504.680106</td>\n",
              "      <td>89566.268364</td>\n",
              "      <td>74345.850059</td>\n",
              "      <td>15220.418304</td>\n",
              "    </tr>\n",
              "    <tr>\n",
              "      <th>2</th>\n",
              "      <td>59.640944</td>\n",
              "      <td>15.145311</td>\n",
              "      <td>9</td>\n",
              "      <td>229.380445</td>\n",
              "      <td>673.076293</td>\n",
              "      <td>83377.404328</td>\n",
              "      <td>77398.716852</td>\n",
              "      <td>5978.687476</td>\n",
              "    </tr>\n",
              "    <tr>\n",
              "      <th>3</th>\n",
              "      <td>63.429867</td>\n",
              "      <td>12.420940</td>\n",
              "      <td>9</td>\n",
              "      <td>154.279761</td>\n",
              "      <td>682.657267</td>\n",
              "      <td>70718.231374</td>\n",
              "      <td>78989.282857</td>\n",
              "      <td>-8271.051483</td>\n",
              "    </tr>\n",
              "    <tr>\n",
              "      <th>4</th>\n",
              "      <td>62.516159</td>\n",
              "      <td>17.763009</td>\n",
              "      <td>9</td>\n",
              "      <td>315.524506</td>\n",
              "      <td>722.512514</td>\n",
              "      <td>70341.387584</td>\n",
              "      <td>75574.261893</td>\n",
              "      <td>-5232.874309</td>\n",
              "    </tr>\n",
              "  </tbody>\n",
              "</table>\n",
              "</div>\n",
              "      <button class=\"colab-df-convert\" onclick=\"convertToInteractive('df-13af3f14-b428-4b18-b888-715aeada61bb')\"\n",
              "              title=\"Convert this dataframe to an interactive table.\"\n",
              "              style=\"display:none;\">\n",
              "        \n",
              "  <svg xmlns=\"http://www.w3.org/2000/svg\" height=\"24px\"viewBox=\"0 0 24 24\"\n",
              "       width=\"24px\">\n",
              "    <path d=\"M0 0h24v24H0V0z\" fill=\"none\"/>\n",
              "    <path d=\"M18.56 5.44l.94 2.06.94-2.06 2.06-.94-2.06-.94-.94-2.06-.94 2.06-2.06.94zm-11 1L8.5 8.5l.94-2.06 2.06-.94-2.06-.94L8.5 2.5l-.94 2.06-2.06.94zm10 10l.94 2.06.94-2.06 2.06-.94-2.06-.94-.94-2.06-.94 2.06-2.06.94z\"/><path d=\"M17.41 7.96l-1.37-1.37c-.4-.4-.92-.59-1.43-.59-.52 0-1.04.2-1.43.59L10.3 9.45l-7.72 7.72c-.78.78-.78 2.05 0 2.83L4 21.41c.39.39.9.59 1.41.59.51 0 1.02-.2 1.41-.59l7.78-7.78 2.81-2.81c.8-.78.8-2.07 0-2.86zM5.41 20L4 18.59l7.72-7.72 1.47 1.35L5.41 20z\"/>\n",
              "  </svg>\n",
              "      </button>\n",
              "      \n",
              "  <style>\n",
              "    .colab-df-container {\n",
              "      display:flex;\n",
              "      flex-wrap:wrap;\n",
              "      gap: 12px;\n",
              "    }\n",
              "\n",
              "    .colab-df-convert {\n",
              "      background-color: #E8F0FE;\n",
              "      border: none;\n",
              "      border-radius: 50%;\n",
              "      cursor: pointer;\n",
              "      display: none;\n",
              "      fill: #1967D2;\n",
              "      height: 32px;\n",
              "      padding: 0 0 0 0;\n",
              "      width: 32px;\n",
              "    }\n",
              "\n",
              "    .colab-df-convert:hover {\n",
              "      background-color: #E2EBFA;\n",
              "      box-shadow: 0px 1px 2px rgba(60, 64, 67, 0.3), 0px 1px 3px 1px rgba(60, 64, 67, 0.15);\n",
              "      fill: #174EA6;\n",
              "    }\n",
              "\n",
              "    [theme=dark] .colab-df-convert {\n",
              "      background-color: #3B4455;\n",
              "      fill: #D2E3FC;\n",
              "    }\n",
              "\n",
              "    [theme=dark] .colab-df-convert:hover {\n",
              "      background-color: #434B5C;\n",
              "      box-shadow: 0px 1px 3px 1px rgba(0, 0, 0, 0.15);\n",
              "      filter: drop-shadow(0px 1px 2px rgba(0, 0, 0, 0.3));\n",
              "      fill: #FFFFFF;\n",
              "    }\n",
              "  </style>\n",
              "\n",
              "      <script>\n",
              "        const buttonEl =\n",
              "          document.querySelector('#df-13af3f14-b428-4b18-b888-715aeada61bb button.colab-df-convert');\n",
              "        buttonEl.style.display =\n",
              "          google.colab.kernel.accessAllowed ? 'block' : 'none';\n",
              "\n",
              "        async function convertToInteractive(key) {\n",
              "          const element = document.querySelector('#df-13af3f14-b428-4b18-b888-715aeada61bb');\n",
              "          const dataTable =\n",
              "            await google.colab.kernel.invokeFunction('convertToInteractive',\n",
              "                                                     [key], {});\n",
              "          if (!dataTable) return;\n",
              "\n",
              "          const docLinkHtml = 'Like what you see? Visit the ' +\n",
              "            '<a target=\"_blank\" href=https://colab.research.google.com/notebooks/data_table.ipynb>data table notebook</a>'\n",
              "            + ' to learn more about interactive tables.';\n",
              "          element.innerHTML = '';\n",
              "          dataTable['output_type'] = 'display_data';\n",
              "          await google.colab.output.renderOutput(dataTable, element);\n",
              "          const docLink = document.createElement('div');\n",
              "          docLink.innerHTML = docLinkHtml;\n",
              "          element.appendChild(docLink);\n",
              "        }\n",
              "      </script>\n",
              "    </div>\n",
              "  </div>\n",
              "  "
            ]
          },
          "metadata": {},
          "execution_count": 548
        }
      ]
    },
    {
      "cell_type": "code",
      "source": [
        "plt.scatter(Testset[\"QYearsExperience\"], Testset[\"Salary\"])\n",
        "plt.plot(Testset[\"QYearsExperience\"],Testset[\"Predicted Salary Using Sklearn method\"], color=\"maroon\")\n",
        "plt.ylabel(\"Salary\")\n",
        "plt.xlabel(\"Quadratic Years of experience\")\n",
        "plt.title(\"Linear Regression: Years of experience vS Corresponding Salary \")"
      ],
      "metadata": {
        "colab": {
          "base_uri": "https://localhost:8080/",
          "height": 312
        },
        "id": "1WvyWAmnUw3f",
        "outputId": "cee84397-fab6-4732-d7a0-0674c47063f2"
      },
      "execution_count": 549,
      "outputs": [
        {
          "output_type": "execute_result",
          "data": {
            "text/plain": [
              "Text(0.5, 1.0, 'Linear Regression: Years of experience vS Corresponding Salary ')"
            ]
          },
          "metadata": {},
          "execution_count": 549
        },
        {
          "output_type": "display_data",
          "data": {
            "text/plain": [
              "<Figure size 432x288 with 1 Axes>"
            ],
            "image/png": "[encoded data removed]"
          },
          "metadata": {
            "needs_background": "light"
          }
        }
      ]
    },
    {
      "cell_type": "code",
      "source": [
        "m=lm.coef_"
      ],
      "metadata": {
        "id": "Q-V5BVl7U6UW"
      },
      "execution_count": 550,
      "outputs": []
    },
    {
      "cell_type": "code",
      "source": [
        "b=lm.intercept_"
      ],
      "metadata": {
        "id": "oV4FG04pU9j5"
      },
      "execution_count": 551,
      "outputs": []
    },
    {
      "cell_type": "code",
      "source": [
        "#Testing for 7 years of education\n",
        "Salary = b + m * 7\n",
        "Salary"
      ],
      "metadata": {
        "colab": {
          "base_uri": "https://localhost:8080/"
        },
        "id": "aIJoW4JiVAEE",
        "outputId": "6a276d6a-2e0e-4939-e26d-2971a7429a6c"
      },
      "execution_count": 552,
      "outputs": [
        {
          "output_type": "execute_result",
          "data": {
            "text/plain": [
              "array([[82108.53779696]])"
            ]
          },
          "metadata": {},
          "execution_count": 552
        }
      ]
    },
    {
      "cell_type": "code",
      "source": [
        "lm.predict([[7]])"
      ],
      "metadata": {
        "colab": {
          "base_uri": "https://localhost:8080/"
        },
        "id": "or2Vtv1OVC-Q",
        "outputId": "b7d343bf-b20a-46aa-fdfc-1db9b2179bc1"
      },
      "execution_count": 553,
      "outputs": [
        {
          "output_type": "stream",
          "name": "stderr",
          "text": [
            "/usr/local/lib/python3.7/dist-packages/sklearn/base.py:451: UserWarning: X does not have valid feature names, but LinearRegression was fitted with feature names\n",
            "  \"X does not have valid feature names, but\"\n"
          ]
        },
        {
          "output_type": "execute_result",
          "data": {
            "text/plain": [
              "array([[82108.53779696]])"
            ]
          },
          "metadata": {},
          "execution_count": 553
        }
      ]
    },
    {
      "cell_type": "code",
      "source": [
        "assert Salary == lm.predict([[7]])"
      ],
      "metadata": {
        "colab": {
          "base_uri": "https://localhost:8080/"
        },
        "id": "FDpkF6ARVGPV",
        "outputId": "a7aa87e8-5052-4451-fe65-ebd3ad8df532"
      },
      "execution_count": 554,
      "outputs": [
        {
          "output_type": "stream",
          "name": "stderr",
          "text": [
            "/usr/local/lib/python3.7/dist-packages/sklearn/base.py:451: UserWarning: X does not have valid feature names, but LinearRegression was fitted with feature names\n",
            "  \"X does not have valid feature names, but\"\n"
          ]
        }
      ]
    }
  ],
  "metadata": {
    "colab": {
      "collapsed_sections": [],
      "name": "Salary_Prediction_AIE_B_Project_Sem1.ipynb",
      "provenance": [],
      "include_colab_link": true
    },
    "kernelspec": {
      "display_name": "Python 3",
      "name": "python3"
    },
    "language_info": {
      "name": "python"
    }
  },
  "nbformat": 4,
  "nbformat_minor": 0
}